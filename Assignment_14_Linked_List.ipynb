{
  "nbformat": 4,
  "nbformat_minor": 0,
  "metadata": {
    "colab": {
      "provenance": [],
      "include_colab_link": true
    },
    "kernelspec": {
      "name": "python3",
      "display_name": "Python 3"
    },
    "language_info": {
      "name": "python"
    }
  },
  "cells": [
    {
      "cell_type": "markdown",
      "metadata": {
        "id": "view-in-github",
        "colab_type": "text"
      },
      "source": [
        "<a href=\"https://colab.research.google.com/github/dinesh1190/Array-Assignment---/blob/main/Assignment_14_Linked_List.ipynb\" target=\"_parent\"><img src=\"https://colab.research.google.com/assets/colab-badge.svg\" alt=\"Open In Colab\"/></a>"
      ]
    },
    {
      "cell_type": "markdown",
      "source": [
        "#Solution for question 1"
      ],
      "metadata": {
        "id": "JJOmJAv1ClWA"
      }
    },
    {
      "cell_type": "code",
      "execution_count": null,
      "metadata": {
        "colab": {
          "base_uri": "https://localhost:8080/"
        },
        "id": "f3fneLm995ap",
        "outputId": "b6433646-8ba2-4252-9369-2c61530d34cb"
      },
      "outputs": [
        {
          "output_type": "stream",
          "name": "stdout",
          "text": [
            "1 3 4 "
          ]
        }
      ],
      "source": [
        "class Node:\n",
        "    def __init__(self, value):\n",
        "        self.data = value\n",
        "        self.next = None\n",
        "\n",
        "def detectAndRemoveLoop(head):\n",
        "    if head is None or head.next is None:\n",
        "        return\n",
        "\n",
        "    slow = head.next\n",
        "    fast = head.next.next\n",
        "\n",
        "    # Detect loop\n",
        "    while fast and fast.next:\n",
        "        if slow == fast:\n",
        "            break\n",
        "        slow = slow.next\n",
        "        fast = fast.next.next\n",
        "    # No loop found\n",
        "    if slow != fast:\n",
        "        return\n",
        "\n",
        "    # Move slow pointer to head\n",
        "    slow = head\n",
        "\n",
        "    # Find the last node of the loop\n",
        "    while slow.next != fast.next:\n",
        "        slow = slow.next\n",
        "        fast = fast.next\n",
        "\n",
        "    # Remove the loop\n",
        "    fast.next = None\n",
        "\n",
        "# Create a linked list with a loop\n",
        "def createLinkedList(arr, n, x):\n",
        "    if n == 0:\n",
        "        return None\n",
        "    head = Node(arr[0])\n",
        "    curr = head\n",
        "\n",
        "    # Create the linked list\n",
        "    for i in range(1, n):\n",
        "        curr.next = Node(arr[i])\n",
        "        curr = curr.next\n",
        "\n",
        "    # Create the loop\n",
        "    if x != 0:\n",
        "        temp = head\n",
        "        for i in range(1, x):\n",
        "            temp = temp.next\n",
        "        curr.next = temp\n",
        "\n",
        "    return head\n",
        "\n",
        "# Example usage\n",
        "arr = [1, 3, 4]\n",
        "n = len(arr)\n",
        "x = 2\n",
        "head = createLinkedList(arr, n, x)\n",
        "\n",
        "detectAndRemoveLoop(head)\n",
        "\n",
        "# Print the modified linked list\n",
        "temp = head\n",
        "while temp:\n",
        "    print(temp.data, end=\" \")\n",
        "    temp = temp.next"
      ]
    },
    {
      "cell_type": "markdown",
      "source": [
        "#Solution for question 2"
      ],
      "metadata": {
        "id": "MpALiKS7Crn7"
      }
    },
    {
      "cell_type": "code",
      "source": [
        "class Node:\n",
        "    def __init__(self, data):\n",
        "        self.data = data\n",
        "        self.next = None\n",
        "\n",
        "def addOne(head):\n",
        "    # Step 1: Reverse the linked list\n",
        "    prev = None\n",
        "    current = head\n",
        "    while current:\n",
        "        next_node = current.next\n",
        "        current.next = prev\n",
        "        prev = current\n",
        "        current = next_node\n",
        "    head = prev\n",
        "\n",
        "    # Step 2: Traverse the reversed linked list and add 1\n",
        "    current = head\n",
        "    carry = 1\n",
        "    while current:\n",
        "        total = current.data + carry\n",
        "        current.data = total % 10\n",
        "        carry = total // 10\n",
        "        if carry == 0:\n",
        "            break\n",
        "        current = current.next\n",
        "\n",
        "    # Step 3: Reverse the modified linked list back to its original form\n",
        "    prev = None\n",
        "    current = head\n",
        "    while current:\n",
        "        next_node = current.next\n",
        "        current.next = prev\n",
        "        prev = current\n",
        "        current = next_node\n",
        "    head = prev\n",
        "\n",
        "    return head\n",
        "\n",
        "# Create the linked list\n",
        "head = Node(4)\n",
        "head.next = Node(5)\n",
        "head.next.next = Node(6)\n",
        "# Add 1 to the number represented by the linked list\n",
        "head = addOne(head)\n",
        "\n",
        "# Print the resulting linked list\n",
        "current = head\n",
        "while current:\n",
        "    print(current.data, end='')\n",
        "    current = current.next"
      ],
      "metadata": {
        "colab": {
          "base_uri": "https://localhost:8080/"
        },
        "id": "wCN2oM2e-cTV",
        "outputId": "e24fad1e-5ae5-48e2-e1c6-508afaf86411"
      },
      "execution_count": null,
      "outputs": [
        {
          "output_type": "stream",
          "name": "stdout",
          "text": [
            "457"
          ]
        }
      ]
    },
    {
      "cell_type": "markdown",
      "source": [
        "#Solution for question 3"
      ],
      "metadata": {
        "id": "hkkAXSJSCtik"
      }
    },
    {
      "cell_type": "code",
      "source": [
        "class Node:\n",
        "    def __init__(self, data):\n",
        "        self.data = data\n",
        "        self.next = None\n",
        "        self.bottom = None\n",
        "\n",
        "\n",
        "def merge(a, b):\n",
        "    if a is None:\n",
        "        return b\n",
        "    if b is None:\n",
        "        return a\n",
        "\n",
        "    result = None\n",
        "    if a.data < b.data:\n",
        "        result = a\n",
        "        result.bottom = merge(a.bottom, b)\n",
        "    else:\n",
        "        result = b\n",
        "        result.bottom = merge(a, b.bottom)\n",
        "\n",
        "    return result\n",
        "def flatten(root):\n",
        "    if root is None or root.next is None:\n",
        "        return root\n",
        "\n",
        "    root.next = flatten(root.next)\n",
        "\n",
        "    root = merge(root, root.next)\n",
        "\n",
        "    return root\n",
        "\n",
        "\n",
        "def printList(root):\n",
        "    curr = root\n",
        "    while curr:\n",
        "        print(curr.data, end=\"-> \")\n",
        "        curr = curr.bottom\n",
        "    print(\"None\")\n",
        "root = Node(5)\n",
        "root.next = Node(10)\n",
        "root.next.next = Node(19)\n",
        "root.next.next.next = Node(28)\n",
        "\n",
        "root.bottom = Node(7)\n",
        "root.bottom.bottom = Node(8)\n",
        "root.bottom.bottom.bottom = Node(30)\n",
        "\n",
        "root.next.bottom = Node(20)\n",
        "\n",
        "root.next.next.bottom = Node(22)\n",
        "root.next.next.next.bottom = Node(35)\n",
        "\n",
        "root.next.next.bottom.bottom = Node(50)\n",
        "\n",
        "root.next.next.next.bottom.bottom = Node(40)\n",
        "root.next.next.next.bottom.bottom.bottom = Node(45)\n",
        "\n",
        "# Flatten the linked list\n",
        "result = flatten(root)\n",
        "printList(result)"
      ],
      "metadata": {
        "colab": {
          "base_uri": "https://localhost:8080/"
        },
        "id": "-niyf7_Y_kmR",
        "outputId": "842d6e8e-e6b9-4782-a542-7250d29926a5"
      },
      "execution_count": null,
      "outputs": [
        {
          "output_type": "stream",
          "name": "stdout",
          "text": [
            "5-> 7-> 8-> 10-> 19-> 20-> 22-> 28-> 30-> 35-> 40-> 45-> 50-> None\n"
          ]
        }
      ]
    },
    {
      "cell_type": "markdown",
      "source": [
        "#Solution for question 4"
      ],
      "metadata": {
        "id": "lqj4DVtFCwY1"
      }
    },
    {
      "cell_type": "code",
      "source": [
        "class Node:\n",
        "    def __init__(self, data):\n",
        "        self.data = data\n",
        "        self.next = None\n",
        "        self.random = None\n",
        "\n",
        "def copyRandomList(head):\n",
        "    if not head:\n",
        "        return None\n",
        "\n",
        "    # Step 1: Create new nodes and insert them between current node and its next node\n",
        "    curr = head\n",
        "    while curr:\n",
        "        new_node = Node(curr.data)\n",
        "        new_node.next = curr.next\n",
        "        curr.next = new_node\n",
        "        curr = new_node.next\n",
        "    # Step 2: Set random pointers of new nodes\n",
        "    curr = head\n",
        "    while curr:\n",
        "        if curr.random:\n",
        "            curr.next.random = curr.random.next\n",
        "        curr = curr.next.next\n",
        "\n",
        "    # Step 3: Separate the new list from the original list\n",
        "    new_head = head.next\n",
        "    curr = head\n",
        "    new_curr = new_head\n",
        "    while curr:\n",
        "        curr.next = curr.next.next\n",
        "        if new_curr.next:\n",
        "            new_curr.next = new_curr.next.next\n",
        "        curr = curr.next\n",
        "        new_curr = new_curr.next\n",
        "\n",
        "    return new_head"
      ],
      "metadata": {
        "id": "WyQ__t-4_-mG"
      },
      "execution_count": null,
      "outputs": []
    },
    {
      "cell_type": "code",
      "source": [
        "head = Node(1)\n",
        "node2 = Node(2)\n",
        "node3 = Node(3)\n",
        "node4 = Node(4)\n",
        "\n",
        "head.next = node2\n",
        "node2.next = node3\n",
        "node3.next = node4\n",
        "\n",
        "# Set the random pointers\n",
        "head.random = node2\n",
        "node2.random = node4\n",
        "\n",
        "# Copy the linked list\n",
        "new_head = copyRandomList(head)\n",
        "\n",
        "# Print the values of the new list\n",
        "curr = new_head\n",
        "while curr:\n",
        "    print(curr.data)\n",
        "    curr = curr.next"
      ],
      "metadata": {
        "colab": {
          "base_uri": "https://localhost:8080/"
        },
        "id": "vBj0eTCrAkk4",
        "outputId": "39ca2708-ec9b-4f42-cf0e-363df862083c"
      },
      "execution_count": null,
      "outputs": [
        {
          "output_type": "stream",
          "name": "stdout",
          "text": [
            "1\n",
            "2\n",
            "3\n",
            "4\n"
          ]
        }
      ]
    },
    {
      "cell_type": "markdown",
      "source": [
        "#Solution for question 5"
      ],
      "metadata": {
        "id": "huVa5GDsCySG"
      }
    },
    {
      "cell_type": "code",
      "source": [
        "class ListNode:\n",
        "    def __init__(self, val=0, next=None):\n",
        "        self.val = val\n",
        "        self.next = next\n",
        "\n",
        "def oddEvenList(head):\n",
        "    if not head or not head.next:\n",
        "        return head\n",
        "\n",
        "    oddHead = oddTail = None\n",
        "    evenHead = evenTail = None\n",
        "    curr = head\n",
        "    index = 1\n",
        "\n",
        "    while curr:\n",
        "        if index % 2 != 0:  # odd index\n",
        "            if not oddHead:\n",
        "                oddHead = oddTail = curr\n",
        "            else:\n",
        "                oddTail.next = curr\n",
        "                oddTail = curr\n",
        "        else:  # even index\n",
        "            if not evenHead:\n",
        "                evenHead = evenTail = curr\n",
        "            else:\n",
        "                evenTail.next = curr\n",
        "                evenTail = curr\n",
        "\n",
        "        curr = curr.next\n",
        "        index += 1\n",
        "\n",
        "    if not oddHead:\n",
        "        return evenHead\n",
        "\n",
        "    oddTail.next = evenHead\n",
        "    if evenTail:\n",
        "        evenTail.next = None\n",
        "\n",
        "    return oddHead"
      ],
      "metadata": {
        "id": "6Brh2sHGAnuV"
      },
      "execution_count": null,
      "outputs": []
    },
    {
      "cell_type": "code",
      "source": [
        "head = ListNode(1)\n",
        "head.next = ListNode(2)\n",
        "head.next.next = ListNode(3)\n",
        "head.next.next.next = ListNode(4)\n",
        "head.next.next.next.next = ListNode(5)\n",
        "\n",
        "reordered = oddEvenList(head)\n",
        "result = []\n",
        "curr = reordered\n",
        "while curr:\n",
        "    result.append(curr.val)\n",
        "    curr = curr.next\n",
        "\n",
        "print(result)"
      ],
      "metadata": {
        "colab": {
          "base_uri": "https://localhost:8080/"
        },
        "id": "TY6H0yWJBBL8",
        "outputId": "2c1ff42b-4655-4c0b-868d-d9b0246b6636"
      },
      "execution_count": null,
      "outputs": [
        {
          "output_type": "stream",
          "name": "stdout",
          "text": [
            "[1, 3, 5, 2, 4]\n"
          ]
        }
      ]
    },
    {
      "cell_type": "markdown",
      "source": [
        "#Solution for question 6"
      ],
      "metadata": {
        "id": "3aGhNTnkC0Rk"
      }
    },
    {
      "cell_type": "code",
      "source": [
        "class Node:\n",
        "    def __init__(self, data=None):\n",
        "        self.data = data\n",
        "        self.next = None\n",
        "\n",
        "def leftShiftLinkedList(head, k):\n",
        "    if head is None or head.next is None or k == 0:\n",
        "        return head\n",
        "\n",
        "    # Find the (k+1)th node from the beginning\n",
        "    curr = head\n",
        "    for _ in range(k):\n",
        "        if curr is None:\n",
        "            return head\n",
        "        curr = curr.next\n",
        "\n",
        "    # Store the (k+1)th node as newHead and kth node as newTail\n",
        "    newHead = curr\n",
        "    newTail = curr\n",
        "    # Traverse to the end of the list\n",
        "    while newTail.next is not None:\n",
        "        newTail = newTail.next\n",
        "\n",
        "    # Make the (k+1)th node as the new head\n",
        "    newTail.next = head\n",
        "    head = newHead.next\n",
        "\n",
        "    # Set the next pointer of the kth node to NULL\n",
        "    newHead.next = None\n",
        "\n",
        "    return head"
      ],
      "metadata": {
        "id": "hAeX1SooBJPE"
      },
      "execution_count": null,
      "outputs": []
    },
    {
      "cell_type": "code",
      "source": [
        "head = Node(2)\n",
        "head.next = Node(4)\n",
        "head.next.next = Node(7)\n",
        "head.next.next.next = Node(8)\n",
        "head.next.next.next.next = Node(9)\n",
        "\n",
        "# Perform left shift by 3 nodes\n",
        "k = 3\n",
        "newHead = leftShiftLinkedList(head, k)\n",
        "\n",
        "# Print the shifted linked list\n",
        "current = newHead\n",
        "while current is not None:\n",
        "    print(current.data, end=\" \")\n",
        "    current = current.next"
      ],
      "metadata": {
        "colab": {
          "base_uri": "https://localhost:8080/"
        },
        "id": "r_Db9zCjB3vB",
        "outputId": "dcac2a47-676c-440a-cdd5-2a992cf9ed60"
      },
      "execution_count": null,
      "outputs": [
        {
          "output_type": "stream",
          "name": "stdout",
          "text": [
            "9 2 4 7 8 "
          ]
        }
      ]
    },
    {
      "cell_type": "markdown",
      "source": [
        "#Solution for question 7"
      ],
      "metadata": {
        "id": "bIkrbi7BC3TW"
      }
    },
    {
      "cell_type": "code",
      "source": [
        "class ListNode:\n",
        "    def __init__(self, val=0, next=None):\n",
        "        self.val = val\n",
        "        self.next = next\n",
        "\n",
        "def nextLargerNodes(head):\n",
        "    # Step 1: Initialize an empty stack and an empty answer list\n",
        "    stack = []\n",
        "    answer = []\n",
        "\n",
        "    # Step 2: Convert the linked list to an array in reversed order\n",
        "    arr = []\n",
        "    while head:\n",
        "        arr.append(head.val)\n",
        "        head = head.next\n",
        "    arr.reverse()\n",
        "\n",
        "    # Step 3: Iterate through the array from left to right\n",
        "    for i, num in enumerate(arr):\n",
        "        while stack and arr[stack[-1]] <= num:\n",
        "            stack.pop()\n",
        "    # If there is no greater node, set the answer to 0\n",
        "        answer.append(arr[stack[-1]]) if stack else answer.append(0)\n",
        "\n",
        "        # Push the index of the current node onto the stack\n",
        "        stack.append(i)\n",
        "\n",
        "    # Step 4: Reverse the answer array to restore the original order\n",
        "    answer.reverse()\n",
        "\n",
        "    # Step 5: Set the remaining elements in the answer array to 0\n",
        "    while stack:\n",
        "        answer[stack.pop()] = 0\n",
        "\n",
        "    # Step 6: Return the answer array\n",
        "    return answer"
      ],
      "metadata": {
        "id": "GxIGXGouB4ug"
      },
      "execution_count": null,
      "outputs": []
    },
    {
      "cell_type": "code",
      "source": [
        "head = ListNode(2)\n",
        "head.next = ListNode(1)\n",
        "head.next.next = ListNode(5)\n",
        "\n",
        "result = nextLargerNodes(head)\n",
        "print(result)"
      ],
      "metadata": {
        "colab": {
          "base_uri": "https://localhost:8080/"
        },
        "id": "yFT9-DQQCMiM",
        "outputId": "1876708c-3803-4107-fd4e-e6cb6aafefe7"
      },
      "execution_count": null,
      "outputs": [
        {
          "output_type": "stream",
          "name": "stdout",
          "text": [
            "[0, 5, 0]\n"
          ]
        }
      ]
    },
    {
      "cell_type": "markdown",
      "source": [
        "#Solution for question 8"
      ],
      "metadata": {
        "id": "vlbiLgnxC5Az"
      }
    },
    {
      "cell_type": "code",
      "source": [
        "class ListNode:\n",
        "    def __init__(self, val=0, next=None):\n",
        "        self.val = val\n",
        "        self.next = next\n",
        "\n",
        "def removeZeroSumSublists(head):\n",
        "    dummy = ListNode(0)  # Create a dummy node to handle the case when the head itself is part of the sequence\n",
        "    dummy.next = head\n",
        "    prev = dummy\n",
        "    curr = head\n",
        "\n",
        "    while curr:\n",
        "        # Calculate the running sum starting from the current node\n",
        "        running_sum = 0\n",
        "        while curr:\n",
        "            running_sum += curr.val\n",
        "\n",
        "            # If the running sum becomes zero, skip the sequence by updating the next pointer of the previous node\n",
        "            if running_sum == 0:\n",
        "                prev.next = curr.next\n",
        "                break\n",
        "            curr = curr.next\n",
        "\n",
        "        # If the running sum didn't become zero, move the pointers forward\n",
        "        if running_sum != 0:\n",
        "            prev = prev.next\n",
        "            curr = prev.next\n",
        "\n",
        "    return dummy.next"
      ],
      "metadata": {
        "id": "P2ckfFcXCOIx"
      },
      "execution_count": null,
      "outputs": []
    },
    {
      "cell_type": "code",
      "source": [
        "head = ListNode(1)\n",
        "head.next = ListNode(2)\n",
        "head.next.next = ListNode(-3)\n",
        "head.next.next.next = ListNode(3)\n",
        "head.next.next.next.next = ListNode(1)\n",
        "\n",
        "result = removeZeroSumSublists(head)\n",
        "\n",
        "# Print the resulting linked list\n",
        "while result:\n",
        "    print(result.val, end=' ')\n",
        "    result = result.next"
      ],
      "metadata": {
        "colab": {
          "base_uri": "https://localhost:8080/"
        },
        "id": "PMfzRPt8CfqO",
        "outputId": "c8b2307e-f01d-4b97-a1e2-d0a922a9f8c9"
      },
      "execution_count": null,
      "outputs": [
        {
          "output_type": "stream",
          "name": "stdout",
          "text": [
            "1 "
          ]
        }
      ]
    },
    {
      "cell_type": "code",
      "source": [],
      "metadata": {
        "id": "VGxysJa8CiNm"
      },
      "execution_count": null,
      "outputs": []
    }
  ]
}