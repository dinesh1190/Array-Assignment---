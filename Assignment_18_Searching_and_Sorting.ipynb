{
  "nbformat": 4,
  "nbformat_minor": 0,
  "metadata": {
    "colab": {
      "provenance": [],
      "include_colab_link": true
    },
    "kernelspec": {
      "name": "python3",
      "display_name": "Python 3"
    },
    "language_info": {
      "name": "python"
    }
  },
  "cells": [
    {
      "cell_type": "markdown",
      "metadata": {
        "id": "view-in-github",
        "colab_type": "text"
      },
      "source": [
        "<a href=\"https://colab.research.google.com/github/dinesh1190/Array-Assignment---/blob/main/Assignment_18_Searching_and_Sorting.ipynb\" target=\"_parent\"><img src=\"https://colab.research.google.com/assets/colab-badge.svg\" alt=\"Open In Colab\"/></a>"
      ]
    },
    {
      "cell_type": "markdown",
      "source": [
        "#Solution for question 1"
      ],
      "metadata": {
        "id": "hNkgok4iN4BM"
      }
    },
    {
      "cell_type": "code",
      "execution_count": null,
      "metadata": {
        "id": "du8P1ZeJLoUh"
      },
      "outputs": [],
      "source": [
        "def merge_intervals(intervals):\n",
        "    if not intervals:\n",
        "        return []\n",
        "\n",
        "    intervals.sort(key=lambda x: x[0])  # Sort intervals based on start time\n",
        "    merged = [intervals[0]]  # Initialize result list with the first interval\n",
        "\n",
        "    for interval in intervals[1:]:\n",
        "        if interval[0] <= merged[-1][1]:  # Check for overlap\n",
        "            merged[-1][1] = max(merged[-1][1], interval[1])  # Merge intervals\n",
        "        else:\n",
        "            merged.append(interval)  # Add non-overlapping interval to the result list\n",
        "\n",
        "    return merged"
      ]
    },
    {
      "cell_type": "code",
      "source": [
        "intervals = [[1, 3], [2, 6], [8, 10], [15, 18]]\n",
        "merged_intervals = merge_intervals(intervals)\n",
        "print(merged_intervals)"
      ],
      "metadata": {
        "colab": {
          "base_uri": "https://localhost:8080/"
        },
        "id": "8LhJr2ZrMFhX",
        "outputId": "f540211c-ced6-44e1-8dfd-835fd1427ad1"
      },
      "execution_count": null,
      "outputs": [
        {
          "output_type": "stream",
          "name": "stdout",
          "text": [
            "[[1, 6], [8, 10], [15, 18]]\n"
          ]
        }
      ]
    },
    {
      "cell_type": "markdown",
      "source": [
        "#Solution for question 2"
      ],
      "metadata": {
        "id": "8ApqGrDqOP6J"
      }
    },
    {
      "cell_type": "code",
      "source": [
        "def sortColors(nums):\n",
        "    low = mid = 0\n",
        "    high = len(nums) - 1\n",
        "\n",
        "    while mid <= high:\n",
        "        if nums[mid] == 0:\n",
        "            nums[low], nums[mid] = nums[mid], nums[low]\n",
        "            low += 1\n",
        "            mid += 1\n",
        "        elif nums[mid] == 1:\n",
        "            mid += 1\n",
        "        else:\n",
        "            nums[mid], nums[high] = nums[high], nums[mid]\n",
        "            high -= 1\n",
        "\n",
        "    return nums"
      ],
      "metadata": {
        "id": "fThR48ssMHgR"
      },
      "execution_count": null,
      "outputs": []
    },
    {
      "cell_type": "code",
      "source": [
        "nums = [2, 0, 2, 1, 1, 0]\n",
        "sorted_nums = sortColors(nums)\n",
        "print(sorted_nums)"
      ],
      "metadata": {
        "colab": {
          "base_uri": "https://localhost:8080/"
        },
        "id": "N4J6XkJGMKrQ",
        "outputId": "2408f433-ae75-4afe-8127-94b35ebef024"
      },
      "execution_count": null,
      "outputs": [
        {
          "output_type": "stream",
          "name": "stdout",
          "text": [
            "[0, 0, 1, 1, 2, 2]\n"
          ]
        }
      ]
    },
    {
      "cell_type": "markdown",
      "source": [
        "#Solution for question 3"
      ],
      "metadata": {
        "id": "uBTbOI36ORXN"
      }
    },
    {
      "cell_type": "code",
      "source": [
        "def isBadVersion(version):\n",
        "    # Implementation of the isBadVersion() API\n",
        "    bad_versions = [False, False, False, True, True]\n",
        "    return bad_versions[version - 1]\n",
        "\n",
        "def firstBadVersion(n):\n",
        "    left = 1\n",
        "    right = n\n",
        "\n",
        "    while left < right:\n",
        "        mid = left + (right - left) // 2\n",
        "        if isBadVersion(mid):\n",
        "            right = mid\n",
        "        else:\n",
        "            left = mid + 1\n",
        "\n",
        "    return left\n",
        "\n",
        "# Test example\n",
        "n = 5\n",
        "bad = 4\n",
        "first_bad = firstBadVersion(n)\n",
        "print(f\"The first bad version is: {first_bad}\")"
      ],
      "metadata": {
        "colab": {
          "base_uri": "https://localhost:8080/"
        },
        "id": "hWUMcTz5MMpO",
        "outputId": "4549c935-ee6c-4738-b23f-78d726c526a7"
      },
      "execution_count": null,
      "outputs": [
        {
          "output_type": "stream",
          "name": "stdout",
          "text": [
            "The first bad version is: 4\n"
          ]
        }
      ]
    },
    {
      "cell_type": "markdown",
      "source": [
        "#Solution for question 4"
      ],
      "metadata": {
        "id": "ihHdS2JKOS_z"
      }
    },
    {
      "cell_type": "code",
      "source": [
        "def countingSort(nums, maxVal, digit):\n",
        "    count = [0] * (maxVal + 1)\n",
        "    sortedArr = [0] * len(nums)\n",
        "\n",
        "    for num in nums:\n",
        "        count[(num // digit) % 10] += 1\n",
        "\n",
        "    for i in range(1, len(count)):\n",
        "        count[i] += count[i - 1]\n",
        "\n",
        "    for i in range(len(nums) - 1, -1, -1):\n",
        "        digitVal = (nums[i] // digit) % 10\n",
        "        sortedArr[count[digitVal] - 1] = nums[i]\n",
        "        count[digitVal] -= 1\n",
        "\n",
        "    return sortedArr\n",
        "def maximumGap(nums):\n",
        "    if len(nums) < 2:\n",
        "        return 0\n",
        "\n",
        "    maxNum = max(nums)\n",
        "    maxDiff = 0\n",
        "\n",
        "    digit = 1\n",
        "    while maxNum // digit > 0:\n",
        "        nums = countingSort(nums, maxNum, digit)\n",
        "        digit *= 10\n",
        "\n",
        "    for i in range(1, len(nums)):\n",
        "        maxDiff = max(maxDiff, nums[i] - nums[i - 1])\n",
        "\n",
        "    return maxDiff"
      ],
      "metadata": {
        "id": "xbnmwG_wMyIi"
      },
      "execution_count": null,
      "outputs": []
    },
    {
      "cell_type": "code",
      "source": [
        "nums = [3, 6, 9, 1]\n",
        "print(maximumGap(nums))"
      ],
      "metadata": {
        "colab": {
          "base_uri": "https://localhost:8080/"
        },
        "id": "TVdgOipJM6yc",
        "outputId": "6b205cb1-88f3-48cf-acca-2bb1f4924d0e"
      },
      "execution_count": null,
      "outputs": [
        {
          "output_type": "stream",
          "name": "stdout",
          "text": [
            "3\n"
          ]
        }
      ]
    },
    {
      "cell_type": "markdown",
      "source": [
        "#Solution for question 5"
      ],
      "metadata": {
        "id": "ODyLMnJROUcV"
      }
    },
    {
      "cell_type": "code",
      "source": [
        "def containsDuplicate(nums):\n",
        "    seen = set()\n",
        "    for num in nums:\n",
        "        if num in seen:\n",
        "            return True\n",
        "        seen.add(num)\n",
        "    return False"
      ],
      "metadata": {
        "id": "0hOS3-k7NGsf"
      },
      "execution_count": null,
      "outputs": []
    },
    {
      "cell_type": "code",
      "source": [
        "nums = [1, 2, 3, 4]\n",
        "print(containsDuplicate(nums))"
      ],
      "metadata": {
        "colab": {
          "base_uri": "https://localhost:8080/"
        },
        "id": "188WNlm4NYQ0",
        "outputId": "e34a9bd8-3d5f-4f2c-c03b-cd28115fe4a2"
      },
      "execution_count": null,
      "outputs": [
        {
          "output_type": "stream",
          "name": "stdout",
          "text": [
            "False\n"
          ]
        }
      ]
    },
    {
      "cell_type": "markdown",
      "source": [
        "#Solution for question 6"
      ],
      "metadata": {
        "id": "nbWQwZnGOWC7"
      }
    },
    {
      "cell_type": "code",
      "source": [
        "def findMinArrowShots(points):\n",
        "    points.sort(key=lambda x: x[1])  # Sort balloons based on end positions\n",
        "    arrows = 0\n",
        "    if not points:\n",
        "        return arrows\n",
        "\n",
        "    arrowPos = points[0][1]\n",
        "    for i in range(1, len(points)):\n",
        "        if points[i][0] > arrowPos:\n",
        "            arrows += 1\n",
        "            arrowPos = points[i][1]\n",
        "\n",
        "    return arrows + 1"
      ],
      "metadata": {
        "id": "2RTGJzmuNacN"
      },
      "execution_count": null,
      "outputs": []
    },
    {
      "cell_type": "code",
      "source": [
        "points = [[10, 16], [2, 8], [1, 6], [7, 12]]\n",
        "print(findMinArrowShots(points))"
      ],
      "metadata": {
        "colab": {
          "base_uri": "https://localhost:8080/"
        },
        "id": "xhN9pPtVNc-m",
        "outputId": "f48462a3-212f-48d7-ad2e-7301c160f62b"
      },
      "execution_count": null,
      "outputs": [
        {
          "output_type": "stream",
          "name": "stdout",
          "text": [
            "2\n"
          ]
        }
      ]
    },
    {
      "cell_type": "markdown",
      "source": [
        "#Solution for question 7"
      ],
      "metadata": {
        "id": "Ubm-FDuiOX5N"
      }
    },
    {
      "cell_type": "code",
      "source": [
        "def lengthOfLIS(nums):\n",
        "    n = len(nums)\n",
        "    dp = [1] * n\n",
        "\n",
        "    for i in range(1, n):\n",
        "        for j in range(i):\n",
        "            if nums[i] > nums[j]:\n",
        "                dp[i] = max(dp[i], dp[j] + 1)\n",
        "\n",
        "    return max(dp)"
      ],
      "metadata": {
        "id": "H4iQDJWVNewl"
      },
      "execution_count": null,
      "outputs": []
    },
    {
      "cell_type": "code",
      "source": [
        "nums = [10, 9, 2, 5, 3, 7, 101, 18]\n",
        "print(lengthOfLIS(nums))"
      ],
      "metadata": {
        "colab": {
          "base_uri": "https://localhost:8080/"
        },
        "id": "lyi2sZQ9NsAG",
        "outputId": "76c11150-2c2f-4b1b-aeb2-6397a1977065"
      },
      "execution_count": null,
      "outputs": [
        {
          "output_type": "stream",
          "name": "stdout",
          "text": [
            "4\n"
          ]
        }
      ]
    },
    {
      "cell_type": "markdown",
      "source": [
        "#Solution for question 8"
      ],
      "metadata": {
        "id": "7nAbzCmQOZPP"
      }
    },
    {
      "cell_type": "code",
      "source": [
        "def find132pattern(nums):\n",
        "    stack = []\n",
        "    s3 = float('-inf')\n",
        "\n",
        "    for i in range(len(nums) - 1, -1, -1):\n",
        "        if nums[i] > s3:\n",
        "            return True\n",
        "        while stack and stack[-1] < nums[i]:\n",
        "            s3 = stack.pop()\n",
        "        stack.append(nums[i])\n",
        "\n",
        "    return False"
      ],
      "metadata": {
        "id": "WlwtzorINutO"
      },
      "execution_count": null,
      "outputs": []
    },
    {
      "cell_type": "code",
      "source": [
        "nums = [1, 2, 3, 4]\n",
        "print(find132pattern(nums))"
      ],
      "metadata": {
        "colab": {
          "base_uri": "https://localhost:8080/"
        },
        "id": "ToTJgs82N0qQ",
        "outputId": "79de30e8-4964-4440-a12b-e129e47446d1"
      },
      "execution_count": null,
      "outputs": [
        {
          "output_type": "stream",
          "name": "stdout",
          "text": [
            "True\n"
          ]
        }
      ]
    },
    {
      "cell_type": "code",
      "source": [],
      "metadata": {
        "id": "7ZHMhdV9N25G"
      },
      "execution_count": null,
      "outputs": []
    }
  ]
}