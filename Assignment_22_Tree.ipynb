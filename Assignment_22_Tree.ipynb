{
  "nbformat": 4,
  "nbformat_minor": 0,
  "metadata": {
    "colab": {
      "provenance": [],
      "include_colab_link": true
    },
    "kernelspec": {
      "name": "python3",
      "display_name": "Python 3"
    },
    "language_info": {
      "name": "python"
    }
  },
  "cells": [
    {
      "cell_type": "markdown",
      "metadata": {
        "id": "view-in-github",
        "colab_type": "text"
      },
      "source": [
        "<a href=\"https://colab.research.google.com/github/dinesh1190/Array-Assignment---/blob/main/Assignment_22_Tree.ipynb\" target=\"_parent\"><img src=\"https://colab.research.google.com/assets/colab-badge.svg\" alt=\"Open In Colab\"/></a>"
      ]
    },
    {
      "cell_type": "markdown",
      "source": [
        "#Solution for question 1"
      ],
      "metadata": {
        "id": "t1EtgZrubKhz"
      }
    },
    {
      "cell_type": "code",
      "source": [
        "def printDLL(head):\n",
        "    current = head\n",
        "    while current:\n",
        "        print(current.data, end=\" \")\n",
        "        current = current.right\n",
        "\n",
        "# Create the binary tree\n",
        "root = Node(4)\n",
        "root.left = Node(2)\n",
        "root.right = Node(6)\n",
        "root.left.left = Node(1)\n",
        "root.left.right = Node(3)\n",
        "root.right.left = Node(5)\n",
        "root.right.right = Node(7)\n",
        "\n",
        "# Convert binary tree to DLL\n",
        "head = binaryTreeToDLL(root)\n",
        "\n",
        "# Print the DLL\n",
        "printDLL(head)"
      ],
      "metadata": {
        "colab": {
          "base_uri": "https://localhost:8080/"
        },
        "id": "40mbrstZaB2J",
        "outputId": "4c200405-84e2-401e-e5ad-2be0f603d1b0"
      },
      "execution_count": null,
      "outputs": [
        {
          "output_type": "stream",
          "name": "stdout",
          "text": [
            "1 2 3 4 5 6 7 "
          ]
        }
      ]
    },
    {
      "cell_type": "markdown",
      "source": [
        "#Solution for question 2"
      ],
      "metadata": {
        "id": "CjRA4W77bPj3"
      }
    },
    {
      "cell_type": "code",
      "source": [
        "class Node:\n",
        "    def __init__(self, data):\n",
        "        self.data = data\n",
        "        self.left = None\n",
        "        self.right = None\n",
        "\n",
        "def flipBinaryTreeUtil(root):\n",
        "    if root is None or (root.left is None and root.right is None):\n",
        "        return root\n",
        "\n",
        "    flipped_left = flipBinaryTreeUtil(root.left)\n",
        "\n",
        "    temp = root.right\n",
        "    if root.left:\n",
        "        root.left.right = root\n",
        "    root.left = None\n",
        "    root.right = flipped_left\n",
        "\n",
        "    return flipBinaryTreeUtil(temp)\n",
        "\n",
        "def flipBinaryTree(root):\n",
        "    return flipBinaryTreeUtil(root)"
      ],
      "metadata": {
        "id": "ixKO3hYlavmj"
      },
      "execution_count": null,
      "outputs": []
    },
    {
      "cell_type": "code",
      "source": [
        "def printBinaryTree(root):\n",
        "    if root is None:\n",
        "        return\n",
        "    print(root.data, end=\" \")\n",
        "    printBinaryTree(root.left)\n",
        "    printBinaryTree(root.right)\n",
        "\n",
        "# Create the binary tree\n",
        "root = Node(1)\n",
        "root.left = Node(2)\n",
        "root.right = Node(3)\n",
        "root.left.left = Node(4)\n",
        "root.left.right = Node(5)\n",
        "root.right.left = Node(6)\n",
        "root.right.right = Node(7)\n",
        "\n",
        "# Flip the binary tree\n",
        "flipped_root = flipBinaryTree(root)\n",
        "\n",
        "# Print the flipped binary tree\n",
        "printBinaryTree(flipped_root)"
      ],
      "metadata": {
        "colab": {
          "base_uri": "https://localhost:8080/"
        },
        "id": "p4Np3oaFaLmc",
        "outputId": "81860f70-b4ac-4cc0-cab2-0c0194d6143b"
      },
      "execution_count": null,
      "outputs": [
        {
          "output_type": "stream",
          "name": "stdout",
          "text": [
            "7 "
          ]
        }
      ]
    },
    {
      "cell_type": "markdown",
      "source": [
        "#Solution for question 3"
      ],
      "metadata": {
        "id": "jFcXHUyYbTwB"
      }
    },
    {
      "cell_type": "code",
      "source": [
        "class Node:\n",
        "    def __init__(self, data):\n",
        "        self.data = data\n",
        "        self.left = None\n",
        "        self.right = None\n",
        "\n",
        "def printRootToLeafPaths(root):\n",
        "    if root is None:\n",
        "        return\n",
        "\n",
        "    stack = [(root, \"\")]\n",
        "\n",
        "    while stack:\n",
        "        current, path = stack.pop()\n",
        "\n",
        "        path += str(current.data)\n",
        "\n",
        "        if current.left is None and current.right is None:\n",
        "            print(path)\n",
        "\n",
        "        if current.right:\n",
        "            stack.append((current.right, path + \"->\" + str(current.right.data)))\n",
        "        if current.left:\n",
        "            stack.append((current.left, path + \"->\" + str(current.left.data)))\n",
        "\n",
        "# Create the binary tree\n",
        "root = Node(6)\n",
        "root.left = Node(3)\n",
        "root.right = Node(5)\n",
        "root.left.left = Node(2)\n",
        "root.left.right = Node(5)\n",
        "root.right.right = Node(4)\n",
        "root.left.right.left = Node(7)\n",
        "root.left.right.right = Node(4)\n",
        "\n",
        "# Print all root-to-leaf paths\n",
        "printRootToLeafPaths(root)"
      ],
      "metadata": {
        "colab": {
          "base_uri": "https://localhost:8080/"
        },
        "id": "UUz-FYsJanga",
        "outputId": "88daa925-4f00-4247-bf70-ca3e4b00e50a"
      },
      "execution_count": null,
      "outputs": [
        {
          "output_type": "stream",
          "name": "stdout",
          "text": [
            "6->33->22\n",
            "6->33->55->77\n",
            "6->33->55->44\n",
            "6->55->44\n"
          ]
        }
      ]
    },
    {
      "cell_type": "markdown",
      "source": [
        "#Solution for question 4"
      ],
      "metadata": {
        "id": "wCmKWr75bVEQ"
      }
    },
    {
      "cell_type": "code",
      "source": [
        "def isSameTree(preorder, inorder, postorder):\n",
        "    if not (preorder and inorder and postorder):\n",
        "        return True\n",
        "\n",
        "    if len(preorder) != len(inorder) or len(preorder) != len(postorder):\n",
        "        return False\n",
        "\n",
        "    if set(preorder) != set(inorder) or set(preorder) != set(postorder):\n",
        "        return False\n",
        "\n",
        "    if len(preorder) == 1:\n",
        "        return preorder[0] == inorder[0] == postorder[0]\n",
        "\n",
        "    root = preorder[0]\n",
        "    root_index = inorder.index(root)\n",
        "\n",
        "    left_inorder = inorder[:root_index]\n",
        "    right_inorder = inorder[root_index+1:]\n",
        "\n",
        "    left_preorder = preorder[1:root_index+1]\n",
        "    right_preorder = preorder[root_index+1:]\n",
        "\n",
        "    left_postorder = postorder[:root_index]\n",
        "    right_postorder = postorder[root_index:-1]\n",
        "\n",
        "    return isSameTree(left_preorder, left_inorder, left_postorder) and \\\n",
        "           isSameTree(right_preorder, right_inorder, right_postorder)\n",
        "\n",
        "# Example input\n",
        "inorder = [4, 2, 5, 1, 3]\n",
        "preorder = [1, 2, 4, 5, 3]\n",
        "postorder = [4, 5, 2, 3, 1]\n",
        "\n",
        "# Check if they represent the same tree\n",
        "print(isSameTree(preorder, inorder, postorder))"
      ],
      "metadata": {
        "colab": {
          "base_uri": "https://localhost:8080/"
        },
        "id": "gUeF48aSblbJ",
        "outputId": "3f17e2f2-97aa-4138-ffef-05996c1a9d76"
      },
      "execution_count": null,
      "outputs": [
        {
          "output_type": "stream",
          "name": "stdout",
          "text": [
            "True\n"
          ]
        }
      ]
    },
    {
      "cell_type": "code",
      "source": [],
      "metadata": {
        "id": "PW6ha8L8bon0"
      },
      "execution_count": null,
      "outputs": []
    }
  ]
}