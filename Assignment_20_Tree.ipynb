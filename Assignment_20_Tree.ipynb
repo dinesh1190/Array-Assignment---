{
  "nbformat": 4,
  "nbformat_minor": 0,
  "metadata": {
    "colab": {
      "provenance": [],
      "include_colab_link": true
    },
    "kernelspec": {
      "name": "python3",
      "display_name": "Python 3"
    },
    "language_info": {
      "name": "python"
    }
  },
  "cells": [
    {
      "cell_type": "markdown",
      "metadata": {
        "id": "view-in-github",
        "colab_type": "text"
      },
      "source": [
        "<a href=\"https://colab.research.google.com/github/dinesh1190/Array-Assignment---/blob/main/Assignment_20_Tree.ipynb\" target=\"_parent\"><img src=\"https://colab.research.google.com/assets/colab-badge.svg\" alt=\"Open In Colab\"/></a>"
      ]
    },
    {
      "cell_type": "markdown",
      "source": [
        "#Solution for question 1"
      ],
      "metadata": {
        "id": "ZC8Urz3UZPa1"
      }
    },
    {
      "cell_type": "code",
      "execution_count": null,
      "metadata": {
        "colab": {
          "base_uri": "https://localhost:8080/"
        },
        "id": "mTMQYidQX2Xm",
        "outputId": "9716b9e4-dbd7-4772-ff79-234f04d77e6a"
      },
      "outputs": [
        {
          "output_type": "stream",
          "name": "stdout",
          "text": [
            "28\n"
          ]
        }
      ],
      "source": [
        "class Node:\n",
        "    def __init__(self, value):\n",
        "        self.value = value\n",
        "        self.left = None\n",
        "        self.right = None\n",
        "\n",
        "def maxSubtreeSum(root):\n",
        "    if root is None:\n",
        "        return 0\n",
        "\n",
        "    left_sum = maxSubtreeSum(root.left)\n",
        "    right_sum = maxSubtreeSum(root.right)\n",
        "\n",
        "    current_sum = root.value + left_sum + right_sum\n",
        "\n",
        "    if current_sum > maxSubtreeSum.max_sum:\n",
        "        maxSubtreeSum.max_sum = current_sum\n",
        "    return current_sum\n",
        "\n",
        "def findMaxSubtreeSum(root):\n",
        "    maxSubtreeSum.max_sum = float('-inf')\n",
        "    maxSubtreeSum(root)\n",
        "    return maxSubtreeSum.max_sum\n",
        "\n",
        "# Create the binary tree\n",
        "root = Node(1)\n",
        "root.left = Node(2)\n",
        "root.right = Node(3)\n",
        "root.left.left = Node(4)\n",
        "root.left.right = Node(5)\n",
        "root.right.left = Node(6)\n",
        "root.right.right = Node(7)\n",
        "\n",
        "# Find the maximum subtree sum\n",
        "max_sum = findMaxSubtreeSum(root)\n",
        "print(max_sum)  # Output: 28"
      ]
    },
    {
      "cell_type": "markdown",
      "source": [
        "#Solution for question 2"
      ],
      "metadata": {
        "id": "EoYLn_VtZXbv"
      }
    },
    {
      "cell_type": "code",
      "source": [
        "class Node:\n",
        "    def __init__(self, value):\n",
        "        self.value = value\n",
        "        self.left = None\n",
        "        self.right = None\n",
        "\n",
        "def constructBST(level_order):\n",
        "    if not level_order:\n",
        "        return None\n",
        "\n",
        "    root = Node(level_order[0])\n",
        "    queue = [root]\n",
        "    i = 1\n",
        "\n",
        "    while i < len(level_order):\n",
        "        curr = queue.pop(0)\n",
        "        if i < len(level_order):\n",
        "            left_val = level_order[i]\n",
        "            if left_val != -1:  # -1 denotes empty child\n",
        "                curr.left = Node(left_val)\n",
        "                queue.append(curr.left)\n",
        "            i += 1\n",
        "\n",
        "        if i < len(level_order):\n",
        "            right_val = level_order[i]\n",
        "            if right_val != -1:  # -1 denotes empty child\n",
        "                curr.right = Node(right_val)\n",
        "                queue.append(curr.right)\n",
        "            i += 1\n",
        "\n",
        "    return root\n",
        "\n",
        "# Given level order traversal array\n",
        "level_order = [7, 4, 12, 3, 6, 8, 1, 5, 10]\n",
        "\n",
        "# Construct the BST\n",
        "root = constructBST(level_order)\n",
        "\n",
        "# Print the constructed BST\n",
        "# You can use any tree traversal technique (e.g., inorder) to verify the constructed BST\n",
        "def inorder(node):\n",
        "    if node is not None:\n",
        "        inorder(node.left)\n",
        "        print(node.value, end=\" \")\n",
        "        inorder(node.right)\n",
        "\n",
        "inorder(root)"
      ],
      "metadata": {
        "colab": {
          "base_uri": "https://localhost:8080/"
        },
        "id": "LIq3XaoDYLBb",
        "outputId": "ea0327f9-873e-46a3-f921-4864b700502b"
      },
      "execution_count": null,
      "outputs": [
        {
          "output_type": "stream",
          "name": "stdout",
          "text": [
            "5 3 10 4 6 7 8 12 1 "
          ]
        }
      ]
    },
    {
      "cell_type": "markdown",
      "source": [
        "#Solution for question 3"
      ],
      "metadata": {
        "id": "U1K4SmunZY6e"
      }
    },
    {
      "cell_type": "code",
      "source": [
        "def isLevelOrderBST(arr):\n",
        "    if not arr:\n",
        "        return True\n",
        "\n",
        "    n = len(arr)\n",
        "    for i in range(n):\n",
        "        left_child = 2 * i + 1\n",
        "        right_child = 2 * i + 2\n",
        "\n",
        "        # Check if left child is valid\n",
        "        if left_child < n and arr[left_child] > arr[i]:\n",
        "            return False\n",
        "\n",
        "        # Check if right child is valid\n",
        "        if right_child < n and arr[right_child] < arr[i]:\n",
        "            return False\n",
        "\n",
        "    return True\n",
        "\n",
        "# Given level order traversal array\n",
        "level_order = [7, 4, 12, 3, 6, 8, 1, 5, 10]\n",
        "\n",
        "# Check if the array represents a valid level order traversal of a BST\n",
        "result = isLevelOrderBST(level_order)\n",
        "\n",
        "# Print the result\n",
        "if result:\n",
        "    print(\"Yes\")\n",
        "else:\n",
        "    print(\"No\")"
      ],
      "metadata": {
        "colab": {
          "base_uri": "https://localhost:8080/"
        },
        "id": "3qxEAHdFYeCm",
        "outputId": "82402747-2fdc-47b8-df1d-1aa74d35a14a"
      },
      "execution_count": null,
      "outputs": [
        {
          "output_type": "stream",
          "name": "stdout",
          "text": [
            "No\n"
          ]
        }
      ]
    },
    {
      "cell_type": "code",
      "source": [],
      "metadata": {
        "id": "TswgMTRJZMtR"
      },
      "execution_count": null,
      "outputs": []
    }
  ]
}