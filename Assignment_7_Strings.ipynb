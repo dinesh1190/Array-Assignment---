{
  "nbformat": 4,
  "nbformat_minor": 0,
  "metadata": {
    "colab": {
      "provenance": [],
      "include_colab_link": true
    },
    "kernelspec": {
      "name": "python3",
      "display_name": "Python 3"
    },
    "language_info": {
      "name": "python"
    }
  },
  "cells": [
    {
      "cell_type": "markdown",
      "metadata": {
        "id": "view-in-github",
        "colab_type": "text"
      },
      "source": [
        "<a href=\"https://colab.research.google.com/github/dinesh1190/Array-Assignment---/blob/main/Assignment_7_Strings.ipynb\" target=\"_parent\"><img src=\"https://colab.research.google.com/assets/colab-badge.svg\" alt=\"Open In Colab\"/></a>"
      ]
    },
    {
      "cell_type": "markdown",
      "source": [
        "#Solution for question 1"
      ],
      "metadata": {
        "id": "jkgvjKKPzxFG"
      }
    },
    {
      "cell_type": "code",
      "execution_count": null,
      "metadata": {
        "id": "6NzOV5EgnH9J"
      },
      "outputs": [],
      "source": [
        "\n",
        "def is_isomorphic(s, t):\n",
        "    if len(s) != len(t):\n",
        "        return False\n",
        "\n",
        "    s_to_t = {}\n",
        "    t_to_s = {}\n",
        "\n",
        "    for c_s, c_t in zip(s, t):\n",
        "        if c_s not in s_to_t and c_t not in t_to_s:\n",
        "            s_to_t[c_s] = c_t\n",
        "            t_to_s[c_t] = c_s\n",
        "        elif c_s in s_to_t and c_t in t_to_s:\n",
        "            if s_to_t[c_s] != c_t or t_to_s[c_t] != c_s:\n",
        "                return False\n",
        "        else:\n",
        "            return False\n",
        "\n",
        "    return True"
      ]
    },
    {
      "cell_type": "code",
      "source": [
        "s = \"paper\"\n",
        "t = \"title\"\n",
        "print(is_isomorphic(s, t))"
      ],
      "metadata": {
        "colab": {
          "base_uri": "https://localhost:8080/"
        },
        "id": "HqXRhC5HnNDc",
        "outputId": "76daefc9-bce5-4ffc-c794-3d79c34cb93b"
      },
      "execution_count": null,
      "outputs": [
        {
          "output_type": "stream",
          "name": "stdout",
          "text": [
            "True\n"
          ]
        }
      ]
    },
    {
      "cell_type": "markdown",
      "source": [
        "#Solution for question 2"
      ],
      "metadata": {
        "id": "yfeHUGBKz3FG"
      }
    },
    {
      "cell_type": "code",
      "source": [
        "\n",
        "\n",
        "def is_strobogrammatic(num):\n",
        "    pairs = {'0': '0', '1': '1', '6': '9', '8': '8', '9': '6'}\n",
        "    left, right = 0, len(num) - 1\n",
        "\n",
        "    while left <= right:\n",
        "        if num[left] not in pairs or pairs[num[left]] != num[right]:\n",
        "            return False\n",
        "        left += 1\n",
        "        right -= 1\n",
        "\n",
        "    return True"
      ],
      "metadata": {
        "id": "GyxNOYIBnV2q"
      },
      "execution_count": null,
      "outputs": []
    },
    {
      "cell_type": "code",
      "source": [
        "num = \"818\"\n",
        "print(is_strobogrammatic(num))"
      ],
      "metadata": {
        "colab": {
          "base_uri": "https://localhost:8080/"
        },
        "id": "FMZVELQtnRgv",
        "outputId": "09e8b059-f2f7-4f94-c5f6-011cf439281e"
      },
      "execution_count": null,
      "outputs": [
        {
          "output_type": "stream",
          "name": "stdout",
          "text": [
            "True\n"
          ]
        }
      ]
    },
    {
      "cell_type": "markdown",
      "source": [
        "#Solution for question 3"
      ],
      "metadata": {
        "id": "ej6QFgUEz58Y"
      }
    },
    {
      "cell_type": "code",
      "source": [
        "\n",
        "\n",
        "def addStrings(num1: str, num2: str) -> str:\n",
        "    i, j = len(num1) - 1, len(num2) - 1\n",
        "    carry = 0\n",
        "    result = \"\"\n",
        "\n",
        "    while i >= 0 or j >= 0:\n",
        "        digit1 = int(num1[i]) if i >= 0 else 0\n",
        "        digit2 = int(num2[j]) if j >= 0 else 0\n",
        "        tempSum = digit1 + digit2 + carry\n",
        "        digitSum = tempSum % 10\n",
        "        carry = tempSum // 10\n",
        "        result = str(digitSum) + result\n",
        "        i -= 1\n",
        "        j -= 1\n",
        "\n",
        "    if carry:\n",
        "        result = str(carry) + result\n",
        "\n",
        "    return result"
      ],
      "metadata": {
        "id": "hk4OQGv3pnYb"
      },
      "execution_count": null,
      "outputs": []
    },
    {
      "cell_type": "code",
      "source": [
        "num1 = \"456\"\n",
        "num2 = \"789\"\n",
        "print(addStrings(num1, num2))"
      ],
      "metadata": {
        "colab": {
          "base_uri": "https://localhost:8080/"
        },
        "id": "10z3ASIxrG7u",
        "outputId": "5deeab23-f8d2-43bb-84ff-c32131228887"
      },
      "execution_count": null,
      "outputs": [
        {
          "output_type": "stream",
          "name": "stdout",
          "text": [
            "1245\n"
          ]
        }
      ]
    },
    {
      "cell_type": "markdown",
      "source": [
        "#Solution for question 4"
      ],
      "metadata": {
        "id": "UuAUHkfGz8tr"
      }
    },
    {
      "cell_type": "code",
      "source": [
        "\n",
        "\n",
        "def reverse_words(s):\n",
        "    words = s.split()  # Split the string into words\n",
        "    reversed_words = [word[::-1] for word in words]  # Reverse each word\n",
        "    reversed_sentence = ' '.join(reversed_words)  # Join the reversed words with whitespace\n",
        "    return reversed_sentence"
      ],
      "metadata": {
        "id": "iNMKMlaKrTTw"
      },
      "execution_count": null,
      "outputs": []
    },
    {
      "cell_type": "code",
      "source": [
        "s = \"Marry had a little lamp\"\n",
        "reversed_sentence = reverse_words(s)\n",
        "print(reversed_sentence)"
      ],
      "metadata": {
        "colab": {
          "base_uri": "https://localhost:8080/"
        },
        "id": "pCCiU2dnrKzN",
        "outputId": "6b942e2d-db99-4089-d70c-8f2615798d3b"
      },
      "execution_count": null,
      "outputs": [
        {
          "output_type": "stream",
          "name": "stdout",
          "text": [
            "yrraM dah a elttil pmal\n"
          ]
        }
      ]
    },
    {
      "cell_type": "markdown",
      "source": [
        "#Solution for question 6"
      ],
      "metadata": {
        "id": "5T2kxe9vz_XC"
      }
    },
    {
      "cell_type": "code",
      "source": [
        "\n",
        "\n",
        "def can_shift(s, goal):\n",
        "    if len(s) != len(goal):\n",
        "        return False\n",
        "    \n",
        "    sConcat = s + s\n",
        "    return goal in sConcat"
      ],
      "metadata": {
        "id": "6VdjniJUsBFd"
      },
      "execution_count": null,
      "outputs": []
    },
    {
      "cell_type": "code",
      "source": [
        "s = \"abcde\"\n",
        "goal = \"cdeab\"\n",
        "print(can_shift(s, goal))"
      ],
      "metadata": {
        "colab": {
          "base_uri": "https://localhost:8080/"
        },
        "id": "N47y-EMKtUpU",
        "outputId": "b4f181b1-aaa9-44ad-eb15-dd7d5a9fd621"
      },
      "execution_count": null,
      "outputs": [
        {
          "output_type": "stream",
          "name": "stdout",
          "text": [
            "True\n"
          ]
        }
      ]
    },
    {
      "cell_type": "markdown",
      "source": [
        "#Solution for question 7"
      ],
      "metadata": {
        "id": "9TcFD0Ez0CVj"
      }
    },
    {
      "cell_type": "code",
      "source": [
        "\n",
        "def backspaceCompare(s, t):\n",
        "    def processString(string):\n",
        "        processed_string = []\n",
        "        for char in string:\n",
        "            if char != '#':\n",
        "                processed_string.append(char)\n",
        "            elif processed_string:\n",
        "                processed_string.pop()\n",
        "        return ''.join(processed_string)\n",
        "\n",
        "    processed_s = processString(s)\n",
        "    processed_t = processString(t)\n",
        "\n",
        "    return processed_s == processed_t"
      ],
      "metadata": {
        "id": "9re5zbyNtYOm"
      },
      "execution_count": null,
      "outputs": []
    },
    {
      "cell_type": "code",
      "source": [
        "s = \"ab#c\"\n",
        "t = \"ad#c\"\n",
        "print(backspaceCompare(s, t))"
      ],
      "metadata": {
        "colab": {
          "base_uri": "https://localhost:8080/"
        },
        "id": "BVKJVstAwMrM",
        "outputId": "0fdfc363-c5fe-49a5-c301-374dda0b8349"
      },
      "execution_count": null,
      "outputs": [
        {
          "output_type": "stream",
          "name": "stdout",
          "text": [
            "True\n"
          ]
        }
      ]
    },
    {
      "cell_type": "markdown",
      "source": [
        "#Solution for question 8"
      ],
      "metadata": {
        "id": "N1HIHWiv0IRv"
      }
    },
    {
      "cell_type": "code",
      "source": [
        "\n",
        "\n",
        "def checkStraightLine(coordinates):\n",
        "    x0, y0 = coordinates[0]\n",
        "    x1, y1 = coordinates[1]\n",
        "    \n",
        "    for i in range(2, len(coordinates)):\n",
        "        x, y = coordinates[i]\n",
        "        if (y1 - y0) * (x - x0) != (x1 - x0) * (y - y0):\n",
        "            return False\n",
        "    \n",
        "    return True"
      ],
      "metadata": {
        "id": "ELio5fCfwPB8"
      },
      "execution_count": null,
      "outputs": []
    },
    {
      "cell_type": "code",
      "source": [
        "coordinates = [[1,2],[2,3],[3,4],[4,5],[5,6],[6,7]]\n",
        "print(checkStraightLine(coordinates))"
      ],
      "metadata": {
        "colab": {
          "base_uri": "https://localhost:8080/"
        },
        "id": "aEbrAF3Mx1kY",
        "outputId": "08c90d09-f422-45fe-8788-16c0462d5759"
      },
      "execution_count": null,
      "outputs": [
        {
          "output_type": "stream",
          "name": "stdout",
          "text": [
            "True\n"
          ]
        }
      ]
    },
    {
      "cell_type": "code",
      "source": [],
      "metadata": {
        "id": "3f1kwGGrx56M"
      },
      "execution_count": null,
      "outputs": []
    }
  ]
}