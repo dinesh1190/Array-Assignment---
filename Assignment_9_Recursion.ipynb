{
  "nbformat": 4,
  "nbformat_minor": 0,
  "metadata": {
    "colab": {
      "provenance": [],
      "include_colab_link": true
    },
    "kernelspec": {
      "name": "python3",
      "display_name": "Python 3"
    },
    "language_info": {
      "name": "python"
    }
  },
  "cells": [
    {
      "cell_type": "markdown",
      "metadata": {
        "id": "view-in-github",
        "colab_type": "text"
      },
      "source": [
        "<a href=\"https://colab.research.google.com/github/dinesh1190/Array-Assignment---/blob/main/Assignment_9_Recursion.ipynb\" target=\"_parent\"><img src=\"https://colab.research.google.com/assets/colab-badge.svg\" alt=\"Open In Colab\"/></a>"
      ]
    },
    {
      "cell_type": "markdown",
      "source": [
        "#Solution for question 1\n"
      ],
      "metadata": {
        "id": "7Vo6W0r3v5TG"
      }
    },
    {
      "cell_type": "code",
      "execution_count": null,
      "metadata": {
        "id": "Z3dfu-slsCqZ"
      },
      "outputs": [],
      "source": [
        "\n",
        "def isPowerOfTwo(n):\n",
        "    if n <= 0:\n",
        "        return False\n",
        "    while n % 2 == 0:\n",
        "        n /= 2\n",
        "    return n == 1"
      ]
    },
    {
      "cell_type": "code",
      "source": [
        "print(isPowerOfTwo(64))"
      ],
      "metadata": {
        "colab": {
          "base_uri": "https://localhost:8080/"
        },
        "id": "iaVYb_w3sw6y",
        "outputId": "1dee5d1e-793e-433d-e4bf-7d821ad1e490"
      },
      "execution_count": null,
      "outputs": [
        {
          "output_type": "stream",
          "name": "stdout",
          "text": [
            "True\n"
          ]
        }
      ]
    },
    {
      "cell_type": "markdown",
      "source": [
        "#Solution for question 2"
      ],
      "metadata": {
        "id": "pQwgU3k4v_zg"
      }
    },
    {
      "cell_type": "code",
      "source": [
        "\n",
        "def sum_of_natural_numbers(n):\n",
        "    total_sum = 0\n",
        "    for i in range(1, n + 1):\n",
        "        total_sum += i\n",
        "    return total_sum"
      ],
      "metadata": {
        "id": "lQTbRDm-tCbC"
      },
      "execution_count": null,
      "outputs": []
    },
    {
      "cell_type": "code",
      "source": [
        "n = 3\n",
        "result = sum_of_natural_numbers(n)\n",
        "print(result) "
      ],
      "metadata": {
        "colab": {
          "base_uri": "https://localhost:8080/"
        },
        "id": "Otth8mnrtgp9",
        "outputId": "78175d26-3881-4e26-8de8-50483f257640"
      },
      "execution_count": null,
      "outputs": [
        {
          "output_type": "stream",
          "name": "stdout",
          "text": [
            "6\n"
          ]
        }
      ]
    },
    {
      "cell_type": "markdown",
      "source": [
        "#Solution for question 3"
      ],
      "metadata": {
        "id": "VyAKXuxPwDZO"
      }
    },
    {
      "cell_type": "code",
      "source": [
        "\n",
        "def factorial(N):\n",
        "    if N == 0 or N == 1:\n",
        "        return 1\n",
        "    else:\n",
        "        result = 1\n",
        "        for i in range(2, N+1):\n",
        "            result *= i\n",
        "        return result"
      ],
      "metadata": {
        "id": "gK3Ib-_jtkzy"
      },
      "execution_count": null,
      "outputs": []
    },
    {
      "cell_type": "code",
      "source": [
        "N = 6\n",
        "factorial_N = factorial(N)\n",
        "print(factorial_N)"
      ],
      "metadata": {
        "colab": {
          "base_uri": "https://localhost:8080/"
        },
        "id": "hdT3R_yatyii",
        "outputId": "1b3d8763-4af0-4e31-f1a3-1ecfd686401d"
      },
      "execution_count": null,
      "outputs": [
        {
          "output_type": "stream",
          "name": "stdout",
          "text": [
            "720\n"
          ]
        }
      ]
    },
    {
      "cell_type": "markdown",
      "source": [
        "#Solution for question 4"
      ],
      "metadata": {
        "id": "3SYxFKgTwF8z"
      }
    },
    {
      "cell_type": "code",
      "source": [
        "\n",
        "N = 5\n",
        "P = 2\n",
        "\n",
        "result = 1\n",
        "\n",
        "for _ in range(P):\n",
        "    result *= N\n",
        "\n",
        "print(result)"
      ],
      "metadata": {
        "colab": {
          "base_uri": "https://localhost:8080/"
        },
        "id": "g9-ZtsENt0mp",
        "outputId": "c03e1d7e-5602-4ae0-d761-60bf05237be1"
      },
      "execution_count": null,
      "outputs": [
        {
          "output_type": "stream",
          "name": "stdout",
          "text": [
            "25\n"
          ]
        }
      ]
    },
    {
      "cell_type": "markdown",
      "source": [
        "#Solution for question 5"
      ],
      "metadata": {
        "id": "L2oDHJxEwIkB"
      }
    },
    {
      "cell_type": "code",
      "source": [
        "\n",
        "\n",
        "def findMax(arr, n):\n",
        "    if n == len(arr) - 1:\n",
        "        return arr[n]\n",
        "    \n",
        "    max_rest = findMax(arr, n + 1)\n",
        "    \n",
        "    return max(arr[n], max_rest)"
      ],
      "metadata": {
        "id": "qYQBIe-cuKCK"
      },
      "execution_count": null,
      "outputs": []
    },
    {
      "cell_type": "code",
      "source": [
        "arr = [112,548,15,42,9876,545]\n",
        "max_element = findMax(arr, 0)\n",
        "print(max_element)"
      ],
      "metadata": {
        "colab": {
          "base_uri": "https://localhost:8080/"
        },
        "id": "OOqiZwMKui1m",
        "outputId": "1ae187dc-932d-4ce6-af5c-7954ae6e4496"
      },
      "execution_count": null,
      "outputs": [
        {
          "output_type": "stream",
          "name": "stdout",
          "text": [
            "9876\n"
          ]
        }
      ]
    },
    {
      "cell_type": "markdown",
      "source": [
        "#Solution for question 6"
      ],
      "metadata": {
        "id": "RLJuQGdFwKjt"
      }
    },
    {
      "cell_type": "code",
      "source": [
        "\n",
        "def find_nth_term(a, d, N):\n",
        "    nth_term = a + (N - 1) * d\n",
        "    return nth_term\n"
      ],
      "metadata": {
        "id": "mgds3PLGuuuH"
      },
      "execution_count": null,
      "outputs": []
    },
    {
      "cell_type": "code",
      "source": [
        "a = 5\n",
        "d = 2\n",
        "N = 6\n",
        "\n",
        "result = find_nth_term(a, d, N)\n",
        "print(f\"The {N}th term of the series is: {result}\")"
      ],
      "metadata": {
        "colab": {
          "base_uri": "https://localhost:8080/"
        },
        "id": "-ODWxjxKvKKL",
        "outputId": "1152aa90-d086-4651-94a9-54f43581c39e"
      },
      "execution_count": null,
      "outputs": [
        {
          "output_type": "stream",
          "name": "stdout",
          "text": [
            "The 6th term of the series is: 15\n"
          ]
        }
      ]
    },
    {
      "cell_type": "markdown",
      "source": [
        "#Solution for question 7"
      ],
      "metadata": {
        "id": "VAo7fBjIwOsM"
      }
    },
    {
      "cell_type": "code",
      "source": [
        "\n",
        "from itertools import permutations\n",
        "\n",
        "def print_permutations(string):\n",
        "    perms = permutations(string)\n",
        "    for perm in perms:\n",
        "        print(''.join(perm))"
      ],
      "metadata": {
        "id": "GO8UykZVvP_X"
      },
      "execution_count": null,
      "outputs": []
    },
    {
      "cell_type": "code",
      "source": [
        "string = \"ABC\"\n",
        "print_permutations(string)"
      ],
      "metadata": {
        "colab": {
          "base_uri": "https://localhost:8080/"
        },
        "id": "4-1xAkBpvk65",
        "outputId": "8f04dc88-7525-4099-d9c2-7bd1e23a67b6"
      },
      "execution_count": null,
      "outputs": [
        {
          "output_type": "stream",
          "name": "stdout",
          "text": [
            "ABC\n",
            "ACB\n",
            "BAC\n",
            "BCA\n",
            "CAB\n",
            "CBA\n"
          ]
        }
      ]
    },
    {
      "cell_type": "markdown",
      "source": [
        "#Solution for question 8"
      ],
      "metadata": {
        "id": "b9wSB5HRwQuB"
      }
    },
    {
      "cell_type": "code",
      "source": [
        "def find_product(arr):\n",
        "    product = 1\n",
        "    for num in arr:\n",
        "        product *= num\n",
        "    return product\n"
      ],
      "metadata": {
        "id": "8d20lWyxvn0o"
      },
      "execution_count": null,
      "outputs": []
    },
    {
      "cell_type": "code",
      "source": [
        "arr = [5,8,7,9,6,4,1]\n",
        "result = find_product(arr)\n",
        "print(result)"
      ],
      "metadata": {
        "colab": {
          "base_uri": "https://localhost:8080/"
        },
        "id": "727PTVa9vwl2",
        "outputId": "cabfeaf6-1716-448a-fc0c-5822e03539b0"
      },
      "execution_count": null,
      "outputs": [
        {
          "output_type": "stream",
          "name": "stdout",
          "text": [
            "60480\n"
          ]
        }
      ]
    }
  ]
}