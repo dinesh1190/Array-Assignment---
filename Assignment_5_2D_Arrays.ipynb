{
  "nbformat": 4,
  "nbformat_minor": 0,
  "metadata": {
    "colab": {
      "provenance": [],
      "include_colab_link": true
    },
    "kernelspec": {
      "name": "python3",
      "display_name": "Python 3"
    },
    "language_info": {
      "name": "python"
    }
  },
  "cells": [
    {
      "cell_type": "markdown",
      "metadata": {
        "id": "view-in-github",
        "colab_type": "text"
      },
      "source": [
        "<a href=\"https://colab.research.google.com/github/dinesh1190/Array-Assignment---/blob/main/Assignment_5_2D_Arrays.ipynb\" target=\"_parent\"><img src=\"https://colab.research.google.com/assets/colab-badge.svg\" alt=\"Open In Colab\"/></a>"
      ]
    },
    {
      "cell_type": "markdown",
      "source": [
        "#Solution for question 1"
      ],
      "metadata": {
        "id": "vuCI7di39zWp"
      }
    },
    {
      "cell_type": "code",
      "execution_count": null,
      "metadata": {
        "id": "appM5-Mj5QwU"
      },
      "outputs": [],
      "source": [
        "def convert_to_2d_array(original, m, n):\n",
        "    if len(original) != m * n:\n",
        "        return []  # Return an empty 2D array if the dimensions don't match\n",
        "\n",
        "    result = [[0] * n for _ in range(m)]  # Create an empty 2D array\n",
        "\n",
        "    for i in range(m):\n",
        "        for j in range(n):\n",
        "            result[i][j] = original[i * n + j]\n",
        "\n",
        "    return result"
      ]
    },
    {
      "cell_type": "code",
      "source": [
        "original = [10, 20, 30, 40, 50, 60, 70, 80]\n",
        "m = 4\n",
        "n = 2\n",
        "\n",
        "output = convert_to_2d_array(original, m, n)\n",
        "print(output)"
      ],
      "metadata": {
        "colab": {
          "base_uri": "https://localhost:8080/"
        },
        "id": "duFWQJAx5Uzc",
        "outputId": "70f4ced1-7be7-4e8d-effc-1f5fde4509ee"
      },
      "execution_count": null,
      "outputs": [
        {
          "output_type": "stream",
          "name": "stdout",
          "text": [
            "[[10, 20], [30, 40], [50, 60], [70, 80]]\n"
          ]
        }
      ]
    },
    {
      "cell_type": "markdown",
      "source": [
        "#Solution for question 2"
      ],
      "metadata": {
        "id": "hX8zd7ZU96A4"
      }
    },
    {
      "cell_type": "code",
      "source": [
        "def find_complete_rows(n):\n",
        "    total_coins = n\n",
        "    complete_rows = 0\n",
        "    current_row = 1\n",
        "\n",
        "    while total_coins >= current_row:\n",
        "        total_coins -= current_row\n",
        "        complete_rows += 1\n",
        "        current_row += 1\n",
        "\n",
        "    return complete_rows"
      ],
      "metadata": {
        "id": "N5c6RWG45YsN"
      },
      "execution_count": null,
      "outputs": []
    },
    {
      "cell_type": "code",
      "source": [
        "n = 5\n",
        "result = find_complete_rows(n)\n",
        "print(result)"
      ],
      "metadata": {
        "colab": {
          "base_uri": "https://localhost:8080/"
        },
        "id": "OOAZ1leK51ED",
        "outputId": "78a02d46-c6fb-44bc-ed25-67f8a55e3a29"
      },
      "execution_count": null,
      "outputs": [
        {
          "output_type": "stream",
          "name": "stdout",
          "text": [
            "2\n"
          ]
        }
      ]
    },
    {
      "cell_type": "markdown",
      "source": [
        "#Solution for question 3"
      ],
      "metadata": {
        "id": "93DRXHzI-Pvf"
      }
    },
    {
      "cell_type": "code",
      "source": [
        "def sortedSquares(nums):\n",
        "    result = []\n",
        "    for num in nums:\n",
        "        result.append(num * num)\n",
        "    result.sort()\n",
        "    return result"
      ],
      "metadata": {
        "id": "b79--W9o53Rz"
      },
      "execution_count": null,
      "outputs": []
    },
    {
      "cell_type": "code",
      "source": [
        "nums = [-4, -1, 0, 3, 10]\n",
        "output = sortedSquares(nums)\n",
        "print(output)"
      ],
      "metadata": {
        "colab": {
          "base_uri": "https://localhost:8080/"
        },
        "id": "HyFN_Vp76C0Z",
        "outputId": "4dfd52f2-8b58-4517-c6e1-f31878725055"
      },
      "execution_count": null,
      "outputs": [
        {
          "output_type": "stream",
          "name": "stdout",
          "text": [
            "[0, 1, 9, 16, 100]\n"
          ]
        }
      ]
    },
    {
      "cell_type": "markdown",
      "source": [
        "#Solution for question 4"
      ],
      "metadata": {
        "id": "tbHyML9--Sv2"
      }
    },
    {
      "cell_type": "code",
      "source": [
        "def findDisappearedNumbers(nums1, nums2):\n",
        "    set1 = set(nums1)\n",
        "    set2 = set(nums2)\n",
        "    \n",
        "    not_in_nums2 = [x for x in set1 if x not in set2]\n",
        "    not_in_nums1 = [x for x in set2 if x not in set1]\n",
        "    \n",
        "    return [not_in_nums1, not_in_nums2]"
      ],
      "metadata": {
        "id": "4eSfsWJo6E7Q"
      },
      "execution_count": null,
      "outputs": []
    },
    {
      "cell_type": "code",
      "source": [
        "nums1 = [1, 2, 3]\n",
        "nums2 = [2, 4, 6]\n",
        "print(findDisappearedNumbers(nums1, nums2))"
      ],
      "metadata": {
        "colab": {
          "base_uri": "https://localhost:8080/"
        },
        "id": "MmkeA1Sc6Tg-",
        "outputId": "505a099b-42c5-4b17-ab7b-2a6e7204a9d6"
      },
      "execution_count": null,
      "outputs": [
        {
          "output_type": "stream",
          "name": "stdout",
          "text": [
            "[[4, 6], [1, 3]]\n"
          ]
        }
      ]
    },
    {
      "cell_type": "markdown",
      "source": [
        "#Solution for question 5"
      ],
      "metadata": {
        "id": "PlZcmuL9-VcO"
      }
    },
    {
      "cell_type": "code",
      "source": [
        "def distance_value(arr1, arr2, d):\n",
        "    distance = 0\n",
        "\n",
        "    for num1 in arr1:\n",
        "        for num2 in arr2:\n",
        "            if abs(num1 - num2) <= d:\n",
        "                break\n",
        "        else:\n",
        "            distance += 1\n",
        "\n",
        "    return distance"
      ],
      "metadata": {
        "id": "D4GWWmO79qu5"
      },
      "execution_count": null,
      "outputs": []
    },
    {
      "cell_type": "code",
      "source": [
        "arr1 = [4, 5, 8]\n",
        "arr2 = [10, 9, 1, 8]\n",
        "d = 2\n",
        "\n",
        "result = distance_value(arr1, arr2, d)\n",
        "print(result)"
      ],
      "metadata": {
        "colab": {
          "base_uri": "https://localhost:8080/"
        },
        "id": "tF2pEMuU9qjG",
        "outputId": "e3d0c01e-cf2e-476b-9969-5c5880e6ff27"
      },
      "execution_count": null,
      "outputs": [
        {
          "output_type": "stream",
          "name": "stdout",
          "text": [
            "2\n"
          ]
        }
      ]
    },
    {
      "cell_type": "markdown",
      "source": [
        "#Solution for question 6"
      ],
      "metadata": {
        "id": "KMd87ExQ-X2u"
      }
    },
    {
      "cell_type": "code",
      "source": [
        "from collections import Counter\n",
        "\n",
        "def findDuplicates(nums):\n",
        "    counter = Counter(nums)\n",
        "    return [num for num, count in counter.items() if count == 2]"
      ],
      "metadata": {
        "id": "TpRydq366Vbs"
      },
      "execution_count": null,
      "outputs": []
    },
    {
      "cell_type": "code",
      "source": [
        "nums = [4, 3, 2, 7, 8, 2, 3, 1]\n",
        "print(findDuplicates(nums))"
      ],
      "metadata": {
        "colab": {
          "base_uri": "https://localhost:8080/"
        },
        "id": "tOl89mgX7DTJ",
        "outputId": "6e16dc7d-3382-4609-a630-daee596707e6"
      },
      "execution_count": null,
      "outputs": [
        {
          "output_type": "stream",
          "name": "stdout",
          "text": [
            "[3, 2]\n"
          ]
        }
      ]
    },
    {
      "cell_type": "markdown",
      "source": [
        "#Solution for question 7"
      ],
      "metadata": {
        "id": "SjioMfFd-aI_"
      }
    },
    {
      "cell_type": "code",
      "source": [
        "def findMin(nums):\n",
        "    left = 0\n",
        "    right = len(nums) - 1\n",
        "\n",
        "    while left < right:\n",
        "        mid = (left + right) // 2\n",
        "\n",
        "        if nums[mid] > nums[right]:\n",
        "            left = mid + 1\n",
        "        else:\n",
        "            right = mid\n",
        "\n",
        "    return nums[left]"
      ],
      "metadata": {
        "id": "EGsdNiTQ7IBS"
      },
      "execution_count": null,
      "outputs": []
    },
    {
      "cell_type": "code",
      "source": [
        "nums = [4, 5, 6, 7, 0, 1, 2]\n",
        "print(findMin(nums))"
      ],
      "metadata": {
        "colab": {
          "base_uri": "https://localhost:8080/"
        },
        "id": "ZcF4g3Kk7r8N",
        "outputId": "88c65655-7e7d-4b53-fedc-826733806988"
      },
      "execution_count": null,
      "outputs": [
        {
          "output_type": "stream",
          "name": "stdout",
          "text": [
            "0\n"
          ]
        }
      ]
    },
    {
      "cell_type": "markdown",
      "source": [
        "#Solution for question 8"
      ],
      "metadata": {
        "id": "xnqSJoje-c3x"
      }
    },
    {
      "cell_type": "code",
      "source": [
        "def findOriginalArray(changed):\n",
        "    if len(changed) % 2 != 0:\n",
        "        return []\n",
        "\n",
        "    counter = {}\n",
        "    for num in changed:\n",
        "        counter[num] = counter.get(num, 0) + 1\n",
        "\n",
        "    original = []\n",
        "    for num in sorted(changed):\n",
        "        if counter.get(num, 0) == 0:\n",
        "            continue\n",
        "\n",
        "        double_num = num * 2\n",
        "        if counter.get(double_num, 0) == 0:\n",
        "            return []\n",
        "\n",
        "        original.append(num)\n",
        "        counter[num] -= 1\n",
        "        counter[double_num] -= 1\n",
        "\n",
        "    return original"
      ],
      "metadata": {
        "id": "jD4HwmDQ7vSr"
      },
      "execution_count": null,
      "outputs": []
    },
    {
      "cell_type": "code",
      "source": [
        "changed = [1, 3, 4, 2, 6, 8]\n",
        "original = findOriginalArray(changed)\n",
        "print(original)"
      ],
      "metadata": {
        "colab": {
          "base_uri": "https://localhost:8080/"
        },
        "id": "i7fyeiDD8kIM",
        "outputId": "1a31f6e2-7b50-4000-af6d-ddff516e5165"
      },
      "execution_count": null,
      "outputs": [
        {
          "output_type": "stream",
          "name": "stdout",
          "text": [
            "[1, 3, 4]\n"
          ]
        }
      ]
    },
    {
      "cell_type": "code",
      "source": [],
      "metadata": {
        "id": "lLWKy1og8yK_"
      },
      "execution_count": null,
      "outputs": []
    }
  ]
}