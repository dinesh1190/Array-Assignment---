{
  "nbformat": 4,
  "nbformat_minor": 0,
  "metadata": {
    "colab": {
      "provenance": [],
      "include_colab_link": true
    },
    "kernelspec": {
      "name": "python3",
      "display_name": "Python 3"
    },
    "language_info": {
      "name": "python"
    }
  },
  "cells": [
    {
      "cell_type": "markdown",
      "metadata": {
        "id": "view-in-github",
        "colab_type": "text"
      },
      "source": [
        "<a href=\"https://colab.research.google.com/github/dinesh1190/Array-Assignment---/blob/main/Assignment_3_Array.ipynb\" target=\"_parent\"><img src=\"https://colab.research.google.com/assets/colab-badge.svg\" alt=\"Open In Colab\"/></a>"
      ]
    },
    {
      "cell_type": "markdown",
      "source": [
        "#Solution for question 1"
      ],
      "metadata": {
        "id": "k-0e7uJrZ6jg"
      }
    },
    {
      "cell_type": "code",
      "source": [
        "\n",
        "\n",
        "def threeSumClosest(nums, target):\n",
        "    nums.sort()\n",
        "    n = len(nums)\n",
        "    closestSum = float('inf')\n",
        "\n",
        "    for i in range(n - 2):\n",
        "        left = i + 1\n",
        "        right = n - 1\n",
        "\n",
        "        while left < right:\n",
        "            currentSum = nums[i] + nums[left] + nums[right]\n",
        "\n",
        "            if currentSum == target:\n",
        "                return target\n",
        "\n",
        "            if abs(currentSum - target) < abs(closestSum - target):\n",
        "                closestSum = currentSum\n",
        "\n",
        "            if currentSum > target:\n",
        "                right -= 1\n",
        "            else:\n",
        "                left += 1\n",
        "\n",
        "    return closestSum"
      ],
      "metadata": {
        "id": "gCKgqo_CIROH"
      },
      "execution_count": null,
      "outputs": []
    },
    {
      "cell_type": "code",
      "source": [
        "nums = [2, -7, 1, 5, 9, 3]\n",
        "target = 6\n",
        "\n",
        "print(threeSumClosest(nums, target))"
      ],
      "metadata": {
        "colab": {
          "base_uri": "https://localhost:8080/"
        },
        "id": "mEaj7NadMmru",
        "outputId": "aa478295-9b2a-44a8-bb6a-37c34f5e4c7d"
      },
      "execution_count": null,
      "outputs": [
        {
          "output_type": "stream",
          "name": "stdout",
          "text": [
            "6\n"
          ]
        }
      ]
    },
    {
      "cell_type": "markdown",
      "source": [
        "#Solution for question 2"
      ],
      "metadata": {
        "id": "fvlpKKM7aDsJ"
      }
    },
    {
      "cell_type": "code",
      "source": [
        "from itertools import combinations\n",
        "\n",
        "def fourSum(nums, target):\n",
        "    nums.sort()\n",
        "    quadruplets = []\n",
        "    n = len(nums)\n",
        "\n",
        "    for quad in combinations(range(n), 4):\n",
        "        if sum(nums[i] for i in quad) == target:\n",
        "            quadruplets.append([nums[i] for i in quad])\n",
        "\n",
        "    return quadruplets"
      ],
      "metadata": {
        "id": "XotaYStqNRz8"
      },
      "execution_count": null,
      "outputs": []
    },
    {
      "cell_type": "code",
      "source": [
        "nums = [1, 1, 2, 2, 3, 3, 4, 4]\n",
        "target = 9\n",
        "\n",
        "quadruplets = fourSum(nums, target)\n",
        "print(quadruplets)"
      ],
      "metadata": {
        "colab": {
          "base_uri": "https://localhost:8080/"
        },
        "id": "3pBzAhXMPHIu",
        "outputId": "e9e89a5b-7c45-40f2-9a8b-428fadee4761"
      },
      "execution_count": null,
      "outputs": [
        {
          "output_type": "stream",
          "name": "stdout",
          "text": [
            "[[1, 1, 3, 4]]\n"
          ]
        }
      ]
    },
    {
      "cell_type": "markdown",
      "source": [
        "#Solution for question 3"
      ],
      "metadata": {
        "id": "LMUdb-h8aKbw"
      }
    },
    {
      "cell_type": "code",
      "source": [
        "def nextPermutation(nums):\n",
        "    # Find the first pair of adjacent elements where the left element is smaller than the right element\n",
        "    i = len(nums) - 2\n",
        "    while i >= 0 and nums[i] >= nums[i + 1]:\n",
        "        i -= 1\n",
        "\n",
        "    if i >= 0:\n",
        "        # Find the smallest element in the suffix that is greater than nums[i]\n",
        "        j = len(nums) - 1\n",
        "        while nums[j] <= nums[i]:\n",
        "            j -= 1\n",
        "        # Swap nums[i] and nums[j]\n",
        "        nums[i], nums[j] = nums[j], nums[i]\n",
        "\n",
        "    # Reverse the suffix starting from i+1\n",
        "    left = i + 1\n",
        "    right = len(nums) - 1\n",
        "    while left < right:\n",
        "        nums[left], nums[right] = nums[right], nums[left]\n",
        "        left += 1\n",
        "        right -= 1\n",
        "\n",
        "    return nums"
      ],
      "metadata": {
        "id": "-Gg_3FtUZnQe"
      },
      "execution_count": null,
      "outputs": []
    },
    {
      "cell_type": "code",
      "source": [
        "nums = [1, 2, 3]\n",
        "next_permutation = nextPermutation(nums)\n",
        "print(next_permutation)"
      ],
      "metadata": {
        "colab": {
          "base_uri": "https://localhost:8080/"
        },
        "id": "FlTC1Rx_Zm7o",
        "outputId": "12346241-c838-403a-8ae7-68ed30287ceb"
      },
      "execution_count": null,
      "outputs": [
        {
          "output_type": "stream",
          "name": "stdout",
          "text": [
            "[1, 3, 2]\n"
          ]
        }
      ]
    },
    {
      "cell_type": "markdown",
      "source": [
        "#Solution for question 4"
      ],
      "metadata": {
        "id": "heqgoC2-aU77"
      }
    },
    {
      "cell_type": "code",
      "source": [
        "def searchInsert(nums, target):\n",
        "    left, right = 0, len(nums) - 1\n",
        "\n",
        "    while left <= right:\n",
        "        mid = left + (right - left) // 2\n",
        "\n",
        "        if nums[mid] == target:\n",
        "            return mid\n",
        "        elif nums[mid] < target:\n",
        "            left = mid + 1\n",
        "        else:\n",
        "            right = mid - 1\n",
        "\n",
        "    return left"
      ],
      "metadata": {
        "id": "RoRuduChQ-91"
      },
      "execution_count": null,
      "outputs": []
    },
    {
      "cell_type": "code",
      "source": [
        "nums = [1, 3, 5, 6]\n",
        "target = 5\n",
        "print(searchInsert(nums, target))"
      ],
      "metadata": {
        "colab": {
          "base_uri": "https://localhost:8080/"
        },
        "id": "FlO3zwhzRDQE",
        "outputId": "06decf50-4743-417f-99d2-6b0efe530259"
      },
      "execution_count": null,
      "outputs": [
        {
          "output_type": "stream",
          "name": "stdout",
          "text": [
            "2\n"
          ]
        }
      ]
    },
    {
      "cell_type": "markdown",
      "source": [
        "#Solution for question 5"
      ],
      "metadata": {
        "id": "qyn1yjCgabqR"
      }
    },
    {
      "cell_type": "code",
      "source": [
        "def increment(digits):\n",
        "    carry = 1\n",
        "    for i in range(len(digits) - 1, -1, -1):       # loop that iterates over the indices of the digits array in reverse order\n",
        "        if digits[i] + carry <= 9:\n",
        "            digits[i] += carry\n",
        "            carry = 0\n",
        "            break\n",
        "        else:\n",
        "            digits[i] = 0\n",
        "    if carry == 1:\n",
        "        digits.insert(0, 1)   # the element being inserted is 1, and the index is 0\n",
        "    return digits"
      ],
      "metadata": {
        "id": "Hw6NHOlFZUXB"
      },
      "execution_count": null,
      "outputs": []
    },
    {
      "cell_type": "code",
      "source": [
        "digits = [9,9,9]\n",
        "result = increment(digits)\n",
        "print(result) "
      ],
      "metadata": {
        "colab": {
          "base_uri": "https://localhost:8080/"
        },
        "id": "pcYoMJPaZYUJ",
        "outputId": "ff722b31-1e26-498a-a1e1-aeaca2915ad1"
      },
      "execution_count": null,
      "outputs": [
        {
          "output_type": "stream",
          "name": "stdout",
          "text": [
            "[1, 0, 0, 0]\n"
          ]
        }
      ]
    },
    {
      "cell_type": "markdown",
      "source": [
        "#Solution for question 6"
      ],
      "metadata": {
        "id": "IJ-0Zp8XaiLf"
      }
    },
    {
      "cell_type": "code",
      "source": [
        "def singleNumber(nums):\n",
        "    result = 0\n",
        "    for num in nums:\n",
        "        result ^= num\n",
        "    return result\n"
      ],
      "metadata": {
        "id": "cmtlbHQuSK9a"
      },
      "execution_count": null,
      "outputs": []
    },
    {
      "cell_type": "code",
      "source": [
        "nums = [2, 2, 1]\n",
        "print(singleNumber(nums)) "
      ],
      "metadata": {
        "colab": {
          "base_uri": "https://localhost:8080/"
        },
        "id": "jaBchODQVZeV",
        "outputId": "a7d8fc1a-d861-4911-beae-6f9627e4d426"
      },
      "execution_count": null,
      "outputs": [
        {
          "output_type": "stream",
          "name": "stdout",
          "text": [
            "1\n"
          ]
        }
      ]
    },
    {
      "cell_type": "markdown",
      "source": [
        "#Solution for question 7"
      ],
      "metadata": {
        "id": "HAHaNt3XaocQ"
      }
    },
    {
      "cell_type": "code",
      "source": [
        "\n",
        "def findMissingRanges(nums, lower, upper):\n",
        "    result = []\n",
        "    start = lower\n",
        "\n",
        "    for num in nums:\n",
        "        if num > start:\n",
        "            end = num - 1\n",
        "            result.append(getRange(start, end))\n",
        "        \n",
        "        start = num + 1\n",
        "    \n",
        "    if start <= upper:\n",
        "        result.append(getRange(start, upper))\n",
        "    \n",
        "    return result\n",
        "\n",
        "def getRange(start, end):\n",
        "    if start == end:\n",
        "        return str(start)\n",
        "    else:\n",
        "        return str(start) + \"->\" + str(end)"
      ],
      "metadata": {
        "id": "bHpe4BpbVdxN"
      },
      "execution_count": null,
      "outputs": []
    },
    {
      "cell_type": "code",
      "source": [
        "nums = [0, 1, 3, 50, 75]\n",
        "lower = 0\n",
        "upper = 99\n",
        "result = findMissingRanges(nums, lower, upper)\n",
        "print(result)"
      ],
      "metadata": {
        "colab": {
          "base_uri": "https://localhost:8080/"
        },
        "id": "dVJCbCsvWW3f",
        "outputId": "2b52892c-b8b1-49e0-dd7c-0ca322affe33"
      },
      "execution_count": null,
      "outputs": [
        {
          "output_type": "stream",
          "name": "stdout",
          "text": [
            "['2', '4->49', '51->74', '76->99']\n"
          ]
        }
      ]
    },
    {
      "cell_type": "markdown",
      "source": [
        "#Solution for question 8"
      ],
      "metadata": {
        "id": "o2Zdv3cBaueK"
      }
    },
    {
      "cell_type": "code",
      "source": [
        "\n",
        "def canAttendMeetings(intervals):\n",
        "    intervals.sort(key=lambda x: x[0])  # Sort intervals based on start time\n",
        "    \n",
        "    for i in range(1, len(intervals)):\n",
        "        if intervals[i][0] < intervals[i-1][1]:  # Checks for overlap by compairing end time of the previous interval with start time of current interval\n",
        "            return False\n",
        "    \n",
        "    return True"
      ],
      "metadata": {
        "id": "loTpoTLQWeBh"
      },
      "execution_count": null,
      "outputs": []
    },
    {
      "cell_type": "code",
      "source": [
        "intervals = [[4,10],[2,5],[7,9],[1,3]]\n",
        "print(canAttendMeetings(intervals))"
      ],
      "metadata": {
        "colab": {
          "base_uri": "https://localhost:8080/"
        },
        "id": "a8FIuzUXZApn",
        "outputId": "884e4b4a-167c-46c3-8b73-d615073d545c"
      },
      "execution_count": null,
      "outputs": [
        {
          "output_type": "stream",
          "name": "stdout",
          "text": [
            "False\n"
          ]
        }
      ]
    }
  ]
}