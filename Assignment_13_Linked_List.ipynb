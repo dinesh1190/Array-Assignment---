{
  "nbformat": 4,
  "nbformat_minor": 0,
  "metadata": {
    "colab": {
      "provenance": [],
      "include_colab_link": true
    },
    "kernelspec": {
      "name": "python3",
      "display_name": "Python 3"
    },
    "language_info": {
      "name": "python"
    }
  },
  "cells": [
    {
      "cell_type": "markdown",
      "metadata": {
        "id": "view-in-github",
        "colab_type": "text"
      },
      "source": [
        "<a href=\"https://colab.research.google.com/github/dinesh1190/Array-Assignment---/blob/main/Assignment_13_Linked_List.ipynb\" target=\"_parent\"><img src=\"https://colab.research.google.com/assets/colab-badge.svg\" alt=\"Open In Colab\"/></a>"
      ]
    },
    {
      "cell_type": "markdown",
      "source": [
        "#Solution for question 1"
      ],
      "metadata": {
        "id": "cc1GTDL12pEU"
      }
    },
    {
      "cell_type": "code",
      "execution_count": null,
      "metadata": {
        "id": "vAwY5qNT2Vwc"
      },
      "outputs": [],
      "source": [
        "class Node:\n",
        "    def __init__(self, data=None):\n",
        "        self.data = data\n",
        "        self.next = None\n",
        "\n",
        "\n",
        "def create_new_list(list1, list2):\n",
        "    head = None\n",
        "    current = None\n",
        "\n",
        "    while list1 is not None and list2 is not None:\n",
        "        if list1.data >= list2.data:\n",
        "            new_node = Node(list1.data)\n",
        "            list1 = list1.next\n",
        "        else:\n",
        "            new_node = Node(list2.data)\n",
        "            list2 = list2.next\n",
        "\n",
        "        if head is None:\n",
        "            head = new_node\n",
        "        else:\n",
        "            current.next = new_node\n",
        "        current = new_node\n",
        "\n",
        "    if list1 is not None:\n",
        "        if current:\n",
        "            current.next = list1\n",
        "        else:\n",
        "            head = list1\n",
        "\n",
        "    if list2 is not None:\n",
        "        if current:\n",
        "            current.next = list2\n",
        "        else:\n",
        "            head = list2\n",
        "\n",
        "    return head"
      ]
    },
    {
      "cell_type": "code",
      "source": [
        "node1 = Node(5)\n",
        "node2 = Node(2)\n",
        "node3 = Node(3)\n",
        "node4 = Node(8)\n",
        "node1.next = node2\n",
        "node2.next = node3\n",
        "node3.next = node4\n",
        "\n",
        "node5 = Node(1)\n",
        "node6 = Node(7)\n",
        "node7 = Node(4)\n",
        "node8 = Node(5)\n",
        "node5.next = node6\n",
        "node6.next = node7\n",
        "node7.next = node8\n",
        "\n",
        "new_list = create_new_list(node1, node5)\n",
        "\n",
        "# Printing the new list\n",
        "current = new_list\n",
        "while current is not None:\n",
        "    print(current.data, end=\" \")\n",
        "    current = current.next"
      ],
      "metadata": {
        "colab": {
          "base_uri": "https://localhost:8080/"
        },
        "id": "YOTIfQuC2iFY",
        "outputId": "5157d675-67df-4c1d-91c9-cda1585a52f8"
      },
      "execution_count": null,
      "outputs": [
        {
          "output_type": "stream",
          "name": "stdout",
          "text": [
            "5 2 3 8 1 7 4 5 "
          ]
        }
      ]
    },
    {
      "cell_type": "markdown",
      "source": [
        "#Solution for question 2"
      ],
      "metadata": {
        "id": "y2lIeXab4k0h"
      }
    },
    {
      "cell_type": "code",
      "source": [
        "class ListNode:\n",
        "    def __init__(self, val=0, next=None):\n",
        "        self.val = val\n",
        "        self.next = next\n",
        "\n",
        "def createLinkedList(nodes):\n",
        "    dummy = ListNode()\n",
        "    current = dummy\n",
        "    for node in nodes:\n",
        "        current.next = ListNode(node)\n",
        "        current = current.next\n",
        "    return dummy.next\n",
        "\n",
        "def convertToList(head):\n",
        "    result = []\n",
        "    current = head\n",
        "    while current:\n",
        "        result.append(current.val)\n",
        "        current = current.next\n",
        "    return result\n",
        "def removeDuplicates(head):\n",
        "    current = head\n",
        "    while current and current.next:\n",
        "        if current.val == current.next.val:\n",
        "            current.next = current.next.next\n",
        "        else:\n",
        "            current = current.next\n",
        "\n",
        "    return head\n",
        "\n",
        "linked_list = createLinkedList([11, 11, 11, 21, 43, 43, 60])\n",
        "result = removeDuplicates(linked_list)\n",
        "output = convertToList(result)\n",
        "print(output)"
      ],
      "metadata": {
        "colab": {
          "base_uri": "https://localhost:8080/"
        },
        "id": "mnVbW5UU3guY",
        "outputId": "4909442b-463b-4045-d58f-d3001caf5c88"
      },
      "execution_count": null,
      "outputs": [
        {
          "output_type": "stream",
          "name": "stdout",
          "text": [
            "[11, 21, 43, 60]\n"
          ]
        }
      ]
    },
    {
      "cell_type": "markdown",
      "source": [
        "#Solution for question 3"
      ],
      "metadata": {
        "id": "5BPnXJOO4vWc"
      }
    },
    {
      "cell_type": "code",
      "source": [
        "class Node:\n",
        "    def __init__(self, data):\n",
        "        self.data = data\n",
        "        self.next = None\n",
        "\n",
        "def reverseKNodes(head, k):\n",
        "    curr = head\n",
        "    prev = None\n",
        "    next = None\n",
        "    count = 0\n",
        "\n",
        "    # Reverse first k nodes\n",
        "    while curr and count < k:\n",
        "        next = curr.next\n",
        "        curr.next = prev\n",
        "        prev = curr\n",
        "        curr = next\n",
        "        count += 1\n",
        "\n",
        "    # Recursively reverse the remaining nodes\n",
        "    if next:\n",
        "        head.next = reverseKNodes(next, k)\n",
        "    return prev\n",
        "\n",
        "# Test case\n",
        "head = Node(1)\n",
        "head.next = Node(2)\n",
        "head.next.next = Node(2)\n",
        "head.next.next.next = Node(4)\n",
        "head.next.next.next.next = Node(5)\n",
        "head.next.next.next.next.next = Node(6)\n",
        "head.next.next.next.next.next.next = Node(7)\n",
        "head.next.next.next.next.next.next.next = Node(8)\n",
        "\n",
        "k = 4\n",
        "new_head = reverseKNodes(head, k)\n",
        "\n",
        "# Print the reversed list\n",
        "while new_head:\n",
        "    print(new_head.data, end=\" \")\n",
        "    new_head = new_head.next"
      ],
      "metadata": {
        "colab": {
          "base_uri": "https://localhost:8080/"
        },
        "id": "TCcKYgj934We",
        "outputId": "de1c4e89-0f6c-4a5e-fb32-0c2411d2eed5"
      },
      "execution_count": null,
      "outputs": [
        {
          "output_type": "stream",
          "name": "stdout",
          "text": [
            "4 2 2 1 8 7 6 5 "
          ]
        }
      ]
    },
    {
      "cell_type": "markdown",
      "source": [],
      "metadata": {
        "id": "ZKISgkCK5oNk"
      }
    },
    {
      "cell_type": "markdown",
      "source": [
        "#Solution for question 4"
      ],
      "metadata": {
        "id": "If0KqqTi8xx_"
      }
    },
    {
      "cell_type": "code",
      "source": [
        "\n",
        "class Node:\n",
        "    def __init__(self, data):\n",
        "        self.data = data\n",
        "        self.next = None\n",
        "\n",
        "def reverse_alternate_k_nodes(head, k):\n",
        "    if not head or k <= 1:\n",
        "        return head\n",
        "\n",
        "    prev = None\n",
        "    curr = head\n",
        "    count = 0\n",
        "\n",
        "    # Reverse the first k nodes\n",
        "    while curr and count < k:\n",
        "        next_node = curr.next\n",
        "        curr.next = prev\n",
        "        prev = curr\n",
        "        curr = next_node\n",
        "        count += 1\n",
        "\n",
        "    # Skip the next k nodes\n",
        "    count = 0\n",
        "    while curr and count < k:\n",
        "        curr = curr.next\n",
        "        count += 1\n",
        "\n",
        "    # Recursively reverse the remaining list\n",
        "    if curr:\n",
        "        head.next = reverse_alternate_k_nodes(curr, k)\n",
        "\n",
        "    return prev\n",
        "\n",
        "# Helper function to print the linked list\n",
        "def print_linked_list(head):\n",
        "    if not head:\n",
        "        print(\"Linked list is empty.\")\n",
        "        return\n",
        "\n",
        "    curr = head\n",
        "    while curr:\n",
        "        print(curr.data, end=\" -> \")\n",
        "        curr = curr.next\n",
        "    print(\"NULL\")\n",
        "# Create the linked list: 1 -> 2 -> 3 -> 4 -> 5 -> 6 -> 7 -> 8 -> 9 -> NULL\n",
        "head = Node(1)\n",
        "head.next = Node(2)\n",
        "head.next.next = Node(3)\n",
        "head.next.next.next = Node(4)\n",
        "head.next.next.next.next = Node(5)\n",
        "head.next.next.next.next.next = Node(6)\n",
        "head.next.next.next.next.next.next = Node(7)\n",
        "head.next.next.next.next.next.next.next = Node(8)\n",
        "head.next.next.next.next.next.next.next.next = Node(9)\n",
        "\n",
        "print(\"Original linked list:\")\n",
        "print_linked_list(head)\n",
        "\n",
        "k = 3\n",
        "reversed_head = reverse_alternate_k_nodes(head, k)\n",
        "\n",
        "print(\"\\nLinked list after reversing every alternate\", k, \"nodes:\")\n",
        "print_linked_list(reversed_head)"
      ],
      "metadata": {
        "colab": {
          "base_uri": "https://localhost:8080/"
        },
        "id": "ibtpimdt42m8",
        "outputId": "c5465f1f-98fd-4815-f55a-50dac0163f49"
      },
      "execution_count": null,
      "outputs": [
        {
          "output_type": "stream",
          "name": "stdout",
          "text": [
            "Original linked list:\n",
            "1 -> 2 -> 3 -> 4 -> 5 -> 6 -> 7 -> 8 -> 9 -> NULL\n",
            "\n",
            "Linked list after reversing every alternate 3 nodes:\n",
            "3 -> 2 -> 1 -> 9 -> 8 -> 7 -> NULL\n"
          ]
        }
      ]
    },
    {
      "cell_type": "markdown",
      "source": [
        "#Solution for question 5"
      ],
      "metadata": {
        "id": "t-p6dqVF82c_"
      }
    },
    {
      "cell_type": "code",
      "source": [
        "\n",
        "class Node:\n",
        "    def __init__(self, data):\n",
        "        self.data = data\n",
        "        self.next = None\n",
        "\n",
        "\n",
        "def delete_last_occurrence(head, key):\n",
        "    if not head:\n",
        "        return None\n",
        "\n",
        "    prev = None\n",
        "    last = None\n",
        "    current = head\n",
        "\n",
        "    # Traverse the linked list to find the last occurrence of the key\n",
        "    while current:\n",
        "        if current.data == key:\n",
        "            last = current\n",
        "        current = current.next\n",
        "    # If the last occurrence was not found, return the original linked list\n",
        "    if not last:\n",
        "        return head\n",
        "\n",
        "    # If the last occurrence is the head node, update the head and return\n",
        "    if last == head:\n",
        "        head = head.next\n",
        "        return head\n",
        "\n",
        "    # Update the next pointer of the previous node to skip the last occurrence\n",
        "    current = head\n",
        "    while current.next != last:\n",
        "        current = current.next\n",
        "    current.next = last.next\n",
        "\n",
        "    return head\n",
        "\n",
        "\n",
        "# Create a sample linked list: 1->2->3->5->2->10\n",
        "head = Node(1)\n",
        "head.next = Node(2)\n",
        "head.next.next = Node(3)\n",
        "head.next.next.next = Node(5)\n",
        "head.next.next.next.next = Node(2)\n",
        "head.next.next.next.next.next = Node(10)\n",
        "\n",
        "# Delete the last occurrence of key = 2\n",
        "key = 2\n",
        "new_head = delete_last_occurrence(head, key)\n",
        "\n",
        "# Print the modified linked list\n",
        "current = new_head\n",
        "while current:\n",
        "    print(current.data, end=\" \")\n",
        "    current = current.next"
      ],
      "metadata": {
        "colab": {
          "base_uri": "https://localhost:8080/"
        },
        "id": "dzT0ljOS5Ezz",
        "outputId": "897a9103-58dd-479c-aa3f-a071c56d2d60"
      },
      "execution_count": null,
      "outputs": [
        {
          "output_type": "stream",
          "name": "stdout",
          "text": [
            "1 2 3 5 10 "
          ]
        }
      ]
    },
    {
      "cell_type": "markdown",
      "source": [
        "#Solution for question 6"
      ],
      "metadata": {
        "id": "ntC009Cj85Fu"
      }
    },
    {
      "cell_type": "code",
      "source": [
        "\n",
        "class Node:\n",
        "    def __init__(self, data):\n",
        "        self.data = data\n",
        "        self.next = None\n",
        "\n",
        "def mergeLists(a, b):\n",
        "    # Create a dummy node\n",
        "    head = Node(0)\n",
        "    # Pointers to traverse the two linked lists\n",
        "    current = head\n",
        "    prev = None\n",
        "\n",
        "    # Traverse both lists until one becomes empty\n",
        "    while a is not None and b is not None:\n",
        "        if a.data <= b.data:\n",
        "            current.next = a\n",
        "            a = a.next\n",
        "        else:\n",
        "            current.next = b\n",
        "            b = b.next\n",
        "        current = current.next\n",
        "    # Set the remaining nodes of the non-empty list\n",
        "    if a is not None:\n",
        "        current.next = a\n",
        "    else:\n",
        "        current.next = b\n",
        "\n",
        "    # Return the head of the merged list (excluding the dummy node)\n",
        "    return head.next"
      ],
      "metadata": {
        "id": "ACdW7B1S6J-w"
      },
      "execution_count": null,
      "outputs": []
    },
    {
      "cell_type": "markdown",
      "source": [
        "#Solution for question 7"
      ],
      "metadata": {
        "id": "67MKI9cG86-d"
      }
    },
    {
      "cell_type": "code",
      "source": [
        "a = Node(5)\n",
        "a.next = Node(10)\n",
        "a.next.next = Node(15)\n",
        "\n",
        "# Create the second linked list: 2 -> 3 -> 20\n",
        "b = Node(2)\n",
        "b.next = Node(3)\n",
        "b.next.next = Node(20)\n",
        "\n",
        "# Merge the two lists\n",
        "merged_head = mergeLists(a, b)\n",
        "\n",
        "# Print the merged list\n",
        "while merged_head is not None:\n",
        "    print(merged_head.data, end=\" \")\n",
        "    merged_head = merged_head.next"
      ],
      "metadata": {
        "colab": {
          "base_uri": "https://localhost:8080/"
        },
        "id": "BhNb_Skj69Nx",
        "outputId": "b5c83805-0a23-46ca-8c6d-47cb075bfd6b"
      },
      "execution_count": null,
      "outputs": [
        {
          "output_type": "stream",
          "name": "stdout",
          "text": [
            "2 3 5 10 15 20 "
          ]
        }
      ]
    },
    {
      "cell_type": "code",
      "source": [
        "class Node:\n",
        "    def __init__(self, data):\n",
        "        self.data = data\n",
        "        self.prev = None\n",
        "        self.next = None\n",
        "\n",
        "def reverse_doubly_linked_list(head):\n",
        "    if head is None or head.next is None:\n",
        "        return head\n",
        "\n",
        "    current = head\n",
        "    previous = None\n",
        "\n",
        "    while current is not None:\n",
        "        nextNode = current.next\n",
        "        current.next = previous\n",
        "        current.prev = nextNode\n",
        "        previous = current\n",
        "        current = nextNode\n",
        "\n",
        "    head = previous\n",
        "    return head\n",
        "\n",
        "# Example usage:\n",
        "# Create the original linked list: 10 -> 8 -> 4 -> 2\n",
        "head = Node(10)\n",
        "node2 = Node(8)\n",
        "node3 = Node(4)\n",
        "node4 = Node(2)\n",
        "\n",
        "head.next = node2\n",
        "node2.prev = head\n",
        "node2.next = node3\n",
        "node3.prev = node2\n",
        "node3.next = node4\n",
        "node4.prev = node3\n",
        "\n",
        "# Reverse the linked list\n",
        "reversed_head = reverse_doubly_linked_list(head)\n",
        "\n",
        "# Print the reversed linked list\n",
        "current = reversed_head\n",
        "while current is not None:\n",
        "   print(current.data, end=\" \")\n",
        "   current = current.next"
      ],
      "metadata": {
        "colab": {
          "base_uri": "https://localhost:8080/"
        },
        "id": "EVl7dOpj698d",
        "outputId": "e839caa6-5a6c-4223-f629-e72bc0e7f68f"
      },
      "execution_count": null,
      "outputs": [
        {
          "output_type": "stream",
          "name": "stdout",
          "text": [
            "2 4 8 10 "
          ]
        }
      ]
    },
    {
      "cell_type": "markdown",
      "source": [
        "#Solution for question 8"
      ],
      "metadata": {
        "id": "sGEP2Aht887_"
      }
    },
    {
      "cell_type": "code",
      "source": [
        "class Node:\n",
        "    def __init__(self, data):\n",
        "        self.data = data\n",
        "        self.prev = None\n",
        "        self.next = None\n",
        "\n",
        "def deleteNode(head, position):\n",
        "    if head is None:\n",
        "        return head\n",
        "\n",
        "    if position < 1:\n",
        "        return head\n",
        "\n",
        "    if position == 1:\n",
        "        head = head.next\n",
        "        if head is not None:\n",
        "            head.prev = None\n",
        "        return head\n",
        "\n",
        "    current = head\n",
        "    count = 1\n",
        "    while current is not None and count < position:\n",
        "        current = current.next\n",
        "        count += 1\n",
        "\n",
        "    if current is None:\n",
        "        return head\n",
        "\n",
        "    if current.next is not None:\n",
        "        current.next.prev = current.prev\n",
        "\n",
        "    if current.prev is not None:\n",
        "        current.prev.next = current.next\n",
        "\n",
        "    del current\n",
        "    return head\n",
        "\n",
        "# Creating the initial doubly linked list\n",
        "node1 = Node(2)\n",
        "node2 = Node(5)\n",
        "node3 = Node(7)\n",
        "node4 = Node(9)\n",
        "node1.next = node2\n",
        "node2.prev = node1\n",
        "node2.next = node3\n",
        "node3.prev = node2\n",
        "node3.next = node4\n",
        "node4.prev = node3\n",
        "\n",
        "# Original doubly linked list: 2 <--> 5 <--> 7 <--> 9\n",
        "head = node1\n",
        "\n",
        "# Deleting node at position 2\n",
        "position = 2\n",
        "head = deleteNode(head, position)\n",
        "\n",
        "# Traversing the updated doubly linked list\n",
        "current = head\n",
        "while current is not None:\n",
        "    print(current.data, end=\" <--> \")\n",
        "    current = current.next\n",
        "print(\"None\")"
      ],
      "metadata": {
        "colab": {
          "base_uri": "https://localhost:8080/"
        },
        "id": "jRwuX93W8Pus",
        "outputId": "2ff17215-1f90-45d1-fcb7-af6b1f5b80b9"
      },
      "execution_count": null,
      "outputs": [
        {
          "output_type": "stream",
          "name": "stdout",
          "text": [
            "2 <--> 7 <--> 9 <--> None\n"
          ]
        }
      ]
    },
    {
      "cell_type": "code",
      "source": [],
      "metadata": {
        "id": "SX8B3GGj8rkR"
      },
      "execution_count": null,
      "outputs": []
    }
  ]
}