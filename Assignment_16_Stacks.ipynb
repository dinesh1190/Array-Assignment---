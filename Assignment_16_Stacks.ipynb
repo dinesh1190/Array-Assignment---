{
  "nbformat": 4,
  "nbformat_minor": 0,
  "metadata": {
    "colab": {
      "provenance": [],
      "include_colab_link": true
    },
    "kernelspec": {
      "name": "python3",
      "display_name": "Python 3"
    },
    "language_info": {
      "name": "python"
    }
  },
  "cells": [
    {
      "cell_type": "markdown",
      "metadata": {
        "id": "view-in-github",
        "colab_type": "text"
      },
      "source": [
        "<a href=\"https://colab.research.google.com/github/dinesh1190/Array-Assignment---/blob/main/Assignment_16_Stacks.ipynb\" target=\"_parent\"><img src=\"https://colab.research.google.com/assets/colab-badge.svg\" alt=\"Open In Colab\"/></a>"
      ]
    },
    {
      "cell_type": "markdown",
      "source": [
        "#Solution for question 1"
      ],
      "metadata": {
        "id": "SzZQIjkExEOf"
      }
    },
    {
      "cell_type": "code",
      "execution_count": null,
      "metadata": {
        "id": "SvfzyYT6tgfj"
      },
      "outputs": [],
      "source": [
        "\n",
        "def find_nearest_element_with_greater_frequency(a):\n",
        "    frequency = {}\n",
        "    stack = []\n",
        "    result = [-1] * len(a)\n",
        "\n",
        "    for i in range(len(a) - 1, -1, -1):\n",
        "        frequency[a[i]] = frequency.get(a[i], 0) + 1\n",
        "        stack.append(i)\n",
        "\n",
        "        while stack and frequency[a[stack[-1]]] <= frequency[a[i]]:\n",
        "            stack.pop()\n",
        "\n",
        "        if stack:\n",
        "            result[i] = a[stack[-1]]\n",
        "\n",
        "    return result"
      ]
    },
    {
      "cell_type": "code",
      "source": [
        "a = [1, 1, 2, 3, 4, 2, 1]\n",
        "output = find_nearest_element_with_greater_frequency(a)\n",
        "print(output)"
      ],
      "metadata": {
        "colab": {
          "base_uri": "https://localhost:8080/"
        },
        "id": "7cBEMeswtjrN",
        "outputId": "b79cc4a6-db95-4dc9-d993-bcf2c7c48e27"
      },
      "execution_count": null,
      "outputs": [
        {
          "output_type": "stream",
          "name": "stdout",
          "text": [
            "[-1, -1, -1, -1, -1, -1, -1]\n"
          ]
        }
      ]
    },
    {
      "cell_type": "markdown",
      "source": [
        "#Solution for question 2"
      ],
      "metadata": {
        "id": "Yz_1wnnOxKVz"
      }
    },
    {
      "cell_type": "code",
      "source": [
        "\n",
        "def sort_stack(stack):\n",
        "    temp_stack = []\n",
        "\n",
        "    while stack:\n",
        "        temp = stack.pop()\n",
        "\n",
        "        while temp_stack and temp_stack[-1] > temp:\n",
        "            stack.append(temp_stack.pop())\n",
        "\n",
        "        temp_stack.append(temp)\n",
        "\n",
        "    while temp_stack:\n",
        "        stack.append(temp_stack.pop())\n",
        "\n",
        "    return stack"
      ],
      "metadata": {
        "id": "GK-TpmpLtm5U"
      },
      "execution_count": null,
      "outputs": []
    },
    {
      "cell_type": "code",
      "source": [
        "stack1 = [34, 3, 31, 98, 92, 23]\n",
        "print(sort_stack(stack1))\n",
        "\n",
        "stack2 = [3, 5, 1, 4, 2, 8]\n",
        "print(sort_stack(stack2))"
      ],
      "metadata": {
        "colab": {
          "base_uri": "https://localhost:8080/"
        },
        "id": "31uRb-JCtt6D",
        "outputId": "69bad21b-3d82-4ee1-a0c2-d387cb8ad8ee"
      },
      "execution_count": null,
      "outputs": [
        {
          "output_type": "stream",
          "name": "stdout",
          "text": [
            "[98, 92, 34, 31, 23, 3]\n",
            "[8, 5, 4, 3, 2, 1]\n"
          ]
        }
      ]
    },
    {
      "cell_type": "markdown",
      "source": [
        "#Solution for question 3"
      ],
      "metadata": {
        "id": "Hv2FrpnsxL1V"
      }
    },
    {
      "cell_type": "code",
      "source": [
        "\n",
        "def deleteMiddle(stack, position):\n",
        "    if position == 1:\n",
        "        stack.pop()\n",
        "        return\n",
        "    temp = stack.pop()\n",
        "    deleteMiddle(stack, position - 1)\n",
        "    stack.append(temp)\n",
        "\n",
        "def deleteMiddleElement(stack):\n",
        "    if len(stack) == 0 or len(stack) == 1:\n",
        "        return stack\n",
        "\n",
        "    size = len(stack)\n",
        "    position = size // 2 if size % 2 == 0 else (size // 2) + 1\n",
        "\n",
        "    deleteMiddle(stack, position)\n",
        "\n",
        "    return stack\n",
        "\n",
        "stack = [1, 2, 3, 4, 5]\n",
        "result = deleteMiddleElement(stack)\n",
        "print(result)"
      ],
      "metadata": {
        "colab": {
          "base_uri": "https://localhost:8080/"
        },
        "id": "M7JbjqBCtwVZ",
        "outputId": "36784b19-fad6-4c7c-b783-b5bd2df06f25"
      },
      "execution_count": null,
      "outputs": [
        {
          "output_type": "stream",
          "name": "stdout",
          "text": [
            "[1, 2, 4, 5]\n"
          ]
        }
      ]
    },
    {
      "cell_type": "markdown",
      "source": [
        "#Solution for question 4"
      ],
      "metadata": {
        "id": "xFYnSEhuxNXG"
      }
    },
    {
      "cell_type": "code",
      "source": [
        "\n",
        "from queue import Queue\n",
        "\n",
        "def check_queue_order(queue):\n",
        "    stack = []\n",
        "    second_queue = Queue()\n",
        "    expected = 1\n",
        "\n",
        "    while not queue.empty():\n",
        "        if queue.queue[0] == expected:\n",
        "            second_queue.put(queue.get())\n",
        "            expected += 1\n",
        "        elif stack and stack[-1] == expected:\n",
        "            second_queue.put(stack.pop())\n",
        "            expected += 1\n",
        "        else:\n",
        "            stack.append(queue.get())\n",
        "\n",
        "    while stack:\n",
        "        second_queue.put(stack.pop())\n",
        "    for i in range(1, second_queue.qsize() + 1):\n",
        "        if second_queue.get() != i:\n",
        "            return \"No\"\n",
        "\n",
        "    return \"Yes\""
      ],
      "metadata": {
        "id": "USrcLcmduD8j"
      },
      "execution_count": null,
      "outputs": []
    },
    {
      "cell_type": "code",
      "source": [
        "queue = Queue()\n",
        "queue.put(5)\n",
        "queue.put(1)\n",
        "queue.put(2)\n",
        "queue.put(3)\n",
        "queue.put(4)\n",
        "\n",
        "result = check_queue_order(queue)\n",
        "print(result)"
      ],
      "metadata": {
        "colab": {
          "base_uri": "https://localhost:8080/"
        },
        "id": "qI0-RjZ5uO_g",
        "outputId": "0d7769ed-f825-4c29-946c-553e100098d9"
      },
      "execution_count": null,
      "outputs": [
        {
          "output_type": "stream",
          "name": "stdout",
          "text": [
            "Yes\n"
          ]
        }
      ]
    },
    {
      "cell_type": "markdown",
      "source": [
        "#Solution for question 5"
      ],
      "metadata": {
        "id": "eJs-d_lCxOyr"
      }
    },
    {
      "cell_type": "code",
      "source": [
        "\n",
        "class Stack:\n",
        "    def __init__(self):\n",
        "        self.stack = []\n",
        "\n",
        "    def push(self, item):\n",
        "        self.stack.append(item)\n",
        "\n",
        "    def pop(self):\n",
        "        if not self.is_empty():\n",
        "            return self.stack.pop()\n",
        "        else:\n",
        "            return None\n",
        "\n",
        "    def is_empty(self):\n",
        "        return len(self.stack) == 0\n",
        "\n",
        "\n",
        "def reverse_number(number):\n",
        "    stack = Stack()\n",
        "    # Push each digit of the number onto the stack\n",
        "    while number > 0:\n",
        "        digit = number % 10\n",
        "        stack.push(digit)\n",
        "        number //= 10\n",
        "\n",
        "    reversed_number = 0\n",
        "    multiplier = 1\n",
        "\n",
        "    # Pop digits from the stack and construct the reversed number\n",
        "    while not stack.is_empty():\n",
        "        digit = stack.pop()\n",
        "        reversed_number += digit * multiplier\n",
        "        multiplier *= 10\n",
        "\n",
        "    return reversed_number\n",
        "# Example usage\n",
        "number = int(input(\"Enter a number: \"))\n",
        "reversed_number = reverse_number(number)\n",
        "print(\"Reversed number:\", reversed_number)"
      ],
      "metadata": {
        "colab": {
          "base_uri": "https://localhost:8080/"
        },
        "id": "n5z9ulSIuPz0",
        "outputId": "53590476-cf09-4e1d-8982-0b2fca14c9da"
      },
      "execution_count": null,
      "outputs": [
        {
          "output_type": "stream",
          "name": "stdout",
          "text": [
            "Enter a number: 457\n",
            "Reversed number: 754\n"
          ]
        }
      ]
    },
    {
      "cell_type": "markdown",
      "source": [
        "#Solution for question 6"
      ],
      "metadata": {
        "id": "8Se3PpLCxQHa"
      }
    },
    {
      "cell_type": "code",
      "source": [
        "\n",
        "class Queue:\n",
        "    def __init__(self):\n",
        "        self.items = []\n",
        "\n",
        "    def enqueue(self, item):\n",
        "        self.items.append(item)\n",
        "\n",
        "    def dequeue(self):\n",
        "        if not self.empty():\n",
        "            return self.items.pop(0)\n",
        "\n",
        "    def size(self):\n",
        "        return len(self.items)\n",
        "\n",
        "    def front(self):\n",
        "        if not self.empty():\n",
        "            return self.items[0]\n",
        "\n",
        "    def empty(self):\n",
        "        return len(self.items) == 0\n",
        "\n",
        "def reverse_k_elements(queue, k):\n",
        "    if k <= 0 or k > queue.size():\n",
        "        return\n",
        "\n",
        "    stack = []\n",
        "\n",
        "    for _ in range(k):\n",
        "        stack.append(queue.front())\n",
        "        queue.dequeue()\n",
        "\n",
        "    while not queue.empty():\n",
        "        queue.enqueue(queue.front())\n",
        "        queue.dequeue()\n",
        "\n",
        "    while stack:\n",
        "        queue.enqueue(stack.pop())\n",
        "\n",
        "    return queue"
      ],
      "metadata": {
        "id": "9vz5gqczuypy"
      },
      "execution_count": null,
      "outputs": []
    },
    {
      "cell_type": "markdown",
      "source": [
        "#Solution for question 7"
      ],
      "metadata": {
        "id": "ibp0FeKExR-b"
      }
    },
    {
      "cell_type": "code",
      "source": [
        "\n",
        "def check_word_destruction(sequence):\n",
        "    stack = []\n",
        "\n",
        "    for word in sequence:\n",
        "        if not stack:\n",
        "            stack.append(word)\n",
        "        else:\n",
        "            top = stack[-1]\n",
        "            if top == word:\n",
        "                stack.pop()\n",
        "            else:\n",
        "                stack.append(word)\n",
        "\n",
        "    return len(stack)\n",
        "\n",
        "# Example usage:\n",
        "sequence = input(\"Enter the sequence of words: \").split()\n",
        "result = check_word_destruction(sequence)\n",
        "print(\"Number of words left:\", result)"
      ],
      "metadata": {
        "colab": {
          "base_uri": "https://localhost:8080/"
        },
        "id": "sCTkPn96vSNB",
        "outputId": "a99756a2-1ea2-45d3-b2fb-c8d099468a67"
      },
      "execution_count": null,
      "outputs": [
        {
          "output_type": "stream",
          "name": "stdout",
          "text": [
            "Enter the sequence of words: Credit card usage\n",
            "Number of words left: 3\n"
          ]
        }
      ]
    },
    {
      "cell_type": "markdown",
      "source": [
        "#Solution for question 8"
      ],
      "metadata": {
        "id": "2ApH-COExT_I"
      }
    },
    {
      "cell_type": "code",
      "source": [
        "def findMaxAbsDiff(arr):\n",
        "    n = len(arr)\n",
        "    maxDiff = 0\n",
        "\n",
        "    for i in range(n):\n",
        "        leftSmaller = 0\n",
        "        rightSmaller = 0\n",
        "\n",
        "        # Find the nearest smaller element on the left\n",
        "        for j in range(i-1, -1, -1):\n",
        "            if arr[j] < arr[i]:\n",
        "                leftSmaller = arr[j]\n",
        "                break\n",
        "\n",
        "        # Find the nearest smaller element on the right\n",
        "        for j in range(i+1, n):\n",
        "            if arr[j] < arr[i]:\n",
        "                rightSmaller = arr[j]\n",
        "                break\n",
        "\n",
        "        # Update the maximum absolute difference\n",
        "        maxDiff = max(maxDiff, abs(leftSmaller - rightSmaller))\n",
        "\n",
        "    return maxDiff"
      ],
      "metadata": {
        "id": "46BubYCzwUsy"
      },
      "execution_count": null,
      "outputs": []
    },
    {
      "cell_type": "code",
      "source": [
        "arr1 = [2, 1, 8]\n",
        "print(findMaxAbsDiff(arr1))"
      ],
      "metadata": {
        "colab": {
          "base_uri": "https://localhost:8080/"
        },
        "id": "gnZ02enWw1gz",
        "outputId": "8ccd48fb-1078-46fd-d23f-ba598d322d59"
      },
      "execution_count": null,
      "outputs": [
        {
          "output_type": "stream",
          "name": "stdout",
          "text": [
            "1\n"
          ]
        }
      ]
    },
    {
      "cell_type": "code",
      "source": [],
      "metadata": {
        "id": "BlpGIMuDw6R1"
      },
      "execution_count": null,
      "outputs": []
    }
  ]
}