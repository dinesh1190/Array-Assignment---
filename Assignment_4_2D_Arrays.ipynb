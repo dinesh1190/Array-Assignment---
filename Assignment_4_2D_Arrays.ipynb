{
  "nbformat": 4,
  "nbformat_minor": 0,
  "metadata": {
    "colab": {
      "provenance": [],
      "include_colab_link": true
    },
    "kernelspec": {
      "name": "python3",
      "display_name": "Python 3"
    },
    "language_info": {
      "name": "python"
    }
  },
  "cells": [
    {
      "cell_type": "markdown",
      "metadata": {
        "id": "view-in-github",
        "colab_type": "text"
      },
      "source": [
        "<a href=\"https://colab.research.google.com/github/dinesh1190/Array-Assignment---/blob/main/Assignment_4_2D_Arrays.ipynb\" target=\"_parent\"><img src=\"https://colab.research.google.com/assets/colab-badge.svg\" alt=\"Open In Colab\"/></a>"
      ]
    },
    {
      "cell_type": "markdown",
      "source": [
        "#Solution for question 1"
      ],
      "metadata": {
        "id": "BgMG_Yenyuz4"
      }
    },
    {
      "cell_type": "code",
      "execution_count": null,
      "metadata": {
        "id": "jfTnGfttqhTZ"
      },
      "outputs": [],
      "source": [
        "def findCommonElements(arr1, arr2, arr3):\n",
        "    p1 = p2 = p3 = 0\n",
        "    result = []\n",
        "    \n",
        "    while p1 < len(arr1) and p2 < len(arr2) and p3 < len(arr3):\n",
        "        if arr1[p1] == arr2[p2] == arr3[p3]:\n",
        "            result.append(arr1[p1])\n",
        "            p1 += 1\n",
        "            p2 += 1\n",
        "            p3 += 1\n",
        "        elif arr1[p1] < arr2[p2]:\n",
        "            p1 += 1\n",
        "        elif arr2[p2] < arr3[p3]:\n",
        "            p2 += 1\n",
        "        else:\n",
        "            p3 += 1\n",
        "    \n",
        "    return result"
      ]
    },
    {
      "cell_type": "code",
      "source": [
        "arr1 = [1,2,3,4,5]\n",
        "arr2 = [1,2,5,7,9]\n",
        "arr3 = [1,3,4,5,8]\n",
        "print(findCommonElements(arr1, arr2, arr3))"
      ],
      "metadata": {
        "colab": {
          "base_uri": "https://localhost:8080/"
        },
        "id": "B9DvIYZsqlBv",
        "outputId": "b204cdf2-a8c1-43cb-85f9-aa7ee8e8c38a"
      },
      "execution_count": null,
      "outputs": [
        {
          "output_type": "stream",
          "name": "stdout",
          "text": [
            "[1, 5]\n"
          ]
        }
      ]
    },
    {
      "cell_type": "markdown",
      "source": [
        "#Solution  for question 2"
      ],
      "metadata": {
        "id": "bcFPkuLTy0wZ"
      }
    },
    {
      "cell_type": "code",
      "source": [
        "def findDisappearedNumbers(nums1, nums2):\n",
        "    set1 = set(nums1)\n",
        "    set2 = set(nums2)\n",
        "    \n",
        "    not_in_nums2 = [x for x in set1 if x not in set2]\n",
        "    not_in_nums1 = [x for x in set2 if x not in set1]\n",
        "    \n",
        "    return [not_in_nums1, not_in_nums2]"
      ],
      "metadata": {
        "id": "kdam53ZGq8D0"
      },
      "execution_count": null,
      "outputs": []
    },
    {
      "cell_type": "code",
      "source": [
        "nums1 = [1, 2, 3]\n",
        "nums2 = [2, 4, 6]\n",
        "print(findDisappearedNumbers(nums1, nums2))"
      ],
      "metadata": {
        "colab": {
          "base_uri": "https://localhost:8080/"
        },
        "id": "7hSAG0j-q77H",
        "outputId": "2300b174-2b8f-4573-8775-fc7ddb997bea"
      },
      "execution_count": null,
      "outputs": [
        {
          "output_type": "stream",
          "name": "stdout",
          "text": [
            "[[4, 6], [1, 3]]\n"
          ]
        }
      ]
    },
    {
      "cell_type": "markdown",
      "source": [
        "#Solution for question 3"
      ],
      "metadata": {
        "id": "VVcJKnh9y6hS"
      }
    },
    {
      "cell_type": "code",
      "source": [
        "def transpose(matrix):\n",
        "    rows = len(matrix)\n",
        "    cols = len(matrix[0])\n",
        "    transposed = [[0 for _ in range(rows)] for _ in range(cols)]\n",
        "    \n",
        "    for i in range(rows):\n",
        "        for j in range(cols):\n",
        "            transposed[j][i] = matrix[i][j]\n",
        "    \n",
        "    return transposed"
      ],
      "metadata": {
        "id": "hNcdiGzJq73q"
      },
      "execution_count": null,
      "outputs": []
    },
    {
      "cell_type": "code",
      "source": [
        "matrix = [[1, 2, 3], [4, 5, 6], [7, 8, 9]]\n",
        "result = transpose(matrix)\n",
        "print(result)"
      ],
      "metadata": {
        "colab": {
          "base_uri": "https://localhost:8080/"
        },
        "id": "v7l4b4JXq71W",
        "outputId": "0119c4ee-60f0-40ca-9b54-b4c9f3797b61"
      },
      "execution_count": null,
      "outputs": [
        {
          "output_type": "stream",
          "name": "stdout",
          "text": [
            "[[1, 4, 7], [2, 5, 8], [3, 6, 9]]\n"
          ]
        }
      ]
    },
    {
      "cell_type": "markdown",
      "source": [
        "#Solution for question 4"
      ],
      "metadata": {
        "id": "BuR6PpN0y-0R"
      }
    },
    {
      "cell_type": "code",
      "source": [
        "def arrayPairSum(nums):\n",
        "    nums.sort()  # Sort the array in ascending order\n",
        "    max_sum = 0\n",
        "    for i in range(0, len(nums), 2):\n",
        "        max_sum += nums[i]\n",
        "    return max_sum"
      ],
      "metadata": {
        "id": "Xed0SpvFq7y3"
      },
      "execution_count": null,
      "outputs": []
    },
    {
      "cell_type": "code",
      "source": [
        "nums = [1, 4, 3, 2]\n",
        "result = arrayPairSum(nums)\n",
        "print(result) "
      ],
      "metadata": {
        "colab": {
          "base_uri": "https://localhost:8080/"
        },
        "id": "iiHYCOBoq7wV",
        "outputId": "c8b335d6-4cee-4c2c-8f5b-bb2297beb47d"
      },
      "execution_count": null,
      "outputs": [
        {
          "output_type": "stream",
          "name": "stdout",
          "text": [
            "4\n"
          ]
        }
      ]
    },
    {
      "cell_type": "markdown",
      "source": [
        "#Solution for question 5"
      ],
      "metadata": {
        "id": "i773Pdc9zDPF"
      }
    },
    {
      "cell_type": "code",
      "source": [
        "def find_complete_rows(n):\n",
        "    total_coins = n\n",
        "    complete_rows = 0\n",
        "    current_row = 1\n",
        "\n",
        "    while total_coins >= current_row:\n",
        "        total_coins -= current_row\n",
        "        complete_rows += 1\n",
        "        current_row += 1\n",
        "\n",
        "    return complete_rows"
      ],
      "metadata": {
        "id": "T4-8mTzMvToL"
      },
      "execution_count": null,
      "outputs": []
    },
    {
      "cell_type": "code",
      "source": [
        "n = 5\n",
        "result = find_complete_rows(n)\n",
        "print(result)"
      ],
      "metadata": {
        "colab": {
          "base_uri": "https://localhost:8080/"
        },
        "id": "BOPjtRJUvVtf",
        "outputId": "9d1df7c3-9c31-4aa9-f7a2-c8c9bfe98d78"
      },
      "execution_count": null,
      "outputs": [
        {
          "output_type": "stream",
          "name": "stdout",
          "text": [
            "2\n"
          ]
        }
      ]
    },
    {
      "cell_type": "markdown",
      "source": [
        "#Solution for question 6"
      ],
      "metadata": {
        "id": "g6ZU9PAvzH3L"
      }
    },
    {
      "cell_type": "code",
      "source": [
        "def sortedSquares(nums):\n",
        "    result = []\n",
        "    for num in nums:\n",
        "        result.append(num * num)\n",
        "    result.sort()\n",
        "    return result"
      ],
      "metadata": {
        "id": "71ZheNtlxBOJ"
      },
      "execution_count": null,
      "outputs": []
    },
    {
      "cell_type": "code",
      "source": [
        "nums = [-4, -1, 0, 3, 10]\n",
        "output = sortedSquares(nums)\n",
        "print(output)\n"
      ],
      "metadata": {
        "colab": {
          "base_uri": "https://localhost:8080/"
        },
        "id": "onRwkpnjxEG-",
        "outputId": "9740c6dd-7c39-4887-b0b6-1cb47d352f82"
      },
      "execution_count": null,
      "outputs": [
        {
          "output_type": "stream",
          "name": "stdout",
          "text": [
            "[0, 1, 9, 16, 100]\n"
          ]
        }
      ]
    },
    {
      "cell_type": "markdown",
      "source": [
        "#Solution for question 7"
      ],
      "metadata": {
        "id": "5nQK357SzM7G"
      }
    },
    {
      "cell_type": "code",
      "source": [
        "\n",
        "\n",
        "from typing import List\n",
        "\n",
        "def maxCount(m: int, n: int, ops: List[List[int]]) -> int:\n",
        "    if not ops:\n",
        "        return m * n  # No operations, so the maximum value will be the entire matrix.\n",
        "\n",
        "    min_x = float('inf')  # Minimum x-coordinate affected by the operations\n",
        "    min_y = float('inf')  # Minimum y-coordinate affected by the operations\n",
        "\n",
        "    for op in ops:\n",
        "        min_x = min(min_x, op[0])\n",
        "        min_y = min(min_y, op[1])\n",
        "\n",
        "    return min_x * min_y"
      ],
      "metadata": {
        "id": "duunE9vMxGjQ"
      },
      "execution_count": null,
      "outputs": []
    },
    {
      "cell_type": "code",
      "source": [
        "m = 3\n",
        "n = 3\n",
        "ops = [[2, 2], [3, 3]]\n",
        "result = maxCount(m, n, ops)\n",
        "print(result)  "
      ],
      "metadata": {
        "colab": {
          "base_uri": "https://localhost:8080/"
        },
        "id": "FpbgucSQyBw7",
        "outputId": "ca3e3dfa-cf7b-41cd-814a-b32731f94bd6"
      },
      "execution_count": null,
      "outputs": [
        {
          "output_type": "stream",
          "name": "stdout",
          "text": [
            "4\n"
          ]
        }
      ]
    },
    {
      "cell_type": "markdown",
      "source": [
        "#Solution for question 8"
      ],
      "metadata": {
        "id": "oXJbW-A4zREL"
      }
    },
    {
      "cell_type": "code",
      "source": [
        "def rearrange_array(nums, n):\n",
        "    result = []\n",
        "    for i in range(n):\n",
        "        result.append(nums[i])\n",
        "        result.append(nums[i+n])\n",
        "    return result"
      ],
      "metadata": {
        "id": "3MnDg3Y1yEUZ"
      },
      "execution_count": null,
      "outputs": []
    },
    {
      "cell_type": "code",
      "source": [
        "nums = [2, 5, 1, 3, 4, 7]\n",
        "n = 3\n",
        "output = rearrange_array(nums, n)\n",
        "print(output)"
      ],
      "metadata": {
        "colab": {
          "base_uri": "https://localhost:8080/"
        },
        "id": "FEThULXByqbH",
        "outputId": "6a607116-f1f4-48f6-f958-277a5f6eb756"
      },
      "execution_count": null,
      "outputs": [
        {
          "output_type": "stream",
          "name": "stdout",
          "text": [
            "[2, 3, 5, 4, 1, 7]\n"
          ]
        }
      ]
    },
    {
      "cell_type": "code",
      "source": [],
      "metadata": {
        "id": "3Q1nWldjysor"
      },
      "execution_count": null,
      "outputs": []
    }
  ]
}