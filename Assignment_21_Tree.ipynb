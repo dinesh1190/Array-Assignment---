{
  "nbformat": 4,
  "nbformat_minor": 0,
  "metadata": {
    "colab": {
      "provenance": [],
      "include_colab_link": true
    },
    "kernelspec": {
      "name": "python3",
      "display_name": "Python 3"
    },
    "language_info": {
      "name": "python"
    }
  },
  "cells": [
    {
      "cell_type": "markdown",
      "metadata": {
        "id": "view-in-github",
        "colab_type": "text"
      },
      "source": [
        "<a href=\"https://colab.research.google.com/github/dinesh1190/Array-Assignment---/blob/main/Assignment_21_Tree.ipynb\" target=\"_parent\"><img src=\"https://colab.research.google.com/assets/colab-badge.svg\" alt=\"Open In Colab\"/></a>"
      ]
    },
    {
      "cell_type": "markdown",
      "source": [
        "#Solution for question 1"
      ],
      "metadata": {
        "id": "lFbY22ojiswl"
      }
    },
    {
      "cell_type": "code",
      "execution_count": null,
      "metadata": {
        "colab": {
          "base_uri": "https://localhost:8080/"
        },
        "id": "QANXBAl7gOYJ",
        "outputId": "fd8cd132-a136-4492-c952-2d8588513172"
      },
      "outputs": [
        {
          "output_type": "stream",
          "name": "stdout",
          "text": [
            "2\n",
            "4\n",
            "7\n",
            "8\n",
            "10\n"
          ]
        }
      ],
      "source": [
        "class TreeNode:\n",
        "    def __init__(self, value):\n",
        "        self.val = value\n",
        "        self.left = None\n",
        "        self.right = None\n",
        "\n",
        "def convert_to_bst(root):\n",
        "    # Collect all nodes using in-order traversal\n",
        "    def in_order_traversal(node):\n",
        "        nonlocal nodes\n",
        "        if node:\n",
        "            in_order_traversal(node.left)\n",
        "            nodes.append(node)\n",
        "            in_order_traversal(node.right)\n",
        "\n",
        "    # Update node values with sorted values\n",
        "    def update_values(node):\n",
        "        nonlocal index\n",
        "        if node:\n",
        "            update_values(node.left)\n",
        "            node.val = sorted_values[index]\n",
        "            index += 1\n",
        "            update_values(node.right)\n",
        "\n",
        "    # Perform in-order traversal to collect nodes\n",
        "    nodes = []\n",
        "    in_order_traversal(root)\n",
        "\n",
        "    # Sort the values\n",
        "    sorted_values = sorted(node.val for node in nodes)\n",
        "\n",
        "    # Update node values with sorted values\n",
        "    index = 0\n",
        "    update_values(root)\n",
        "\n",
        "    return root\n",
        "\n",
        "# Test the code with the given input\n",
        "root = TreeNode(10)\n",
        "root.left = TreeNode(2)\n",
        "root.right = TreeNode(7)\n",
        "root.left.left = TreeNode(8)\n",
        "root.left.right = TreeNode(4)\n",
        "\n",
        "converted_root = convert_to_bst(root)\n",
        "\n",
        "# Helper function to print the binary tree\n",
        "def print_tree(root):\n",
        "    if root is None:\n",
        "        return\n",
        "    print_tree(root.left)\n",
        "    print(root.val)\n",
        "    print_tree(root.right)\n",
        "\n",
        "print_tree(converted_root)"
      ]
    },
    {
      "cell_type": "markdown",
      "source": [
        "#Solution for question 2"
      ],
      "metadata": {
        "id": "54s0GEsCixwW"
      }
    },
    {
      "cell_type": "code",
      "source": [
        "class TreeNode:\n",
        "    def __init__(self, value):\n",
        "        self.val = value\n",
        "        self.left = None\n",
        "        self.right = None\n",
        "\n",
        "def find_distance(root, node1, node2):\n",
        "    # Helper function to find the distance between a node and a key\n",
        "    def find_node_distance(node, key):\n",
        "        if node.val == key:\n",
        "            return 0\n",
        "        elif key < node.val:\n",
        "            return 1 + find_node_distance(node.left, key)\n",
        "        else:\n",
        "            return 1 + find_node_distance(node.right, key)\n",
        "\n",
        "    # Find the lowest common ancestor of the two nodes\n",
        "    while root:\n",
        "      if node1 < root.val and node2 < root.val:\n",
        "            root = root.left\n",
        "      elif node1 > root.val and node2 > root.val:\n",
        "            root = root.right\n",
        "      else:\n",
        "            break\n",
        "\n",
        "    # Find the distances from the lowest common ancestor to the two nodes\n",
        "    distance1 = find_node_distance(root, node1)\n",
        "    distance2 = find_node_distance(root, node2)\n",
        "\n",
        "    # Return the sum of the distances\n",
        "    return distance1 + distance2\n",
        "# Test the code with the given input\n",
        "root = TreeNode(8)\n",
        "root.left = TreeNode(3)\n",
        "root.right = TreeNode(10)\n",
        "root.left.left = TreeNode(1)\n",
        "root.left.right = TreeNode(6)\n",
        "root.left.right.left = TreeNode(4)\n",
        "root.left.right.right = TreeNode(7)\n",
        "root.right.right = TreeNode(14)\n",
        "root.right.right.left = TreeNode(13)\n",
        "\n",
        "node1 = 6\n",
        "node2 = 14\n",
        "\n",
        "distance = find_distance(root, node1, node2)\n",
        "print(\"The distance between the two keys:\", distance)"
      ],
      "metadata": {
        "colab": {
          "base_uri": "https://localhost:8080/"
        },
        "id": "-a8lV6KMg0fC",
        "outputId": "af57a892-5b11-4d42-e572-e15f30403a7c"
      },
      "execution_count": null,
      "outputs": [
        {
          "output_type": "stream",
          "name": "stdout",
          "text": [
            "The distance between the two keys: 4\n"
          ]
        }
      ]
    },
    {
      "cell_type": "markdown",
      "source": [
        "#Solution for question 3"
      ],
      "metadata": {
        "id": "gOLwCoFoi0YT"
      }
    },
    {
      "cell_type": "code",
      "source": [
        "class DoublyLinkedListNode:\n",
        "    def __init__(self, value):\n",
        "        self.value = value\n",
        "        self.prev = None\n",
        "        self.next = None\n",
        "\n",
        "\n",
        "def convertToDoublyLinkedList(root):\n",
        "    global prev_node\n",
        "    if root is None:\n",
        "        return None\n",
        "\n",
        "    convertToDoublyLinkedList(root.left)\n",
        "\n",
        "    new_node = DoublyLinkedListNode(root.value)\n",
        "\n",
        "    if prev_node is not None:\n",
        "        prev_node.next = new_node\n",
        "        new_node.prev = prev_node\n",
        "    prev_node = new_node\n",
        "\n",
        "    convertToDoublyLinkedList(root.right)\n",
        "\n",
        "    if prev_node is not None:\n",
        "        while prev_node.prev is not None:\n",
        "            prev_node = prev_node.prev\n",
        "\n",
        "    return prev_node\n",
        "\n",
        "\n",
        "def printDoublyLinkedList(head):\n",
        "    current = head\n",
        "    while current is not None:\n",
        "        print(current.value, end=\" \")\n",
        "        current = current.next\n",
        "    print()\n",
        "\n",
        "# Binary tree node definition\n",
        "class TreeNode:\n",
        "    def __init__(self, value):\n",
        "        self.value = value\n",
        "        self.left = None\n",
        "        self.right = None\n",
        "\n",
        "\n",
        "# Create the binary tree\n",
        "root = TreeNode(10)\n",
        "root.left = TreeNode(5)\n",
        "root.right = TreeNode(20)\n",
        "root.right.left = TreeNode(30)\n",
        "root.right.right = TreeNode(35)\n",
        "\n",
        "# Convert the binary tree to a doubly linked list\n",
        "prev_node = None\n",
        "head = convertToDoublyLinkedList(root)\n",
        "\n",
        "# Print the resulting doubly linked list\n",
        "printDoublyLinkedList(head)"
      ],
      "metadata": {
        "colab": {
          "base_uri": "https://localhost:8080/"
        },
        "id": "bieXibI6hiL9",
        "outputId": "5f3f9c7c-440e-4606-c996-a6b774d27b7d"
      },
      "execution_count": null,
      "outputs": [
        {
          "output_type": "stream",
          "name": "stdout",
          "text": [
            "5 20 35 \n"
          ]
        }
      ]
    },
    {
      "cell_type": "markdown",
      "source": [
        "#Solution for question 4"
      ],
      "metadata": {
        "id": "-LJTVHW9i2Xx"
      }
    },
    {
      "cell_type": "code",
      "source": [
        "class Node:\n",
        "    def __init__(self, value):\n",
        "        self.value = value\n",
        "        self.left = None\n",
        "        self.right = None\n",
        "        self.next = None\n",
        "\n",
        "\n",
        "def connect_nodes_at_same_level(root):\n",
        "    if not root:\n",
        "        return\n",
        "\n",
        "    queue = [root]\n",
        "\n",
        "    while queue:\n",
        "        level_size = len(queue)\n",
        "        for i in range(level_size):\n",
        "            node = queue.pop(0)\n",
        "\n",
        "            if i < level_size - 1:\n",
        "                node.next = queue[0]\n",
        "\n",
        "            if node.left:\n",
        "                queue.append(node.left)\n",
        "            if node.right:\n",
        "                queue.append(node.right)\n",
        "\n",
        "\n",
        "# Create the tree based on the provided example\n",
        "root = Node(1)\n",
        "root.left = Node(2)\n",
        "root.right = Node(3)\n",
        "root.left.left = Node(4)\n",
        "root.left.right = Node(5)\n",
        "root.right.left = Node(6)\n",
        "root.right.right = Node(7)\n",
        "\n",
        "# Connect nodes at the same level\n",
        "connect_nodes_at_same_level(root)\n",
        "\n",
        "# Print the connections\n",
        "node = root\n",
        "while node:\n",
        "    print(f\"{node.value} → {node.next.value if node.next else -1}\")\n",
        "    node = node.next"
      ],
      "metadata": {
        "colab": {
          "base_uri": "https://localhost:8080/"
        },
        "id": "tEDm6fDSiCcd",
        "outputId": "7f7692ce-6329-4740-8ad3-a2ed2ea1acb7"
      },
      "execution_count": null,
      "outputs": [
        {
          "output_type": "stream",
          "name": "stdout",
          "text": [
            "1 → -1\n"
          ]
        }
      ]
    },
    {
      "cell_type": "code",
      "source": [],
      "metadata": {
        "id": "ZbfHMpe_icxt"
      },
      "execution_count": null,
      "outputs": []
    }
  ]
}