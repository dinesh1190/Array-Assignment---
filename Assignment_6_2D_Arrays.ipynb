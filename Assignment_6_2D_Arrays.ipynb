{
  "nbformat": 4,
  "nbformat_minor": 0,
  "metadata": {
    "colab": {
      "provenance": [],
      "include_colab_link": true
    },
    "kernelspec": {
      "name": "python3",
      "display_name": "Python 3"
    },
    "language_info": {
      "name": "python"
    }
  },
  "cells": [
    {
      "cell_type": "markdown",
      "metadata": {
        "id": "view-in-github",
        "colab_type": "text"
      },
      "source": [
        "<a href=\"https://colab.research.google.com/github/dinesh1190/Array-Assignment---/blob/main/Assignment_6_2D_Arrays.ipynb\" target=\"_parent\"><img src=\"https://colab.research.google.com/assets/colab-badge.svg\" alt=\"Open In Colab\"/></a>"
      ]
    },
    {
      "cell_type": "markdown",
      "source": [
        "#Solution for question 2"
      ],
      "metadata": {
        "id": "qsYHcu5w8Se3"
      }
    },
    {
      "cell_type": "code",
      "execution_count": null,
      "metadata": {
        "id": "jORbWNu40ja_"
      },
      "outputs": [],
      "source": [
        "\n",
        "def searchMatrix(matrix, target):\n",
        "    rows = len(matrix)\n",
        "    cols = len(matrix[0])\n",
        "\n",
        "    # Perform binary search on the flattened matrix\n",
        "    left = 0\n",
        "    right = rows * cols - 1\n",
        "\n",
        "    while left <= right:\n",
        "        mid = (left + right) // 2\n",
        "        element = matrix[mid // cols][mid % cols]\n",
        "\n",
        "        if element == target:\n",
        "            return True\n",
        "        elif element < target:\n",
        "            left = mid + 1\n",
        "        else:\n",
        "            right = mid - 1\n",
        "\n",
        "    return False"
      ]
    },
    {
      "cell_type": "code",
      "source": [
        "matrix = [[1, 3, 5, 7], [10, 11, 16, 20], [23, 30, 34, 60]]\n",
        "target = 3\n",
        "\n",
        "print(searchMatrix(matrix, target))"
      ],
      "metadata": {
        "colab": {
          "base_uri": "https://localhost:8080/"
        },
        "id": "E8RlFjml1tRp",
        "outputId": "527e5c5d-b80e-4a62-ff75-4ba64c3c2d7a"
      },
      "execution_count": null,
      "outputs": [
        {
          "output_type": "stream",
          "name": "stdout",
          "text": [
            "True\n"
          ]
        }
      ]
    },
    {
      "cell_type": "markdown",
      "source": [
        "#Solution for question 3"
      ],
      "metadata": {
        "id": "CafOYM5G8XDT"
      }
    },
    {
      "cell_type": "code",
      "source": [
        "\n",
        "\n",
        "def validMountainArray(arr):\n",
        "    if len(arr) < 3:\n",
        "        return False\n",
        "\n",
        "    i = 0\n",
        "    n = len(arr)\n",
        "\n",
        "    # Check if the array is increasing\n",
        "    while i < n - 1 and arr[i] < arr[i + 1]:\n",
        "        i += 1\n",
        "\n",
        "    # Check if the peak exists\n",
        "    if i == 0 or i == n - 1:\n",
        "        return False\n",
        "\n",
        "    # Check if the array is decreasing\n",
        "    while i < n - 1 and arr[i] > arr[i + 1]:\n",
        "        i += 1\n",
        "\n",
        "    # If we reached the end of the array, it's a valid mountain\n",
        "    return i == n - 1"
      ],
      "metadata": {
        "id": "IQgRJWEo1wh_"
      },
      "execution_count": null,
      "outputs": []
    },
    {
      "cell_type": "code",
      "source": [
        "arr = [1, 2, 3, 4, 5]\n",
        "print(validMountainArray(arr))"
      ],
      "metadata": {
        "colab": {
          "base_uri": "https://localhost:8080/"
        },
        "id": "xbvaXF1X2jCi",
        "outputId": "3f85706f-1b74-4a64-ee7c-6bdc5c371969"
      },
      "execution_count": null,
      "outputs": [
        {
          "output_type": "stream",
          "name": "stdout",
          "text": [
            "False\n"
          ]
        }
      ]
    },
    {
      "cell_type": "markdown",
      "source": [
        "#Solution for question 4"
      ],
      "metadata": {
        "id": "9lp1sxYN8efV"
      }
    },
    {
      "cell_type": "code",
      "source": [
        "\n",
        "\n",
        "def findMaxLength(nums):\n",
        "    maxLen = 0\n",
        "    count = 0\n",
        "    countDict = {0: -1}  # Initialize countDict with count 0 at index -1\n",
        "\n",
        "    for i, num in enumerate(nums):\n",
        "        if num == 0:\n",
        "            count -= 1\n",
        "        else:\n",
        "            count += 1\n",
        "\n",
        "        if count in countDict:\n",
        "            length = i - countDict[count]\n",
        "            if length > maxLen:\n",
        "                maxLen = length\n",
        "        else:\n",
        "            countDict[count] = i\n",
        "\n",
        "    return maxLen"
      ],
      "metadata": {
        "id": "JZVFvE-W2-Ui"
      },
      "execution_count": null,
      "outputs": []
    },
    {
      "cell_type": "code",
      "source": [
        "nums = [0, 1, 0, 1]\n",
        "print(findMaxLength(nums))"
      ],
      "metadata": {
        "colab": {
          "base_uri": "https://localhost:8080/"
        },
        "id": "z5rmjbSq4YGN",
        "outputId": "18eb214c-f4a4-4591-e26b-95d89b492f47"
      },
      "execution_count": null,
      "outputs": [
        {
          "output_type": "stream",
          "name": "stdout",
          "text": [
            "4\n"
          ]
        }
      ]
    },
    {
      "cell_type": "markdown",
      "source": [
        "#Solution for question 5"
      ],
      "metadata": {
        "id": "hXGd7ib88hUU"
      }
    },
    {
      "cell_type": "code",
      "source": [
        "\n",
        "\n",
        "def minProductSum(nums1, nums2):\n",
        "    nums1.sort()\n",
        "    nums2.sort()\n",
        "    left, right = 0, len(nums1) - 1\n",
        "    minProductSum = 0\n",
        "\n",
        "    while left <= right:\n",
        "        minProductSum += nums1[left] * nums2[left]\n",
        "        left += 1\n",
        "        minProductSum += nums1[right] * nums2[right]\n",
        "        right -= 1\n",
        "\n",
        "    return minProductSum"
      ],
      "metadata": {
        "id": "Pb30V6Ro4bKM"
      },
      "execution_count": null,
      "outputs": []
    },
    {
      "cell_type": "code",
      "source": [
        "nums1 = [6,8,9,7,2]\n",
        "nums2 = [5,9,2,1,3]\n",
        "print(minProductSum(nums1, nums2))"
      ],
      "metadata": {
        "colab": {
          "base_uri": "https://localhost:8080/"
        },
        "id": "hkOS0N3I5czE",
        "outputId": "c10a2284-51a0-4428-9e6d-b00dcdffe4b4"
      },
      "execution_count": null,
      "outputs": [
        {
          "output_type": "stream",
          "name": "stdout",
          "text": [
            "177\n"
          ]
        }
      ]
    },
    {
      "cell_type": "markdown",
      "source": [
        "#Solution for question 7"
      ],
      "metadata": {
        "id": "v-N21OQd8lNy"
      }
    },
    {
      "cell_type": "code",
      "source": [
        "import numpy as np\n",
        "\n",
        "def generate_spiral_matrix(n):\n",
        "    matrix = np.zeros((n, n), dtype=int)\n",
        "    num = 1\n",
        "    row_start, row_end = 0, n - 1\n",
        "    col_start, col_end = 0, n - 1\n",
        "\n",
        "    while num <= n * n:\n",
        "        # Fill top row\n",
        "        for i in range(col_start, col_end + 1):\n",
        "            matrix[row_start][i] = num\n",
        "            num += 1\n",
        "        row_start += 1\n",
        "\n",
        "        # Fill right column\n",
        "        for i in range(row_start, row_end + 1):\n",
        "            matrix[i][col_end] = num\n",
        "            num += 1\n",
        "        col_end -= 1\n",
        "\n",
        "        # Fill bottom row\n",
        "        for i in range(col_end, col_start - 1, -1):\n",
        "            matrix[row_end][i] = num\n",
        "            num += 1\n",
        "        row_end -= 1\n",
        "\n",
        "        # Fill left column\n",
        "        for i in range(row_end, row_start - 1, -1):\n",
        "            matrix[i][col_start] = num\n",
        "            num += 1\n",
        "        col_start += 1\n",
        "\n",
        "    return matrix.tolist()"
      ],
      "metadata": {
        "id": "4C0vcb62769E"
      },
      "execution_count": null,
      "outputs": []
    },
    {
      "cell_type": "code",
      "source": [
        "n = 5\n",
        "result = generate_spiral_matrix(n)\n",
        "print(result)"
      ],
      "metadata": {
        "colab": {
          "base_uri": "https://localhost:8080/"
        },
        "id": "BkA-2xeB762s",
        "outputId": "72defdab-2b6d-45f8-d79d-7f10f20365de"
      },
      "execution_count": null,
      "outputs": [
        {
          "output_type": "stream",
          "name": "stdout",
          "text": [
            "[[1, 2, 3, 4, 5], [16, 17, 18, 19, 6], [15, 24, 25, 20, 7], [14, 23, 22, 21, 8], [13, 12, 11, 10, 9]]\n"
          ]
        }
      ]
    },
    {
      "cell_type": "markdown",
      "source": [
        "#Solution for question 8"
      ],
      "metadata": {
        "id": "lixYJL9q8nXL"
      }
    },
    {
      "cell_type": "code",
      "source": [
        "\n",
        "\n",
        "def multiply_sparse_matrices(mat1, mat2):\n",
        "    m, k = len(mat1), len(mat1[0])\n",
        "    k, n = len(mat2), len(mat2[0])\n",
        "\n",
        "    result = [[0] * n for _ in range(m)]\n",
        "\n",
        "    for i in range(m):\n",
        "        for j in range(n):\n",
        "            for x in range(k):\n",
        "                result[i][j] += mat1[i][x] * mat2[x][j]\n",
        "\n",
        "    return result"
      ],
      "metadata": {
        "id": "ZhOIUmAN6EoY"
      },
      "execution_count": null,
      "outputs": []
    },
    {
      "cell_type": "code",
      "source": [
        "mat1 = [[1, 0], [0, 2], [3, 0]]\n",
        "mat2 = [[4, 0, 0], [0, 5, 0]]\n",
        "\n",
        "result = multiply_sparse_matrices(mat1, mat2)\n",
        "print(result)"
      ],
      "metadata": {
        "colab": {
          "base_uri": "https://localhost:8080/"
        },
        "id": "rAot6ldF62V1",
        "outputId": "62d9202b-844c-453d-ad96-e907a42d6764"
      },
      "execution_count": null,
      "outputs": [
        {
          "output_type": "stream",
          "name": "stdout",
          "text": [
            "[[4, 0, 0], [0, 10, 0], [12, 0, 0]]\n"
          ]
        }
      ]
    },
    {
      "cell_type": "code",
      "source": [],
      "metadata": {
        "id": "xngMLw3769Zp"
      },
      "execution_count": null,
      "outputs": []
    }
  ]
}