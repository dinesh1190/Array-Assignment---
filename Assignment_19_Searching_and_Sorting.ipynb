{
  "nbformat": 4,
  "nbformat_minor": 0,
  "metadata": {
    "colab": {
      "provenance": [],
      "include_colab_link": true
    },
    "kernelspec": {
      "name": "python3",
      "display_name": "Python 3"
    },
    "language_info": {
      "name": "python"
    }
  },
  "cells": [
    {
      "cell_type": "markdown",
      "metadata": {
        "id": "view-in-github",
        "colab_type": "text"
      },
      "source": [
        "<a href=\"https://colab.research.google.com/github/dinesh1190/Array-Assignment---/blob/main/Assignment_19_Searching_and_Sorting.ipynb\" target=\"_parent\"><img src=\"https://colab.research.google.com/assets/colab-badge.svg\" alt=\"Open In Colab\"/></a>"
      ]
    },
    {
      "cell_type": "markdown",
      "source": [
        "#Solution for question 1"
      ],
      "metadata": {
        "id": "LrblonYSRYyG"
      }
    },
    {
      "cell_type": "code",
      "source": [
        "class ListNode:\n",
        "    def __init__(self, val=0, next=None):\n",
        "        self.val = val\n",
        "        self.next = next\n",
        "\n",
        "def mergeKLists(lists):\n",
        "    min_heap = []\n",
        "    for head in lists:\n",
        "        if head:\n",
        "            heapq.heappush(min_heap, (head.val, head))\n",
        "\n",
        "    dummy = ListNode(0)\n",
        "    curr = dummy\n",
        "\n",
        "    while min_heap:\n",
        "        _, node = heapq.heappop(min_heap)\n",
        "        curr.next = node\n",
        "        curr = curr.next\n",
        "        if node.next:\n",
        "          heapq.heappush(min_heap, (node.next.val, node.next))\n",
        "\n",
        "    return dummy.next"
      ],
      "metadata": {
        "id": "PuafSLRJQfSP"
      },
      "execution_count": null,
      "outputs": []
    },
    {
      "cell_type": "code",
      "source": [
        "l1 = ListNode(1)\n",
        "l1.next = ListNode(4)\n",
        "l1.next.next = ListNode(5)\n",
        "\n",
        "l2 = ListNode(1)\n",
        "l2.next = ListNode(3)\n",
        "l2.next.next = ListNode(4)\n",
        "\n",
        "l3 = ListNode(2)\n",
        "l3.next = ListNode(6)\n",
        "\n",
        "lists = [l1, l2, l3]\n",
        "result = mergeKLists(lists)\n",
        "\n",
        "while result:\n",
        "    print(result.val, end=\" \")\n",
        "    result = result.next"
      ],
      "metadata": {
        "id": "vytltJBySwX8"
      },
      "execution_count": null,
      "outputs": []
    },
    {
      "cell_type": "markdown",
      "source": [
        "#Solution for question 2"
      ],
      "metadata": {
        "id": "YGu25BwLRdjb"
      }
    },
    {
      "cell_type": "code",
      "source": [
        "def countSmaller(nums):\n",
        "    counts = [0] * len(nums)\n",
        "\n",
        "    def mergeSort(start, end):\n",
        "        if start == end:\n",
        "            return [nums[start]]\n",
        "\n",
        "        mid = (start + end) // 2\n",
        "        left = mergeSort(start, mid)\n",
        "        right = mergeSort(mid + 1, end)\n",
        "\n",
        "        merged = []\n",
        "        i, j = 0, 0\n",
        "        while i < len(left) and j < len(right):\n",
        "            if left[i] <= right[j]:\n",
        "                merged.append(left[i])\n",
        "                counts[nums.index(left[i])] += j\n",
        "                i += 1\n",
        "            else:\n",
        "                merged.append(right[j])\n",
        "                j += 1\n",
        "        while i < len(left):\n",
        "            merged.append(left[i])\n",
        "            counts[nums.index(left[i])] += j\n",
        "            i += 1\n",
        "\n",
        "        while j < len(right):\n",
        "            merged.append(right[j])\n",
        "            j += 1\n",
        "\n",
        "        return merged\n",
        "\n",
        "    mergeSort(0, len(nums) - 1)\n",
        "    return counts"
      ],
      "metadata": {
        "id": "taw90L7xPjii"
      },
      "execution_count": null,
      "outputs": []
    },
    {
      "cell_type": "code",
      "source": [
        "nums = [5, 2, 6, 1]\n",
        "result = countSmaller(nums)\n",
        "print(result)"
      ],
      "metadata": {
        "colab": {
          "base_uri": "https://localhost:8080/"
        },
        "id": "wV7X5a4iPo0l",
        "outputId": "d75c86a8-02e8-4760-ad8c-7595f33a0d4c"
      },
      "execution_count": null,
      "outputs": [
        {
          "output_type": "stream",
          "name": "stdout",
          "text": [
            "[2, 1, 1, 0]\n"
          ]
        }
      ]
    },
    {
      "cell_type": "markdown",
      "source": [
        "#Solution for question 3"
      ],
      "metadata": {
        "id": "3iVzVk6rRfId"
      }
    },
    {
      "cell_type": "code",
      "source": [
        "def partition(nums, low, high):\n",
        "    # Select the rightmost element as the pivot\n",
        "    pivot = nums[high]\n",
        "    i = low - 1\n",
        "\n",
        "    for j in range(low, high):\n",
        "        # If current element is smaller than or equal to the pivot\n",
        "        if nums[j] <= pivot:\n",
        "            i += 1\n",
        "            # Swap elements at indices i and j\n",
        "            nums[i], nums[j] = nums[j], nums[i]\n",
        "\n",
        "    # Swap the pivot element with the element at index i+1\n",
        "    nums[i+1], nums[high] = nums[high], nums[i+1]\n",
        "    return i + 1\n",
        "def quicksort(nums, low, high):\n",
        "    if low < high:\n",
        "        # Partition the array and get the pivot index\n",
        "        pivot_index = partition(nums, low, high)\n",
        "\n",
        "        # Recursively sort the sub-arrays\n",
        "        quicksort(nums, low, pivot_index - 1)\n",
        "        quicksort(nums, pivot_index + 1, high)\n",
        "\n",
        "\n",
        "def sortArray(nums):\n",
        "    # Call the quicksort function to sort the array\n",
        "    quicksort(nums, 0, len(nums) - 1)\n",
        "    return nums"
      ],
      "metadata": {
        "id": "xIEe8jNoPrFU"
      },
      "execution_count": null,
      "outputs": []
    },
    {
      "cell_type": "code",
      "source": [
        "nums = [5, 2, 3, 1]\n",
        "sorted_nums = sortArray(nums)\n",
        "print(sorted_nums)"
      ],
      "metadata": {
        "colab": {
          "base_uri": "https://localhost:8080/"
        },
        "id": "48FOqwMSQyCZ",
        "outputId": "fdabbd7d-3e97-4aa9-be8d-5549776b8217"
      },
      "execution_count": null,
      "outputs": [
        {
          "output_type": "stream",
          "name": "stdout",
          "text": [
            "[1, 2, 3, 5]\n"
          ]
        }
      ]
    },
    {
      "cell_type": "markdown",
      "source": [
        "#Solution for question 4"
      ],
      "metadata": {
        "id": "FGxgOeamRgnn"
      }
    },
    {
      "cell_type": "code",
      "source": [
        "def pushZerosToEnd(arr):\n",
        "    left = 0\n",
        "    right = len(arr) - 1\n",
        "\n",
        "    while left < right:\n",
        "        if arr[left] == 0 and arr[right] != 0:\n",
        "            arr[left], arr[right] = arr[right], arr[left]\n",
        "        if arr[left] != 0:\n",
        "            left += 1\n",
        "        if arr[right] == 0:\n",
        "            right -= 1\n",
        "\n",
        "    return arr"
      ],
      "metadata": {
        "id": "8PFozIDhQ0q8"
      },
      "execution_count": null,
      "outputs": []
    },
    {
      "cell_type": "code",
      "source": [
        "arr1 = [1, 9, 8, 4, 0, 0, 2, 7, 0, 6, 0]\n",
        "print(pushZerosToEnd(arr1))"
      ],
      "metadata": {
        "colab": {
          "base_uri": "https://localhost:8080/"
        },
        "id": "G8EtSFwyRCS0",
        "outputId": "64b8669b-b78e-4de0-c137-97edb2d0715f"
      },
      "execution_count": null,
      "outputs": [
        {
          "output_type": "stream",
          "name": "stdout",
          "text": [
            "[1, 9, 8, 4, 6, 7, 2, 0, 0, 0, 0]\n"
          ]
        }
      ]
    },
    {
      "cell_type": "markdown",
      "source": [
        "#Solution for question 5"
      ],
      "metadata": {
        "id": "z1Iy_2KwRiNG"
      }
    },
    {
      "cell_type": "code",
      "source": [
        "def rearrange_alternate(arr):\n",
        "    n = len(arr)\n",
        "    pPos = 0\n",
        "    pNeg = 0\n",
        "\n",
        "    while pPos < n and pNeg < n:\n",
        "        # Find the next positive number\n",
        "        while pPos < n and arr[pPos] >= 0:\n",
        "            pPos += 1\n",
        "\n",
        "        # Find the next negative number\n",
        "        while pNeg < n and arr[pNeg] < 0:\n",
        "            pNeg += 1\n",
        "\n",
        "        if pPos < n and pNeg < n:\n",
        "            # Swap positive and negative numbers\n",
        "            arr[pPos], arr[pNeg] = arr[pNeg], arr[pPos]\n",
        "    # Move remaining positive numbers to the end\n",
        "    while pPos < n:\n",
        "        # Find the next positive number\n",
        "        while pPos < n and arr[pPos] >= 0:\n",
        "            pPos += 1\n",
        "\n",
        "        if pPos < n:\n",
        "            # Swap positive number with the element at pNeg\n",
        "            arr[pPos], arr[pNeg] = arr[pNeg], arr[pPos]\n",
        "            pNeg += 1\n",
        "            pPos += 1\n",
        "\n",
        "    return arr"
      ],
      "metadata": {
        "id": "-NlSEhd2RoGU"
      },
      "execution_count": null,
      "outputs": []
    },
    {
      "cell_type": "code",
      "source": [
        "arr1 = [1, 2, 3, -4, -1, 4]\n",
        "print(rearrange_alternate(arr1))"
      ],
      "metadata": {
        "colab": {
          "base_uri": "https://localhost:8080/"
        },
        "id": "IqYTWtIoRO3B",
        "outputId": "f0415c87-0052-4002-bd44-52bb03478590"
      },
      "execution_count": null,
      "outputs": [
        {
          "output_type": "stream",
          "name": "stdout",
          "text": [
            "[-4, -1, 3, 1, 2, 4]\n"
          ]
        }
      ]
    },
    {
      "cell_type": "markdown",
      "source": [
        "#Solution for question 6"
      ],
      "metadata": {
        "id": "imkbjEJQSY8t"
      }
    },
    {
      "cell_type": "code",
      "source": [
        "def merge_sorted_arrays(arr1, arr2):\n",
        "    n1 = len(arr1)\n",
        "    n2 = len(arr2)\n",
        "    arr3 = [None] * (n1 + n2)  # Create an empty array to store the merged result\n",
        "    i = j = k = 0  # Pointers for arr1, arr2, and arr3\n",
        "\n",
        "    # Merge the two arrays\n",
        "    while i < n1 and j < n2:\n",
        "        if arr1[i] <= arr2[j]:\n",
        "            arr3[k] = arr1[i]\n",
        "            i += 1\n",
        "        else:\n",
        "            arr3[k] = arr2[j]\n",
        "            j += 1\n",
        "        k += 1\n",
        "\n",
        "    # Append remaining elements of arr1, if any\n",
        "    while i < n1:\n",
        "        arr3[k] = arr1[i]\n",
        "        i += 1\n",
        "        k += 1\n",
        "    # Append remaining elements of arr2, if any\n",
        "    while j < n2:\n",
        "        arr3[k] = arr2[j]\n",
        "        j += 1\n",
        "        k += 1\n",
        "\n",
        "    return arr3\n",
        "\n",
        "# Example usage:\n",
        "arr1 = [1, 3, 4, 5]\n",
        "arr2 = [2, 4, 6, 8]\n",
        "merged_array = merge_sorted_arrays(arr1, arr2)\n",
        "print(merged_array)"
      ],
      "metadata": {
        "colab": {
          "base_uri": "https://localhost:8080/"
        },
        "id": "L0D3axdsRQ7k",
        "outputId": "162ca377-405b-4e99-f5b0-a59cab788fd1"
      },
      "execution_count": null,
      "outputs": [
        {
          "output_type": "stream",
          "name": "stdout",
          "text": [
            "[1, 2, 3, 4, 4, 5, 6, 8]\n"
          ]
        }
      ]
    },
    {
      "cell_type": "markdown",
      "source": [
        "#Solution for question 7"
      ],
      "metadata": {
        "id": "RTbsBqI5Saqe"
      }
    },
    {
      "cell_type": "code",
      "source": [
        "def intersection(nums1, nums2):\n",
        "    set1 = set(nums1)  # Convert nums1 to a set\n",
        "    result = []\n",
        "    for num in nums2:\n",
        "        if num in set1:\n",
        "            result.append(num)\n",
        "            set1.remove(num)  # Remove the element from set1 to avoid duplicates\n",
        "    return result"
      ],
      "metadata": {
        "id": "okU7HYibSBkv"
      },
      "execution_count": null,
      "outputs": []
    },
    {
      "cell_type": "code",
      "source": [
        "nums1 = [1, 2, 2, 1]\n",
        "nums2 = [2, 2]\n",
        "print(intersection(nums1, nums2))"
      ],
      "metadata": {
        "colab": {
          "base_uri": "https://localhost:8080/"
        },
        "id": "Lq-QqTGKSF8R",
        "outputId": "cb8ab4a6-5bb2-47ab-93cf-9a39b363cf43"
      },
      "execution_count": null,
      "outputs": [
        {
          "output_type": "stream",
          "name": "stdout",
          "text": [
            "[2]\n"
          ]
        }
      ]
    },
    {
      "cell_type": "markdown",
      "source": [
        "#Solution for question 8"
      ],
      "metadata": {
        "id": "TxgEnqkIScJr"
      }
    },
    {
      "cell_type": "code",
      "source": [
        "from collections import Counter\n",
        "\n",
        "def intersect(nums1, nums2):\n",
        "    # Count the frequency of elements in nums1\n",
        "    count = Counter(nums1)\n",
        "    result = []\n",
        "\n",
        "    # Iterate through nums2\n",
        "    for num in nums2:\n",
        "        # Check if the element exists in the hash map\n",
        "        if count.get(num, 0) > 0:\n",
        "            result.append(num)\n",
        "            count[num] -= 1\n",
        "\n",
        "    return result"
      ],
      "metadata": {
        "id": "Mt9cFPFzSHzt"
      },
      "execution_count": null,
      "outputs": []
    },
    {
      "cell_type": "code",
      "source": [
        "nums1 = [1, 2, 2, 1]\n",
        "nums2 = [2, 2]\n",
        "print(intersect(nums1, nums2))"
      ],
      "metadata": {
        "colab": {
          "base_uri": "https://localhost:8080/"
        },
        "id": "4ndvmPhZSTgN",
        "outputId": "0b66cc46-e838-4360-b197-bc84253ba25f"
      },
      "execution_count": null,
      "outputs": [
        {
          "output_type": "stream",
          "name": "stdout",
          "text": [
            "[2, 2]\n"
          ]
        }
      ]
    },
    {
      "cell_type": "code",
      "source": [],
      "metadata": {
        "id": "L0nTzzHRSVsF"
      },
      "execution_count": null,
      "outputs": []
    }
  ]
}