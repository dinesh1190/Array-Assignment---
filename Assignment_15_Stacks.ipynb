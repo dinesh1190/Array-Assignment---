{
  "nbformat": 4,
  "nbformat_minor": 0,
  "metadata": {
    "colab": {
      "provenance": [],
      "include_colab_link": true
    },
    "kernelspec": {
      "name": "python3",
      "display_name": "Python 3"
    },
    "language_info": {
      "name": "python"
    }
  },
  "cells": [
    {
      "cell_type": "markdown",
      "metadata": {
        "id": "view-in-github",
        "colab_type": "text"
      },
      "source": [
        "<a href=\"https://colab.research.google.com/github/dinesh1190/Array-Assignment---/blob/main/Assignment_15_Stacks.ipynb\" target=\"_parent\"><img src=\"https://colab.research.google.com/assets/colab-badge.svg\" alt=\"Open In Colab\"/></a>"
      ]
    },
    {
      "cell_type": "markdown",
      "source": [
        "#Solution for question 1"
      ],
      "metadata": {
        "id": "DFRWPFxeFJoy"
      }
    },
    {
      "cell_type": "code",
      "execution_count": null,
      "metadata": {
        "id": "cEYpw2zxDhq6"
      },
      "outputs": [],
      "source": [
        "def next_greater_element(arr):\n",
        "    stack = []\n",
        "    result = []\n",
        "\n",
        "    for i in range(len(arr)-1, -1, -1):\n",
        "        while stack and stack[-1] <= arr[i]:\n",
        "            stack.pop()\n",
        "\n",
        "        if not stack:\n",
        "            result.append(-1)\n",
        "        else:\n",
        "            result.append(stack[-1])\n",
        "\n",
        "        stack.append(arr[i])\n",
        "\n",
        "    result.reverse()\n",
        "    return result"
      ]
    },
    {
      "cell_type": "code",
      "source": [
        "arr = [1, 3, 2, 4]\n",
        "result = next_greater_element(arr)\n",
        "print(result)"
      ],
      "metadata": {
        "colab": {
          "base_uri": "https://localhost:8080/"
        },
        "id": "rlDJyf0aDigr",
        "outputId": "f481e073-c5ba-4ad2-e8a8-b20ae24a5e78"
      },
      "execution_count": null,
      "outputs": [
        {
          "output_type": "stream",
          "name": "stdout",
          "text": [
            "[3, 4, 4, -1]\n"
          ]
        }
      ]
    },
    {
      "cell_type": "markdown",
      "source": [
        "#Solution for question 2"
      ],
      "metadata": {
        "id": "fikIquqoFPuc"
      }
    },
    {
      "cell_type": "code",
      "source": [
        "def find_nearest_smaller(n, a):\n",
        "    stack = []\n",
        "    result = []\n",
        "\n",
        "    for i in range(n):\n",
        "        while stack and stack[-1] >= a[i]:\n",
        "            stack.pop()\n",
        "\n",
        "        if not stack:\n",
        "            result.append(-1)\n",
        "        else:\n",
        "            result.append(stack[-1])\n",
        "\n",
        "        stack.append(a[i])\n",
        "\n",
        "    while stack:\n",
        "        result.append(-1)\n",
        "        stack.pop()\n",
        "\n",
        "    return result\n",
        "n = 3\n",
        "a = [1, 6, 2]\n",
        "output = find_nearest_smaller(n, a)\n",
        "print(*output)"
      ],
      "metadata": {
        "colab": {
          "base_uri": "https://localhost:8080/"
        },
        "id": "uNfHSM3zDkjj",
        "outputId": "0df62d58-aaf3-4a85-f42e-eec7dfe97580"
      },
      "execution_count": null,
      "outputs": [
        {
          "output_type": "stream",
          "name": "stdout",
          "text": [
            "-1 1 1 -1 -1\n"
          ]
        }
      ]
    },
    {
      "cell_type": "markdown",
      "source": [
        "#Solution for question 3"
      ],
      "metadata": {
        "id": "QxDBqZSTHchS"
      }
    },
    {
      "cell_type": "code",
      "source": [
        "from queue import Queue\n",
        "\n",
        "class Stack:\n",
        "    def __init__(self):\n",
        "        self.q1 = Queue()\n",
        "        self.q2 = Queue()\n",
        "\n",
        "    def push(self, element):\n",
        "        self.q2.put(element)  # Insert new element into q2\n",
        "\n",
        "        while not self.q1.empty():\n",
        "            self.q2.put(self.q1.get())  # Move all elements from q1 to q2\n",
        "\n",
        "        # Swap q1 and q2\n",
        "        self.q1, self.q2 = self.q2, self.q1\n",
        "\n",
        "    def pop(self):\n",
        "        if self.q1.empty():\n",
        "            return None  # Stack is empty\n",
        "\n",
        "        return self.q1.get()\n",
        "    def is_empty(self):\n",
        "        return self.q1.empty()"
      ],
      "metadata": {
        "id": "raLhinFWF94f"
      },
      "execution_count": null,
      "outputs": []
    },
    {
      "cell_type": "code",
      "source": [
        "stack = Stack()\n",
        "stack.push(2)\n",
        "stack.push(3)\n",
        "print(stack.pop())\n",
        "stack.push(4)\n",
        "print(stack.pop())"
      ],
      "metadata": {
        "colab": {
          "base_uri": "https://localhost:8080/"
        },
        "id": "xSr9n36aGAsA",
        "outputId": "4219c5c4-c7ab-4679-a220-d92215787f9d"
      },
      "execution_count": null,
      "outputs": [
        {
          "output_type": "stream",
          "name": "stdout",
          "text": [
            "3\n",
            "4\n"
          ]
        }
      ]
    },
    {
      "cell_type": "markdown",
      "source": [
        "#Solution for question 4"
      ],
      "metadata": {
        "id": "3ModOX_5HhIp"
      }
    },
    {
      "cell_type": "code",
      "source": [
        "def reverseStack(St):\n",
        "    if len(St) <= 1:\n",
        "        return St\n",
        "    else:\n",
        "        topElement = St.pop()\n",
        "        reverseStack(St)\n",
        "        insertAtBottom(St, topElement)\n",
        "        return St\n",
        "\n",
        "def insertAtBottom(St, item):\n",
        "    if len(St) == 0:\n",
        "        St.append(item)\n",
        "    else:\n",
        "        temp = St.pop()\n",
        "        insertAtBottom(St, item)\n",
        "        St.append(temp)"
      ],
      "metadata": {
        "id": "wl5-l1-wGDd-"
      },
      "execution_count": null,
      "outputs": []
    },
    {
      "cell_type": "code",
      "source": [
        "St = [3, 2, 1, 7, 6]\n",
        "reversedStack = reverseStack(St)\n",
        "print(reversedStack)"
      ],
      "metadata": {
        "colab": {
          "base_uri": "https://localhost:8080/"
        },
        "id": "EZzEj8PEGN7b",
        "outputId": "ce64a362-5c76-40d7-87da-f51484afae24"
      },
      "execution_count": null,
      "outputs": [
        {
          "output_type": "stream",
          "name": "stdout",
          "text": [
            "[6, 7, 1, 2, 3]\n"
          ]
        }
      ]
    },
    {
      "cell_type": "markdown",
      "source": [
        "#Solution for question 5"
      ],
      "metadata": {
        "id": "PwnWoI6dHirz"
      }
    },
    {
      "cell_type": "code",
      "source": [
        "def reverse_string(S):\n",
        "    stack = []\n",
        "    for char in S:\n",
        "        stack.append(char)\n",
        "\n",
        "    reversed_string = \"\"\n",
        "    while stack:\n",
        "        reversed_string += stack.pop()\n",
        "\n",
        "    return reversed_string\n",
        "\n",
        "# Example usage\n",
        "input_string = \"GeeksforGeeks\"\n",
        "reversed_string = reverse_string(input_string)\n",
        "print(reversed_string)"
      ],
      "metadata": {
        "colab": {
          "base_uri": "https://localhost:8080/"
        },
        "id": "a9_rTGGEGQRC",
        "outputId": "aff36e88-57ac-4970-cace-ed291dca7b34"
      },
      "execution_count": null,
      "outputs": [
        {
          "output_type": "stream",
          "name": "stdout",
          "text": [
            "skeeGrofskeeG\n"
          ]
        }
      ]
    },
    {
      "cell_type": "markdown",
      "source": [
        "#Solution for question 6"
      ],
      "metadata": {
        "id": "7t-B-O4ZHkhJ"
      }
    },
    {
      "cell_type": "code",
      "source": [
        "def evaluate_postfix(expression):\n",
        "    stack = []\n",
        "\n",
        "    for char in expression:\n",
        "        if char.isdigit():\n",
        "            stack.append(int(char))\n",
        "        else:\n",
        "            b = stack.pop()\n",
        "            a = stack.pop()\n",
        "\n",
        "            if char == '*':\n",
        "                result = a * b\n",
        "            elif char == '/':\n",
        "                result = a / b\n",
        "            elif char == '+':\n",
        "                result = a + b\n",
        "            elif char == '-':\n",
        "                result = a - b\n",
        "\n",
        "            stack.append(result)\n",
        "\n",
        "    return stack[0]\n",
        "expression = \"231*+9-\"\n",
        "result = evaluate_postfix(expression)\n",
        "print(\"Result:\", result)"
      ],
      "metadata": {
        "colab": {
          "base_uri": "https://localhost:8080/"
        },
        "id": "59_CnldEGbH5",
        "outputId": "ef06243b-a6f1-401a-ef4e-4c24619889f8"
      },
      "execution_count": null,
      "outputs": [
        {
          "output_type": "stream",
          "name": "stdout",
          "text": [
            "Result: -4\n"
          ]
        }
      ]
    },
    {
      "cell_type": "markdown",
      "source": [
        "#Solution for question 7"
      ],
      "metadata": {
        "id": "RpCXLTi1HmPd"
      }
    },
    {
      "cell_type": "code",
      "source": [
        "class MinStack:\n",
        "    def __init__(self):\n",
        "        self.stack = []\n",
        "        self.min_stack = []\n",
        "\n",
        "    def push(self, val: int) -> None:\n",
        "        self.stack.append(val)\n",
        "        if not self.min_stack or val <= self.min_stack[-1]:\n",
        "            self.min_stack.append(val)\n",
        "\n",
        "    def pop(self) -> None:\n",
        "        if self.stack.pop() == self.min_stack[-1]:\n",
        "            self.min_stack.pop()\n",
        "\n",
        "    def top(self) -> int:\n",
        "        return self.stack[-1]\n",
        "\n",
        "    def getMin(self) -> int:\n",
        "        return self.min_stack[-1]"
      ],
      "metadata": {
        "id": "LfXM-1QzGoVF"
      },
      "execution_count": null,
      "outputs": []
    },
    {
      "cell_type": "code",
      "source": [
        "minStack = MinStack()\n",
        "minStack.push(-2)\n",
        "minStack.push(0)\n",
        "minStack.push(-3)\n",
        "print(minStack.getMin())\n",
        "minStack.pop()\n",
        "print(minStack.top())\n",
        "print(minStack.getMin())"
      ],
      "metadata": {
        "colab": {
          "base_uri": "https://localhost:8080/"
        },
        "id": "LN9-_iFEG2C9",
        "outputId": "7753792e-2d4c-4213-e7c1-4dead18088ee"
      },
      "execution_count": null,
      "outputs": [
        {
          "output_type": "stream",
          "name": "stdout",
          "text": [
            "-3\n",
            "0\n",
            "-2\n"
          ]
        }
      ]
    },
    {
      "cell_type": "markdown",
      "source": [
        "#Solution for question 8"
      ],
      "metadata": {
        "id": "5ZYZKERNHn-L"
      }
    },
    {
      "cell_type": "code",
      "source": [
        "def trap(height):\n",
        "    left = 0\n",
        "    right = len(height) - 1\n",
        "    leftMax = rightMax = 0\n",
        "    waterTrapped = 0\n",
        "\n",
        "    while left <= right:\n",
        "        if height[left] <= height[right]:\n",
        "            if height[left] > leftMax:\n",
        "                leftMax = height[left]\n",
        "            else:\n",
        "                waterTrapped += leftMax - height[left]\n",
        "            left += 1\n",
        "        else:\n",
        "            if height[right] > rightMax:\n",
        "                rightMax = height[right]\n",
        "            else:\n",
        "                waterTrapped += rightMax - height[right]\n",
        "            right -= 1\n",
        "\n",
        "    return waterTrapped"
      ],
      "metadata": {
        "id": "uNUzzFVoG9Cw"
      },
      "execution_count": null,
      "outputs": []
    },
    {
      "cell_type": "code",
      "source": [
        "# Example input\n",
        "height = [0, 1, 0, 2, 1, 0, 1, 3, 2, 1, 2, 1]\n",
        "\n",
        "# Calculate the amount of water trapped\n",
        "water = trap(height)\n",
        "\n",
        "# Print the output\n",
        "print(\"Water trapped:\", water)"
      ],
      "metadata": {
        "colab": {
          "base_uri": "https://localhost:8080/"
        },
        "id": "2qAvs9ZxHIqP",
        "outputId": "ea3a25bb-3475-42dc-ead9-477861f404a8"
      },
      "execution_count": null,
      "outputs": [
        {
          "output_type": "stream",
          "name": "stdout",
          "text": [
            "Water trapped: 6\n"
          ]
        }
      ]
    },
    {
      "cell_type": "code",
      "source": [],
      "metadata": {
        "id": "8A-P7Z1gHVxm"
      },
      "execution_count": null,
      "outputs": []
    }
  ]
}