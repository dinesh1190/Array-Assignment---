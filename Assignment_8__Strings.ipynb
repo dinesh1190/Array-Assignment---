{
  "nbformat": 4,
  "nbformat_minor": 0,
  "metadata": {
    "colab": {
      "provenance": [],
      "include_colab_link": true
    },
    "kernelspec": {
      "name": "python3",
      "display_name": "Python 3"
    },
    "language_info": {
      "name": "python"
    }
  },
  "cells": [
    {
      "cell_type": "markdown",
      "metadata": {
        "id": "view-in-github",
        "colab_type": "text"
      },
      "source": [
        "<a href=\"https://colab.research.google.com/github/dinesh1190/Array-Assignment---/blob/main/Assignment_8__Strings.ipynb\" target=\"_parent\"><img src=\"https://colab.research.google.com/assets/colab-badge.svg\" alt=\"Open In Colab\"/></a>"
      ]
    },
    {
      "cell_type": "markdown",
      "source": [
        "\n",
        "#Solution for question 1"
      ],
      "metadata": {
        "id": "-_R0KGVmrTZh"
      }
    },
    {
      "cell_type": "code",
      "execution_count": null,
      "metadata": {
        "id": "wLYvO4pglo0K"
      },
      "outputs": [],
      "source": [
        "\n",
        "\n",
        "def minimumDeleteSum(s1, s2):\n",
        "    m, n = len(s1), len(s2)\n",
        "    dp = [[0] * (n + 1) for _ in range(m + 1)]\n",
        "\n",
        "    for i in range(1, m + 1):\n",
        "        dp[i][0] = dp[i - 1][0] + ord(s1[i - 1])\n",
        "\n",
        "    for j in range(1, n + 1):\n",
        "        dp[0][j] = dp[0][j - 1] + ord(s2[j - 1])\n",
        "\n",
        "    for i in range(1, m + 1):\n",
        "        for j in range(1, n + 1):\n",
        "            if s1[i - 1] == s2[j - 1]:\n",
        "                dp[i][j] = dp[i - 1][j - 1]\n",
        "            else:\n",
        "                dp[i][j] = min(dp[i - 1][j] + ord(s1[i - 1]), dp[i][j - 1] + ord(s2[j - 1]))\n",
        "\n",
        "    return dp[m][n]"
      ]
    },
    {
      "cell_type": "code",
      "source": [
        "s1 = \"delete\"\n",
        "s2 = \"leet\"\n",
        "result = minimumDeleteSum(s1, s2)\n",
        "print(result)"
      ],
      "metadata": {
        "colab": {
          "base_uri": "https://localhost:8080/"
        },
        "id": "5EBz2v8Mlp6Z",
        "outputId": "ab712ffe-abf9-46e2-d912-c7ed8937c9c6"
      },
      "execution_count": null,
      "outputs": [
        {
          "output_type": "stream",
          "name": "stdout",
          "text": [
            "403\n"
          ]
        }
      ]
    },
    {
      "cell_type": "markdown",
      "source": [
        "#Solution for question 2"
      ],
      "metadata": {
        "id": "IYRhl1cLrba0"
      }
    },
    {
      "cell_type": "code",
      "source": [
        "\n",
        "\n",
        "def checkValidString(s):\n",
        "    low = high = 0\n",
        "    \n",
        "    for char in s:\n",
        "        low += 1 if char == '(' else -1\n",
        "        high += 1 if char != ')' else -1\n",
        "        \n",
        "        if high < 0:\n",
        "            break\n",
        "            \n",
        "        low = max(low, 0)\n",
        "    \n",
        "    return low == 0"
      ],
      "metadata": {
        "id": "eDEORQqZlt1B"
      },
      "execution_count": null,
      "outputs": []
    },
    {
      "cell_type": "code",
      "source": [
        "s = \"(((**))\"\n",
        "print(checkValidString(s))"
      ],
      "metadata": {
        "colab": {
          "base_uri": "https://localhost:8080/"
        },
        "id": "CZZeO-kzm1aL",
        "outputId": "3ad3b36b-192e-4194-9be3-e23767b05a49"
      },
      "execution_count": null,
      "outputs": [
        {
          "output_type": "stream",
          "name": "stdout",
          "text": [
            "True\n"
          ]
        }
      ]
    },
    {
      "cell_type": "markdown",
      "source": [
        "#Solution for question 3"
      ],
      "metadata": {
        "id": "Hm5eg1sTrh7_"
      }
    },
    {
      "cell_type": "code",
      "source": [
        "\n",
        "def minDistance(word1, word2):\n",
        "    m, n = len(word1), len(word2)\n",
        "    dp = [[0] * (n + 1) for _ in range(m + 1)]\n",
        "\n",
        "    for i in range(m + 1):\n",
        "        for j in range(n + 1):\n",
        "            if i == 0 or j == 0:\n",
        "                dp[i][j] = i + j\n",
        "            elif word1[i - 1] == word2[j - 1]:\n",
        "                dp[i][j] = dp[i - 1][j - 1]\n",
        "            else:\n",
        "                dp[i][j] = min(dp[i - 1][j], dp[i][j - 1]) + 1\n",
        "\n",
        "    return dp[m][n]"
      ],
      "metadata": {
        "id": "Mf2LLETbnCVw"
      },
      "execution_count": null,
      "outputs": []
    },
    {
      "cell_type": "code",
      "source": [
        "word1 = \"sea\"\n",
        "word2 = \"eat\"\n",
        "print(minDistance(word1, word2))"
      ],
      "metadata": {
        "colab": {
          "base_uri": "https://localhost:8080/"
        },
        "id": "NEC-6XMUnt7_",
        "outputId": "22b921d4-2768-4ca4-8b01-90abd0718655"
      },
      "execution_count": null,
      "outputs": [
        {
          "output_type": "stream",
          "name": "stdout",
          "text": [
            "2\n"
          ]
        }
      ]
    },
    {
      "cell_type": "markdown",
      "source": [
        "#Solution for question 4"
      ],
      "metadata": {
        "id": "HC7YMK8hrlJt"
      }
    },
    {
      "cell_type": "code",
      "source": [
        "\n",
        "class TreeNode:\n",
        "    def __init__(self, val=0, left=None, right=None):\n",
        "        self.val = val\n",
        "        self.left = left\n",
        "        self.right = right\n",
        "\n",
        "def str2tree(s):\n",
        "    def helper(i):\n",
        "        if i >= len(s):\n",
        "            return None\n",
        "\n",
        "        # Find the root value\n",
        "        j = i\n",
        "        while j < len(s) and (s[j].isdigit() or s[j] == '-'):\n",
        "            j += 1\n",
        "        root_val = int(s[i:j])\n",
        "        root = TreeNode(root_val)\n",
        "\n",
        "        # Find the left child\n",
        "        if j < len(s) and s[j] == '(':\n",
        "            j += 1\n",
        "            root.left, j = helper(j)\n",
        "            j += 1  # Skip the closing parenthesis\n",
        "\n",
        "        # Find the right child\n",
        "        if j < len(s) and s[j] == '(':\n",
        "            j += 1\n",
        "            root.right, j = helper(j)\n",
        "            j += 1  # Skip the closing parenthesis\n",
        "\n",
        "        return root, j\n",
        "\n",
        "    if not s:\n",
        "        return None\n",
        "\n",
        "    root, _ = helper(0)\n",
        "    return root\n",
        "\n",
        "def inorder_traversal(root):\n",
        "    if not root:\n",
        "        return []\n",
        "    return inorder_traversal(root.left) + [root.val] + inorder_traversal(root.right)"
      ],
      "metadata": {
        "id": "l6bQPMAAo599"
      },
      "execution_count": null,
      "outputs": []
    },
    {
      "cell_type": "code",
      "source": [
        "s = \"4(2(3)(1))(6(5))\"\n",
        "tree = str2tree(s)\n",
        "result = inorder_traversal(tree)\n",
        "print(result)"
      ],
      "metadata": {
        "colab": {
          "base_uri": "https://localhost:8080/"
        },
        "id": "CJPy6GTgpV4q",
        "outputId": "d80104af-21d3-4ff6-ae2f-e247ba2e6bcb"
      },
      "execution_count": null,
      "outputs": [
        {
          "output_type": "stream",
          "name": "stdout",
          "text": [
            "[3, 2, 1, 4, 5, 6]\n"
          ]
        }
      ]
    },
    {
      "cell_type": "markdown",
      "source": [
        "#Solution for question 5"
      ],
      "metadata": {
        "id": "OqnEFPkMroJU"
      }
    },
    {
      "cell_type": "code",
      "source": [
        "\n",
        "\n",
        "def compress(chars):\n",
        "    write = 0\n",
        "    count = 1\n",
        "    n = len(chars)\n",
        "\n",
        "    for i in range(1, n+1):\n",
        "        if i < n and chars[i] == chars[i-1]:\n",
        "            count += 1\n",
        "        else:\n",
        "            chars[write] = chars[i-1]\n",
        "            write += 1\n",
        "            if count > 1:\n",
        "                for digit in str(count):\n",
        "                    chars[write] = digit\n",
        "                    write += 1\n",
        "            count = 1\n",
        "\n",
        "    return write"
      ],
      "metadata": {
        "id": "dtIBYpDFpePt"
      },
      "execution_count": null,
      "outputs": []
    },
    {
      "cell_type": "code",
      "source": [
        "chars = [\"a\", \"a\", \"b\", \"b\", \"c\", \"c\", \"c\"]\n",
        "new_length = compress(chars)\n",
        "compressed_chars = chars[:new_length]\n",
        "print(new_length)  # Output: 6\n",
        "print(compressed_chars)  # Output: [\"a\", \"2\", \"b\", \"2\", \"c\", \"3\"]"
      ],
      "metadata": {
        "colab": {
          "base_uri": "https://localhost:8080/"
        },
        "id": "2v70sUCpp8IF",
        "outputId": "632cf2ad-5304-4a1d-b4ab-c546430ef091"
      },
      "execution_count": null,
      "outputs": [
        {
          "output_type": "stream",
          "name": "stdout",
          "text": [
            "6\n",
            "['a', '2', 'b', '2', 'c', '3']\n"
          ]
        }
      ]
    },
    {
      "cell_type": "markdown",
      "source": [
        "#Solution for question 6"
      ],
      "metadata": {
        "id": "wf4RSjDGrrPA"
      }
    },
    {
      "cell_type": "code",
      "source": [
        "\n",
        "\n",
        "from collections import Counter\n",
        "\n",
        "def findAnagrams(s, p):\n",
        "    result = []\n",
        "    pFreq = Counter(p)\n",
        "    windowFreq = Counter()\n",
        "\n",
        "    left = right = 0\n",
        "    while right < len(s):\n",
        "        windowFreq[s[right]] += 1\n",
        "\n",
        "        if right - left + 1 == len(p):\n",
        "            if pFreq == windowFreq:\n",
        "                result.append(left)\n",
        "            windowFreq[s[left]] -= 1\n",
        "            if windowFreq[s[left]] == 0:\n",
        "                del windowFreq[s[left]]\n",
        "            left += 1\n",
        "\n",
        "        right += 1\n",
        "\n",
        "    return result"
      ],
      "metadata": {
        "id": "7rt7zNI-qWf4"
      },
      "execution_count": null,
      "outputs": []
    },
    {
      "cell_type": "code",
      "source": [
        "s = \"cbaebabacd\"\n",
        "p = \"abc\"\n",
        "print(findAnagrams(s, p)) "
      ],
      "metadata": {
        "colab": {
          "base_uri": "https://localhost:8080/"
        },
        "id": "99_wGKeWqXKG",
        "outputId": "7fb0ae30-4e58-4297-bba0-05104d078099"
      },
      "execution_count": null,
      "outputs": [
        {
          "output_type": "stream",
          "name": "stdout",
          "text": [
            "[0, 6]\n"
          ]
        }
      ]
    },
    {
      "cell_type": "markdown",
      "source": [
        "#Solution for question 7"
      ],
      "metadata": {
        "id": "eDUk5p6crt-_"
      }
    },
    {
      "cell_type": "code",
      "source": [
        "\n",
        "\n",
        "def decodeString(s):\n",
        "    def decodeUtil(s, i):\n",
        "        result = \"\"\n",
        "        count = 0\n",
        "\n",
        "        while i < len(s):\n",
        "            if s[i].isdigit():\n",
        "                count = count * 10 + int(s[i])\n",
        "            elif s[i] == '[':\n",
        "                substring, i = decodeUtil(s, i + 1)\n",
        "                result += count * substring\n",
        "                count = 0\n",
        "            elif s[i] == ']':\n",
        "                return result, i\n",
        "            else:\n",
        "                result += s[i]\n",
        "            i += 1\n",
        "\n",
        "        return result\n",
        "\n",
        "    return decodeUtil(s, 0)"
      ],
      "metadata": {
        "id": "GiTaKv4ZqZnB"
      },
      "execution_count": null,
      "outputs": []
    },
    {
      "cell_type": "code",
      "source": [
        "s = \"3[a2[c]]\"\n",
        "print(decodeString(s))\n"
      ],
      "metadata": {
        "colab": {
          "base_uri": "https://localhost:8080/"
        },
        "id": "rHvhpCrOqtXs",
        "outputId": "bf839ea4-7028-47ab-8087-e9e84968857b"
      },
      "execution_count": null,
      "outputs": [
        {
          "output_type": "stream",
          "name": "stdout",
          "text": [
            "accaccacc\n"
          ]
        }
      ]
    },
    {
      "cell_type": "markdown",
      "source": [
        "#Solution for question 8"
      ],
      "metadata": {
        "id": "rr_NT3V9rxnv"
      }
    },
    {
      "cell_type": "code",
      "source": [
        "def can_swap_strings(s, goal):\n",
        "    if len(s) != len(goal):\n",
        "        return False\n",
        "\n",
        "    diff_count = 0\n",
        "    diff_indexes = []\n",
        "    \n",
        "    for i in range(len(s)):\n",
        "        if s[i] != goal[i]:\n",
        "            diff_count += 1\n",
        "            diff_indexes.append(i)\n",
        "\n",
        "            if diff_count > 2:\n",
        "                return False\n",
        "\n",
        "    return diff_count == 2 and s[diff_indexes[0]] == goal[diff_indexes[1]] and s[diff_indexes[1]] == goal[diff_indexes[0]]"
      ],
      "metadata": {
        "id": "3WEUwJ8hqzmQ"
      },
      "execution_count": null,
      "outputs": []
    },
    {
      "cell_type": "code",
      "source": [
        "s = \"ab\"\n",
        "goal = \"ba\"\n",
        "print(can_swap_strings(s, goal))"
      ],
      "metadata": {
        "colab": {
          "base_uri": "https://localhost:8080/"
        },
        "id": "isBTWoXjrH24",
        "outputId": "56a97611-3425-4d83-80c4-9e96b534b49d"
      },
      "execution_count": null,
      "outputs": [
        {
          "output_type": "stream",
          "name": "stdout",
          "text": [
            "True\n"
          ]
        }
      ]
    },
    {
      "cell_type": "code",
      "source": [],
      "metadata": {
        "id": "RmpR_OJ7rRj6"
      },
      "execution_count": null,
      "outputs": []
    }
  ]
}