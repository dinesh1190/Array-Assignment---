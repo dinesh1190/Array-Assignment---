{
  "nbformat": 4,
  "nbformat_minor": 0,
  "metadata": {
    "colab": {
      "provenance": [],
      "include_colab_link": true
    },
    "kernelspec": {
      "name": "python3",
      "display_name": "Python 3"
    },
    "language_info": {
      "name": "python"
    }
  },
  "cells": [
    {
      "cell_type": "markdown",
      "metadata": {
        "id": "view-in-github",
        "colab_type": "text"
      },
      "source": [
        "<a href=\"https://colab.research.google.com/github/dinesh1190/Array-Assignment---/blob/main/Assignment_17_Queues.ipynb\" target=\"_parent\"><img src=\"https://colab.research.google.com/assets/colab-badge.svg\" alt=\"Open In Colab\"/></a>"
      ]
    },
    {
      "cell_type": "markdown",
      "source": [
        "#Solution for question 1"
      ],
      "metadata": {
        "id": "5IBmb6JIK1q5"
      }
    },
    {
      "cell_type": "code",
      "execution_count": null,
      "metadata": {
        "colab": {
          "base_uri": "https://localhost:8080/"
        },
        "id": "i23tUV1fF2N7",
        "outputId": "50620698-a3f3-4c4c-a42b-68016ec456f5"
      },
      "outputs": [
        {
          "output_type": "stream",
          "name": "stdout",
          "text": [
            "0\n"
          ]
        }
      ],
      "source": [
        "def firstUniqChar(s):\n",
        "    # Create a dictionary to store the frequency of each character\n",
        "    freq = {}\n",
        "\n",
        "    # Count the frequency of each character in the string\n",
        "    for char in s:\n",
        "        if char in freq:\n",
        "            freq[char] += 1\n",
        "        else:\n",
        "            freq[char] = 1\n",
        "\n",
        "    # Find the first non-repeating character and return its index\n",
        "    for i in range(len(s)):\n",
        "        if freq[s[i]] == 1:\n",
        "            return i\n",
        "\n",
        "    # If no non-repeating character is found, return -1\n",
        "    return -1\n",
        "# Test the function\n",
        "s = \"leetyrde\"\n",
        "print(firstUniqChar(s))"
      ]
    },
    {
      "cell_type": "markdown",
      "source": [
        "#Solution for question 2"
      ],
      "metadata": {
        "id": "-I6XYuvRLCD1"
      }
    },
    {
      "cell_type": "code",
      "source": [
        "def max_subarray_sum(nums):\n",
        "    total_sum = 0\n",
        "    max_sum = float('-inf')\n",
        "    current_sum = 0\n",
        "\n",
        "    # Find the maximum subarray sum in the original array\n",
        "    for num in nums:\n",
        "        current_sum = max(num, current_sum + num)\n",
        "        max_sum = max(max_sum, current_sum)\n",
        "        total_sum += num\n",
        "\n",
        "    # Find the maximum subarray sum with wrapping around\n",
        "    min_sum = float('inf')\n",
        "    current_sum = 0\n",
        "    for num in nums:\n",
        "        current_sum = min(num, current_sum + num)\n",
        "        min_sum = min(min_sum, current_sum)\n",
        "\n",
        "    # Calculate the maximum possible sum\n",
        "    max_sum = max(max_sum, total_sum - min_sum)\n",
        "    return max_sum\n",
        "\n",
        "# Example usage\n",
        "nums = [1, -2, 3, -2]\n",
        "result = max_subarray_sum(nums)\n",
        "print(result)"
      ],
      "metadata": {
        "colab": {
          "base_uri": "https://localhost:8080/"
        },
        "id": "cF5Pn5C-Gz2W",
        "outputId": "b9b9054a-4c08-4c2a-cd33-f624a8ff6203"
      },
      "execution_count": null,
      "outputs": [
        {
          "output_type": "stream",
          "name": "stdout",
          "text": [
            "3\n"
          ]
        }
      ]
    },
    {
      "cell_type": "markdown",
      "source": [
        "#Solution for question 3"
      ],
      "metadata": {
        "id": "mz0qqeDBLEC4"
      }
    },
    {
      "cell_type": "code",
      "source": [
        "def count_students_unable_to_eat(students, sandwiches):\n",
        "    queue = students  # Initialize the queue\n",
        "\n",
        "    while queue:\n",
        "        # Check if the front student's preference matches the top sandwich\n",
        "        if queue[0] == sandwiches[0]:\n",
        "            queue.pop(0)  # Student takes the sandwich\n",
        "            sandwiches.pop(0)  # Remove the top sandwich\n",
        "        else:\n",
        "            # Move the front student to the end of the queue\n",
        "            queue.append(queue.pop(0))\n",
        "\n",
        "        # Check if no student wants to take the top sandwich\n",
        "        if queue.count(queue[0]) == len(queue):\n",
        "            break\n",
        "\n",
        "    return len(queue)"
      ],
      "metadata": {
        "id": "h09SstWRHKdd"
      },
      "execution_count": null,
      "outputs": []
    },
    {
      "cell_type": "code",
      "source": [
        "students = [1, 1, 0, 0]\n",
        "sandwiches = [0, 1, 0, 1]\n",
        "print(count_students_unable_to_eat(students, sandwiches))"
      ],
      "metadata": {
        "colab": {
          "base_uri": "https://localhost:8080/"
        },
        "id": "c7V_k1IAHWbo",
        "outputId": "d70130d1-8dc6-4368-aec3-7beee3e770f0"
      },
      "execution_count": null,
      "outputs": [
        {
          "output_type": "stream",
          "name": "stdout",
          "text": [
            "1\n"
          ]
        }
      ]
    },
    {
      "cell_type": "markdown",
      "source": [
        "#Solution for question 4"
      ],
      "metadata": {
        "id": "UBgWZetOLFkK"
      }
    },
    {
      "cell_type": "code",
      "source": [
        "from collections import deque\n",
        "\n",
        "class RecentCounter:\n",
        "    def __init__(self):\n",
        "        self.requests = deque()\n",
        "\n",
        "    def ping(self, t: int) -> int:\n",
        "        # Add the current request to the queue\n",
        "        self.requests.append(t)\n",
        "\n",
        "        # Remove requests that are outside the time range [t - 3000, t]\n",
        "        while self.requests and self.requests[0] < t - 3000:\n",
        "            self.requests.popleft()\n",
        "\n",
        "        # Return the number of remaining requests in the queue\n",
        "        return len(self.requests)"
      ],
      "metadata": {
        "id": "rBecWyPrHZLr"
      },
      "execution_count": null,
      "outputs": []
    },
    {
      "cell_type": "code",
      "source": [
        "recentCounter = RecentCounter()\n",
        "print(recentCounter.ping(1))\n",
        "print(recentCounter.ping(100))\n",
        "print(recentCounter.ping(3001))\n",
        "print(recentCounter.ping(3002))"
      ],
      "metadata": {
        "colab": {
          "base_uri": "https://localhost:8080/"
        },
        "id": "WdIZsC4zHmzk",
        "outputId": "88d932f6-0c5c-49c5-8f6a-5620d731db84"
      },
      "execution_count": null,
      "outputs": [
        {
          "output_type": "stream",
          "name": "stdout",
          "text": [
            "1\n",
            "2\n",
            "3\n",
            "3\n"
          ]
        }
      ]
    },
    {
      "cell_type": "markdown",
      "source": [
        "#Solution for question 5"
      ],
      "metadata": {
        "id": "FTZHQ37iLHLB"
      }
    },
    {
      "cell_type": "code",
      "source": [
        "class Node:\n",
        "    def __init__(self, value):\n",
        "        self.value = value\n",
        "        self.next = None\n",
        "\n",
        "\n",
        "def find_winner(n, k):\n",
        "    # Create circular linked list\n",
        "    head = Node(1)\n",
        "    curr = head\n",
        "    for i in range(2, n + 1):\n",
        "        curr.next = Node(i)\n",
        "        curr = curr.next\n",
        "    curr.next = head  # Make it circular\n",
        "\n",
        "    # Eliminate friends until only one is left\n",
        "    prev = curr\n",
        "    curr = head\n",
        "    while curr.next != curr:\n",
        "        # Count k friends clockwise\n",
        "        for _ in range(k - 1):\n",
        "            prev = curr\n",
        "            curr = curr.next\n",
        "        # Remove the friend\n",
        "        prev.next = curr.next\n",
        "        curr = prev.next\n",
        "\n",
        "    return curr.value\n",
        "\n",
        "\n",
        "# Example usage\n",
        "n = 5\n",
        "k = 2\n",
        "print(find_winner(n, k))"
      ],
      "metadata": {
        "colab": {
          "base_uri": "https://localhost:8080/"
        },
        "id": "_T3zaMoxHrqy",
        "outputId": "be40a478-c588-4218-eed7-87c13eb316c1"
      },
      "execution_count": null,
      "outputs": [
        {
          "output_type": "stream",
          "name": "stdout",
          "text": [
            "3\n"
          ]
        }
      ]
    },
    {
      "cell_type": "markdown",
      "source": [
        "#Solution for question 6"
      ],
      "metadata": {
        "id": "cUIa-LemLIgk"
      }
    },
    {
      "cell_type": "code",
      "source": [
        "from collections import deque\n",
        "def deckRevealedIncreasing(deck):\n",
        "    deck.sort()  # Sort the input array in ascending order\n",
        "    n = len(deck)\n",
        "    queue = deque(range(n))  # Create a queue with indices from 0 to n-1\n",
        "    result = [0] * n\n",
        "\n",
        "    for card in deck:\n",
        "        result[queue.popleft()] = card  # Take the front card and add it to the result\n",
        "        if queue:  # If there are still cards in the queue\n",
        "            queue.append(queue.popleft())  # Move the next card from the front to the back\n",
        "\n",
        "    return result"
      ],
      "metadata": {
        "id": "3K9nDejCJYlK"
      },
      "execution_count": null,
      "outputs": []
    },
    {
      "cell_type": "code",
      "source": [
        "deck = [17, 13, 11, 2, 3, 5, 7]\n",
        "print(deckRevealedIncreasing(deck))"
      ],
      "metadata": {
        "colab": {
          "base_uri": "https://localhost:8080/"
        },
        "id": "ZfsPMy1mJmS5",
        "outputId": "d9021658-34e8-46c7-d167-d406607ada95"
      },
      "execution_count": null,
      "outputs": [
        {
          "output_type": "stream",
          "name": "stdout",
          "text": [
            "[2, 13, 3, 11, 5, 17, 7]\n"
          ]
        }
      ]
    },
    {
      "cell_type": "markdown",
      "source": [
        "#Solution for question 7"
      ],
      "metadata": {
        "id": "zfQjLNkgLKEz"
      }
    },
    {
      "cell_type": "code",
      "source": [
        "class FrontMiddleBackQueue:\n",
        "    def __init__(self):\n",
        "        self.queue = []\n",
        "\n",
        "    def pushFront(self, val):\n",
        "        self.queue.insert(0, val)\n",
        "\n",
        "    def pushMiddle(self, val):\n",
        "        middle = len(self.queue) // 2\n",
        "        self.queue.insert(middle, val)\n",
        "\n",
        "    def pushBack(self, val):\n",
        "        self.queue.append(val)\n",
        "\n",
        "    def popFront(self):\n",
        "        if not self.queue:\n",
        "            return -1\n",
        "        return self.queue.pop(0)\n",
        "    def popMiddle(self):\n",
        "        if not self.queue:\n",
        "            return -1\n",
        "        middle = len(self.queue) // 2\n",
        "        return self.queue.pop(middle)\n",
        "\n",
        "    def popBack(self):\n",
        "        if not self.queue:\n",
        "            return -1\n",
        "        return self.queue.pop()"
      ],
      "metadata": {
        "id": "45gZZuGGJnKn"
      },
      "execution_count": null,
      "outputs": []
    },
    {
      "cell_type": "code",
      "source": [
        "q = FrontMiddleBackQueue()\n",
        "q.pushFront(1)\n",
        "q.pushBack(2)\n",
        "q.pushMiddle(3)\n",
        "q.pushMiddle(4)\n",
        "print(q.popFront())\n",
        "print(q.popMiddle())\n",
        "print(q.popMiddle())\n",
        "print(q.popBack())\n",
        "print(q.popFront())"
      ],
      "metadata": {
        "colab": {
          "base_uri": "https://localhost:8080/"
        },
        "id": "88poPX80KB02",
        "outputId": "8fbec9b4-ff61-462e-9c84-b5bf14652aa1"
      },
      "execution_count": null,
      "outputs": [
        {
          "output_type": "stream",
          "name": "stdout",
          "text": [
            "1\n",
            "3\n",
            "2\n",
            "4\n",
            "-1\n"
          ]
        }
      ]
    },
    {
      "cell_type": "markdown",
      "source": [
        "#Solution for question 8"
      ],
      "metadata": {
        "id": "dRWGg1ciLLgE"
      }
    },
    {
      "cell_type": "code",
      "source": [
        "from collections import deque\n",
        "\n",
        "class DataStream:\n",
        "    def __init__(self, value, k):\n",
        "        self.value = value\n",
        "        self.k = k\n",
        "        self.stream = deque()\n",
        "\n",
        "    def consec(self, num):\n",
        "        self.stream.append(num)\n",
        "        if len(self.stream) < self.k:\n",
        "            return False\n",
        "        elif len(self.stream) > self.k:\n",
        "            self.stream.popleft()\n",
        "        return all(x == self.value for x in self.stream)"
      ],
      "metadata": {
        "id": "glAHAFwLKIYC"
      },
      "execution_count": null,
      "outputs": []
    },
    {
      "cell_type": "code",
      "source": [
        "dataStream = DataStream(4, 3)\n",
        "print(dataStream.consec(4))\n",
        "print(dataStream.consec(4))\n",
        "print(dataStream.consec(4))\n",
        "print(dataStream.consec(3))"
      ],
      "metadata": {
        "colab": {
          "base_uri": "https://localhost:8080/"
        },
        "id": "e1-YZhO5KtHY",
        "outputId": "71528fc2-fad4-4f4b-89c6-4d2ae92d3ca7"
      },
      "execution_count": null,
      "outputs": [
        {
          "output_type": "stream",
          "name": "stdout",
          "text": [
            "False\n",
            "False\n",
            "True\n",
            "False\n"
          ]
        }
      ]
    },
    {
      "cell_type": "code",
      "source": [],
      "metadata": {
        "id": "rZDACC5TK0An"
      },
      "execution_count": null,
      "outputs": []
    }
  ]
}