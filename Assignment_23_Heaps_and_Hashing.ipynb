{
  "nbformat": 4,
  "nbformat_minor": 0,
  "metadata": {
    "colab": {
      "provenance": [],
      "include_colab_link": true
    },
    "kernelspec": {
      "name": "python3",
      "display_name": "Python 3"
    },
    "language_info": {
      "name": "python"
    }
  },
  "cells": [
    {
      "cell_type": "markdown",
      "metadata": {
        "id": "view-in-github",
        "colab_type": "text"
      },
      "source": [
        "<a href=\"https://colab.research.google.com/github/dinesh1190/Array-Assignment---/blob/main/Assignment_23_Heaps_and_Hashing.ipynb\" target=\"_parent\"><img src=\"https://colab.research.google.com/assets/colab-badge.svg\" alt=\"Open In Colab\"/></a>"
      ]
    },
    {
      "cell_type": "markdown",
      "source": [],
      "metadata": {
        "id": "tS9lX0xWdjxO"
      }
    },
    {
      "cell_type": "markdown",
      "source": [
        "#Solution for question 1"
      ],
      "metadata": {
        "id": "aosOBFJWdmif"
      }
    },
    {
      "cell_type": "code",
      "execution_count": null,
      "metadata": {
        "colab": {
          "base_uri": "https://localhost:8080/"
        },
        "id": "MzcwPoiMcHOS",
        "outputId": "620e4043-3d2e-4963-e05f-d054d2141521"
      },
      "outputs": [
        {
          "output_type": "stream",
          "name": "stdout",
          "text": [
            "1\n"
          ]
        }
      ],
      "source": [
        "def calculateDepth(preorder, index):\n",
        "    if index >= len(preorder):\n",
        "        return -1\n",
        "    if preorder[index] == 'l':\n",
        "        return 0\n",
        "    elif preorder[index] == 'n':\n",
        "        depth = 1\n",
        "        leftDepth = calculateDepth(preorder, index + 1)\n",
        "        rightDepth = calculateDepth(preorder, index + 1 + leftDepth)\n",
        "        return max(leftDepth, rightDepth) + depth\n",
        "\n",
        "def calculateTreeDepth(preorder):\n",
        "    return calculateDepth(preorder, 0)\n",
        "\n",
        "# Example usage\n",
        "preorder = 'nlnll'\n",
        "treeDepth = calculateTreeDepth(preorder)\n",
        "print(treeDepth)"
      ]
    },
    {
      "cell_type": "markdown",
      "source": [
        "#Solution for question 2"
      ],
      "metadata": {
        "id": "hrspnlQodrW9"
      }
    },
    {
      "cell_type": "code",
      "source": [
        "class Node:\n",
        "    def __init__(self, value):\n",
        "        self.value = value\n",
        "        self.left = None\n",
        "        self.right = None\n",
        "\n",
        "def printLeftView(root):\n",
        "    if root is None:\n",
        "        return\n",
        "\n",
        "    leftView = []\n",
        "    queue = [(root, 0)]\n",
        "\n",
        "    while queue:\n",
        "        node, level = queue.pop(0)\n",
        "\n",
        "        if level == len(leftView):\n",
        "            leftView.append(node.value)\n",
        "\n",
        "        if node.left:\n",
        "            queue.append((node.left, level + 1))\n",
        "\n",
        "        if node.right:\n",
        "            queue.append((node.right, level + 1))\n",
        "\n",
        "    print(' '.join(map(str, leftView)))\n",
        "\n",
        "# Create the binary tree\n",
        "root = Node(4)\n",
        "root.left = Node(5)\n",
        "root.right = Node(2)\n",
        "root.right.left = Node(3)\n",
        "root.right.right = Node(1)\n",
        "root.right.left.left = Node(6)\n",
        "root.right.left.right = Node(7)\n",
        "\n",
        "# Print the left view\n",
        "printLeftView(root)"
      ],
      "metadata": {
        "colab": {
          "base_uri": "https://localhost:8080/"
        },
        "id": "XS0bkOsYcQPT",
        "outputId": "718e2c13-f3c2-484c-9620-7537fb140ddc"
      },
      "execution_count": null,
      "outputs": [
        {
          "output_type": "stream",
          "name": "stdout",
          "text": [
            "4 5 3 6\n"
          ]
        }
      ]
    },
    {
      "cell_type": "markdown",
      "source": [
        "#Solution for question 3"
      ],
      "metadata": {
        "id": "7FH-JK-xdsze"
      }
    },
    {
      "cell_type": "code",
      "source": [
        "from collections import deque\n",
        "\n",
        "class Node:\n",
        "    def __init__(self, value):\n",
        "        self.value = value\n",
        "        self.left = None\n",
        "        self.right = None\n",
        "\n",
        "def printRightView(root):\n",
        "    if root is None:\n",
        "        return\n",
        "\n",
        "    queue = deque()\n",
        "    queue.append(root)\n",
        "    rightView = []\n",
        "\n",
        "    while queue:\n",
        "        size = len(queue)\n",
        "\n",
        "        for i in range(size):\n",
        "            node = queue.popleft()\n",
        "            if i == size - 1:\n",
        "                rightView.append(node.value)\n",
        "\n",
        "            if node.left:\n",
        "                queue.append(node.left)\n",
        "\n",
        "            if node.right:\n",
        "                queue.append(node.right)\n",
        "\n",
        "    print(' '.join(map(str, rightView)))\n",
        "\n",
        "# Create the binary tree\n",
        "root = Node(1)\n",
        "root.left = Node(2)\n",
        "root.right = Node(3)\n",
        "root.left.left = Node(4)\n",
        "root.left.right = Node(5)\n",
        "root.right.left = Node(6)\n",
        "root.right.right = Node(7)\n",
        "root.right.right.right = Node(8)\n",
        "\n",
        "# Print the right view\n",
        "printRightView(root)"
      ],
      "metadata": {
        "colab": {
          "base_uri": "https://localhost:8080/"
        },
        "id": "rlT0WrxjcqcR",
        "outputId": "78df2159-c541-4a1c-8bf9-6b2e692a2ee4"
      },
      "execution_count": null,
      "outputs": [
        {
          "output_type": "stream",
          "name": "stdout",
          "text": [
            "1 3 7 8\n"
          ]
        }
      ]
    },
    {
      "cell_type": "markdown",
      "source": [
        "#Solution for question 4"
      ],
      "metadata": {
        "id": "noakW75yduDC"
      }
    },
    {
      "cell_type": "code",
      "source": [
        "from collections import deque\n",
        "\n",
        "class Node:\n",
        "    def __init__(self, value):\n",
        "        self.value = value\n",
        "        self.left = None\n",
        "        self.right = None\n",
        "\n",
        "def printBottomView(root):\n",
        "    if root is None:\n",
        "        return\n",
        "\n",
        "    hd_dict = {}\n",
        "    queue = deque()\n",
        "    queue.append((root, 0))\n",
        "\n",
        "    while queue:\n",
        "        node, hd = queue.popleft()\n",
        "        hd_dict[hd] = node.value\n",
        "\n",
        "        if node.left:\n",
        "            queue.append((node.left, hd - 1))\n",
        "\n",
        "        if node.right:\n",
        "            queue.append((node.right, hd + 1))\n",
        "\n",
        "    sorted_hd_dict = sorted(hd_dict.items(), key=lambda x: x[0])\n",
        "    bottom_view = [value for _, value in sorted_hd_dict]\n",
        "\n",
        "    print(' '.join(map(str, bottom_view)))\n",
        "\n",
        "# Create the binary tree\n",
        "root = Node(20)\n",
        "root.left = Node(8)\n",
        "root.right = Node(22)\n",
        "root.left.left = Node(5)\n",
        "root.left.right = Node(3)\n",
        "root.right.right = Node(25)\n",
        "root.left.right.left = Node(10)\n",
        "root.left.right.right = Node(14)\n",
        "\n",
        "# Print the bottom view\n",
        "printBottomView(root)"
      ],
      "metadata": {
        "colab": {
          "base_uri": "https://localhost:8080/"
        },
        "id": "aRTphWu9c-HV",
        "outputId": "d3db0d5f-e1b0-4b03-9f3a-c5ad1793a013"
      },
      "execution_count": null,
      "outputs": [
        {
          "output_type": "stream",
          "name": "stdout",
          "text": [
            "5 10 3 14 25\n"
          ]
        }
      ]
    },
    {
      "cell_type": "code",
      "source": [],
      "metadata": {
        "id": "fRLTFplDdiSs"
      },
      "execution_count": null,
      "outputs": []
    }
  ]
}