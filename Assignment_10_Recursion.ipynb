{
  "nbformat": 4,
  "nbformat_minor": 0,
  "metadata": {
    "colab": {
      "provenance": [],
      "include_colab_link": true
    },
    "kernelspec": {
      "name": "python3",
      "display_name": "Python 3"
    },
    "language_info": {
      "name": "python"
    }
  },
  "cells": [
    {
      "cell_type": "markdown",
      "metadata": {
        "id": "view-in-github",
        "colab_type": "text"
      },
      "source": [
        "<a href=\"https://colab.research.google.com/github/dinesh1190/Array-Assignment---/blob/main/Assignment_10_Recursion.ipynb\" target=\"_parent\"><img src=\"https://colab.research.google.com/assets/colab-badge.svg\" alt=\"Open In Colab\"/></a>"
      ]
    },
    {
      "cell_type": "markdown",
      "source": [
        "#Solution for question 1"
      ],
      "metadata": {
        "id": "6iDPN_go2LZT"
      }
    },
    {
      "cell_type": "code",
      "execution_count": null,
      "metadata": {
        "id": "JRI_7-aNxTit"
      },
      "outputs": [],
      "source": [
        "\n",
        "import math\n",
        "\n",
        "def isPowerOfThree(n):\n",
        "    if n <= 0:\n",
        "        return False\n",
        "    power = math.log(n, 3)\n",
        "    return power == round(power)"
      ]
    },
    {
      "cell_type": "code",
      "source": [
        "print(isPowerOfThree(32))"
      ],
      "metadata": {
        "colab": {
          "base_uri": "https://localhost:8080/"
        },
        "id": "2msi7oLDxWLU",
        "outputId": "6c33b72e-394c-4692-8eca-22157d8de75e"
      },
      "execution_count": null,
      "outputs": [
        {
          "output_type": "stream",
          "name": "stdout",
          "text": [
            "False\n"
          ]
        }
      ]
    },
    {
      "cell_type": "markdown",
      "source": [
        "#Solution for question 3"
      ],
      "metadata": {
        "id": "Oz6zKMG12R6E"
      }
    },
    {
      "cell_type": "code",
      "source": [
        "\n",
        "\n",
        "def print_subsets(set_string):\n",
        "    subsets = []\n",
        "    generate_subsets(set_string, '', 0, subsets)\n",
        "    return subsets\n",
        "\n",
        "def generate_subsets(set_string, subset, index, subsets):\n",
        "    if index == len(set_string):\n",
        "        subsets.append(subset)\n",
        "        return\n",
        "\n",
        "    generate_subsets(set_string, subset, index + 1, subsets)  # Exclude current character\n",
        "    generate_subsets(set_string, subset + set_string[index], index + 1, subsets)  # Include current character"
      ],
      "metadata": {
        "id": "NNJTr6HYxdYq"
      },
      "execution_count": null,
      "outputs": []
    },
    {
      "cell_type": "code",
      "source": [
        "set_str = \"abc\"\n",
        "result = print_subsets(set_str)\n",
        "print(result)"
      ],
      "metadata": {
        "colab": {
          "base_uri": "https://localhost:8080/"
        },
        "id": "rKaxmu9_x43p",
        "outputId": "59a3922c-d26b-48a5-f568-60bf1652fbc2"
      },
      "execution_count": null,
      "outputs": [
        {
          "output_type": "stream",
          "name": "stdout",
          "text": [
            "['', 'c', 'b', 'bc', 'a', 'ac', 'ab', 'abc']\n"
          ]
        }
      ]
    },
    {
      "cell_type": "markdown",
      "source": [
        "#Solution for question 2"
      ],
      "metadata": {
        "id": "P8rncipR2UoF"
      }
    },
    {
      "cell_type": "code",
      "source": [
        "\n",
        "\n",
        "def lastRemaining(n):\n",
        "    arr = list(range(1, n + 1))  # Generate the initial list\n",
        "\n",
        "    left_to_right = True  # Flag to indicate the direction of removal\n",
        "\n",
        "    while len(arr) > 1:\n",
        "        if left_to_right:\n",
        "            arr = arr[1::2]  # Remove every other number from left to right\n",
        "        else:\n",
        "            arr = arr[-2::-2]  # Remove every other number from right to left\n",
        "\n",
        "        left_to_right = not left_to_right  # Toggle the direction flag\n",
        "\n",
        "    return arr[0]  # Return the last remaining number\n",
        "\n"
      ],
      "metadata": {
        "id": "zleNIdTPyNU9"
      },
      "execution_count": null,
      "outputs": []
    },
    {
      "cell_type": "code",
      "source": [
        "print(lastRemaining(11))"
      ],
      "metadata": {
        "colab": {
          "base_uri": "https://localhost:8080/"
        },
        "id": "IBI0GW6bydg3",
        "outputId": "1b2932b6-240a-4b2d-c185-e9675a1a840b"
      },
      "execution_count": null,
      "outputs": [
        {
          "output_type": "stream",
          "name": "stdout",
          "text": [
            "4\n"
          ]
        }
      ]
    },
    {
      "cell_type": "markdown",
      "source": [
        "#Solution for question 4"
      ],
      "metadata": {
        "id": "qiVx_Qog2XAf"
      }
    },
    {
      "cell_type": "code",
      "source": [
        "\n",
        "\n",
        "def calculate_length_recursive(string):\n",
        "    if string == '':\n",
        "        return 0\n",
        "    else:\n",
        "        return 1 + calculate_length_recursive(string[1:])\n",
        "\n",
        "print(calculate_length_recursive('Hello'))  "
      ],
      "metadata": {
        "colab": {
          "base_uri": "https://localhost:8080/"
        },
        "id": "JoL55D_KyhN_",
        "outputId": "65910944-d68a-47c6-fd8d-a9b9947b7dbd"
      },
      "execution_count": null,
      "outputs": [
        {
          "output_type": "stream",
          "name": "stdout",
          "text": [
            "5\n"
          ]
        }
      ]
    },
    {
      "cell_type": "markdown",
      "source": [
        "#Solution for question 5"
      ],
      "metadata": {
        "id": "RY0KWSQf2ZCN"
      }
    },
    {
      "cell_type": "code",
      "source": [
        "\n",
        "\n",
        "def count_contiguous_substrings(S):\n",
        "    count = 0\n",
        "    for i in range(len(S)):\n",
        "        count += 1\n",
        "        j = i + 1\n",
        "        while j < len(S):\n",
        "            if S[j] == S[i]:\n",
        "                count += 1\n",
        "                j += 1\n",
        "            else:\n",
        "                break\n",
        "    return count\n",
        "\n",
        "S = \"abcab\"\n",
        "result = count_contiguous_substrings(S)\n",
        "print(result) "
      ],
      "metadata": {
        "colab": {
          "base_uri": "https://localhost:8080/"
        },
        "id": "twNmMbn7y3zI",
        "outputId": "a71ecb04-ef84-4898-856f-0e42b9b30abb"
      },
      "execution_count": null,
      "outputs": [
        {
          "output_type": "stream",
          "name": "stdout",
          "text": [
            "5\n"
          ]
        }
      ]
    },
    {
      "cell_type": "markdown",
      "source": [
        "#Solution for question 6"
      ],
      "metadata": {
        "id": "Ns_q5YQl2a1P"
      }
    },
    {
      "cell_type": "code",
      "source": [
        "def tower_of_hanoi(N):\n",
        "    moves = 0\n",
        "    rods = ['rod 1', 'rod 2', 'rod 3']\n",
        "    stack = [(N, 0, 1, 2)] \n",
        "\n",
        "    while stack:\n",
        "        discs, source, auxiliary, destination = stack.pop()\n",
        "\n",
        "        if discs == 1:\n",
        "            moves += 1\n",
        "            print(f\"move disk 1 from {rods[source]} to {rods[destination]}\")\n",
        "        else:\n",
        "            stack.append((discs - 1, auxiliary, source, destination))\n",
        "            stack.append((1, source, auxiliary, destination))\n",
        "            stack.append((discs - 1, source, destination, auxiliary))\n",
        "            moves += 1\n",
        "\n",
        "    return moves\n",
        "\n",
        "N = 2\n",
        "total_moves = tower_of_hanoi(N)\n",
        "print(total_moves)"
      ],
      "metadata": {
        "colab": {
          "base_uri": "https://localhost:8080/"
        },
        "id": "aCFfVSti1swU",
        "outputId": "6e13391d-dde8-4f7a-dcd4-38f09e16c65c"
      },
      "execution_count": null,
      "outputs": [
        {
          "output_type": "stream",
          "name": "stdout",
          "text": [
            "move disk 1 from rod 1 to rod 2\n",
            "move disk 1 from rod 1 to rod 3\n",
            "move disk 1 from rod 2 to rod 3\n",
            "4\n"
          ]
        }
      ]
    },
    {
      "cell_type": "markdown",
      "source": [
        "#Solution for question 7"
      ],
      "metadata": {
        "id": "RTdhMoIL2cXV"
      }
    },
    {
      "cell_type": "code",
      "source": [
        "\n",
        "\n",
        "from itertools import permutations\n",
        "\n",
        "def print_permutations(string):\n",
        "    perms = permutations(string)\n",
        "    for perm in perms:\n",
        "        print(''.join(perm))\n",
        "\n",
        "string = \"cd\"\n",
        "print_permutations(string)"
      ],
      "metadata": {
        "colab": {
          "base_uri": "https://localhost:8080/"
        },
        "id": "BFwioGwX1C9Y",
        "outputId": "316ea42d-8f98-429a-e204-22c22b31a967"
      },
      "execution_count": null,
      "outputs": [
        {
          "output_type": "stream",
          "name": "stdout",
          "text": [
            "cd\n",
            "dc\n"
          ]
        }
      ]
    },
    {
      "cell_type": "markdown",
      "source": [
        "#Solution for question 8"
      ],
      "metadata": {
        "id": "nb89ldSQ2erx"
      }
    },
    {
      "cell_type": "code",
      "source": [
        "\n",
        "\n",
        "def count_consonants(string):\n",
        "    count = 0\n",
        "    string = string.lower()\n",
        "    vowels = 'aeiou'\n",
        "\n",
        "    for char in string:\n",
        "        if char.isalpha() and char not in vowels:\n",
        "            count += 1\n",
        "\n",
        "    return count\n",
        "\n",
        "print(count_consonants(\"abc de\"))  \n",
        "print(count_consonants(\"geeksforgeeks portal\")) "
      ],
      "metadata": {
        "colab": {
          "base_uri": "https://localhost:8080/"
        },
        "id": "7WEbmIsu1YTq",
        "outputId": "c4b9dea5-974d-45ee-f5a8-80eedc8ab599"
      },
      "execution_count": null,
      "outputs": [
        {
          "output_type": "stream",
          "name": "stdout",
          "text": [
            "3\n",
            "12\n"
          ]
        }
      ]
    }
  ]
}