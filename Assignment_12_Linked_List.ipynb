{
  "nbformat": 4,
  "nbformat_minor": 0,
  "metadata": {
    "colab": {
      "provenance": [],
      "include_colab_link": true
    },
    "kernelspec": {
      "name": "python3",
      "display_name": "Python 3"
    },
    "language_info": {
      "name": "python"
    }
  },
  "cells": [
    {
      "cell_type": "markdown",
      "metadata": {
        "id": "view-in-github",
        "colab_type": "text"
      },
      "source": [
        "<a href=\"https://colab.research.google.com/github/dinesh1190/Array-Assignment---/blob/main/Assignment_12_Linked_List.ipynb\" target=\"_parent\"><img src=\"https://colab.research.google.com/assets/colab-badge.svg\" alt=\"Open In Colab\"/></a>"
      ]
    },
    {
      "cell_type": "markdown",
      "source": [
        "#Solution for question 1"
      ],
      "metadata": {
        "id": "DdgrydfuNFQw"
      }
    },
    {
      "cell_type": "code",
      "execution_count": null,
      "metadata": {
        "id": "3Dzj-IF8G5_V"
      },
      "outputs": [],
      "source": [
        "\n",
        "class ListNode:\n",
        "    def __init__(self, val=0, next=None):\n",
        "        self.val = val\n",
        "        self.next = next\n",
        "\n",
        "\n",
        "def delete_middle_node(head):\n",
        "    if not head or not head.next:\n",
        "        return None\n",
        "\n",
        "    slowPtr = head\n",
        "    fastPtr = head\n",
        "    prevPtr = None\n",
        "\n",
        "    while fastPtr and fastPtr.next:\n",
        "        fastPtr = fastPtr.next.next\n",
        "        prevPtr = slowPtr\n",
        "        slowPtr = slowPtr.next\n",
        "\n",
        "    if prevPtr:\n",
        "        prevPtr.next = slowPtr.next\n",
        "    else:\n",
        "        # The first node is the middle node (even number of nodes)\n",
        "        head = head.next\n",
        "\n",
        "    return head\n",
        "\n",
        "\n",
        "# Helper function to print the linked list\n",
        "def print_linked_list(head):\n",
        "    if not head:\n",
        "        print(\"NULL\")\n",
        "\n",
        "    curr = head\n",
        "    while curr:\n",
        "        print(curr.val, end=\" \")\n",
        "        curr = curr.next\n",
        "    print()"
      ]
    },
    {
      "cell_type": "code",
      "source": [
        "head = ListNode(1)\n",
        "head.next = ListNode(2)\n",
        "head.next.next = ListNode(3)\n",
        "head.next.next.next = ListNode(4)\n",
        "head.next.next.next.next = ListNode(5)\n",
        "\n",
        "print(\"Input: \", end=\"\")\n",
        "print_linked_list(head)\n",
        "\n",
        "head = delete_middle_node(head)\n",
        "\n",
        "print(\"Output: \", end=\"\")\n",
        "print_linked_list(head)"
      ],
      "metadata": {
        "id": "7VcUW3lxHLXv"
      },
      "execution_count": null,
      "outputs": []
    },
    {
      "cell_type": "markdown",
      "source": [
        "#Solution for question 2"
      ],
      "metadata": {
        "id": "2LW8cX9lNQZH"
      }
    },
    {
      "cell_type": "code",
      "source": [
        "\n",
        "\n",
        "class Node:\n",
        "    def __init__(self, data):\n",
        "        self.data = data\n",
        "        self.next = None\n",
        "\n",
        "def detectLoop(head):\n",
        "    slow = head\n",
        "    fast = head\n",
        "\n",
        "    while fast and fast.next:\n",
        "        slow = slow.next\n",
        "        fast = fast.next.next\n",
        "\n",
        "        if slow == fast:\n",
        "            return True\n",
        "\n",
        "    return False\n"
      ],
      "metadata": {
        "id": "B_8mdBsqHO2O"
      },
      "execution_count": null,
      "outputs": []
    },
    {
      "cell_type": "code",
      "source": [
        "head = Node(1)\n",
        "head.next = Node(3)\n",
        "head.next.next = Node(4)\n",
        "head.next.next.next = head.next\n",
        "\n",
        "hasLoop = detectLoop(head)\n",
        "print(hasLoop)"
      ],
      "metadata": {
        "colab": {
          "base_uri": "https://localhost:8080/"
        },
        "id": "t8hQCFpkH6jC",
        "outputId": "74689df4-f270-4fcc-9cda-f0479b436539"
      },
      "execution_count": null,
      "outputs": [
        {
          "output_type": "stream",
          "name": "stdout",
          "text": [
            "True\n"
          ]
        }
      ]
    },
    {
      "cell_type": "markdown",
      "source": [
        "#Solution for question 3"
      ],
      "metadata": {
        "id": "IQXacKPKNTNt"
      }
    },
    {
      "cell_type": "code",
      "source": [
        "\n",
        "class Node:\n",
        "    def __init__(self, data=None):\n",
        "        self.data = data\n",
        "        self.next = None\n",
        "\n",
        "def findNthFromEnd(head, N):\n",
        "    ptr1 = head\n",
        "    ptr2 = head\n",
        "\n",
        "    # Move ptr2 N nodes ahead\n",
        "    for _ in range(N):\n",
        "        if ptr2 is None:\n",
        "            # N is greater than the number of nodes in the linked list\n",
        "            return None\n",
        "        ptr2 = ptr2.next\n",
        "\n",
        "    # Move ptr1 and ptr2 until ptr2 reaches the end of the linked list\n",
        "    while ptr2 is not None:\n",
        "        ptr1 = ptr1.next\n",
        "        ptr2 = ptr2.next\n",
        "    # At this point, ptr1 is pointing to the Nth node from the end\n",
        "    if ptr1 is not None:\n",
        "        return ptr1.data\n",
        "\n",
        "    return None"
      ],
      "metadata": {
        "id": "TrHBZOBfILp2"
      },
      "execution_count": null,
      "outputs": []
    },
    {
      "cell_type": "code",
      "source": [
        "head = Node(1)\n",
        "head.next = Node(2)\n",
        "head.next.next = Node(3)\n",
        "head.next.next.next = Node(4)\n",
        "head.next.next.next.next = Node(5)\n",
        "head.next.next.next.next.next = Node(6)\n",
        "head.next.next.next.next.next.next = Node(7)\n",
        "head.next.next.next.next.next.next.next = Node(8)\n",
        "head.next.next.next.next.next.next.next.next = Node(9)\n",
        "\n",
        "N = 2\n",
        "result = findNthFromEnd(head, N)\n",
        "print(\"Output:\", result)"
      ],
      "metadata": {
        "colab": {
          "base_uri": "https://localhost:8080/"
        },
        "id": "Zk-LMmV2IbnO",
        "outputId": "cff39434-cefa-4555-bdfc-895ecdeb0e9e"
      },
      "execution_count": null,
      "outputs": [
        {
          "output_type": "stream",
          "name": "stdout",
          "text": [
            "Output: 8\n"
          ]
        }
      ]
    },
    {
      "cell_type": "markdown",
      "source": [
        "#Solution for question 4"
      ],
      "metadata": {
        "id": "87H1ZGy4NWJT"
      }
    },
    {
      "cell_type": "code",
      "source": [
        "\n",
        "class ListNode:\n",
        "    def __init__(self, val=0, next=None):\n",
        "        self.val = val\n",
        "        self.next = next\n",
        "\n",
        "\n",
        "def isPalindrome(head):\n",
        "    if not head or not head.next:\n",
        "        return True\n",
        "\n",
        "    slow = head\n",
        "    fast = head\n",
        "\n",
        "    # Move fast pointer two steps at a time and slow pointer one step at a time\n",
        "    while fast.next and fast.next.next:\n",
        "        slow = slow.next\n",
        "        fast = fast.next.next\n",
        "\n",
        "    # Reverse the second half of the linked list\n",
        "    second_half = reverseLinkedList(slow.next)\n",
        "     # Compare characters from the first and reversed second half\n",
        "    curr = head\n",
        "    while second_half:\n",
        "        if curr.val != second_half.val:\n",
        "            return False\n",
        "        curr = curr.next\n",
        "        second_half = second_half.next\n",
        "\n",
        "    return True\n",
        "\n",
        "\n",
        "def reverseLinkedList(head):\n",
        "    prev = None\n",
        "    curr = head\n",
        "\n",
        "    while curr:\n",
        "        next_node = curr.next\n",
        "        curr.next = prev\n",
        "        prev = curr\n",
        "        curr = next_node\n",
        "\n",
        "    return prev"
      ],
      "metadata": {
        "id": "dxjjyY00IeCG"
      },
      "execution_count": null,
      "outputs": []
    },
    {
      "cell_type": "code",
      "source": [
        "head = ListNode('R')\n",
        "node2 = ListNode('A')\n",
        "node3 = ListNode('D')\n",
        "node4 = ListNode('A')\n",
        "node5 = ListNode('R')\n",
        "\n",
        "head.next = node2\n",
        "node2.next = node3\n",
        "node3.next = node4\n",
        "node4.next = node5\n",
        "print(isPalindrome(head))"
      ],
      "metadata": {
        "colab": {
          "base_uri": "https://localhost:8080/"
        },
        "id": "OsKBs7fLJLr3",
        "outputId": "8f9260fd-537e-415d-8b66-5d084554158d"
      },
      "execution_count": null,
      "outputs": [
        {
          "output_type": "stream",
          "name": "stdout",
          "text": [
            "True\n"
          ]
        }
      ]
    },
    {
      "cell_type": "markdown",
      "source": [
        "#Solution for question 5"
      ],
      "metadata": {
        "id": "bHRt97oNNY7m"
      }
    },
    {
      "cell_type": "code",
      "source": [
        "\n",
        "class Node:\n",
        "    def __init__(self, data):\n",
        "        self.data = data\n",
        "        self.next = None\n",
        "\n",
        "def removeLoop(head):\n",
        "    slowPtr = head\n",
        "    fastPtr = head\n",
        "\n",
        "    # Detect loop\n",
        "    while fastPtr and fastPtr.next:\n",
        "        slowPtr = slowPtr.next\n",
        "        fastPtr = fastPtr.next.next\n",
        "        if slowPtr == fastPtr:\n",
        "            break\n",
        "\n",
        "    # If no loop found, return\n",
        "    if slowPtr != fastPtr:\n",
        "        return head\n",
        "    # Find the starting point of the loop\n",
        "    loopPtr = head\n",
        "    while loopPtr.next != slowPtr.next:\n",
        "        loopPtr = loopPtr.next\n",
        "        slowPtr = slowPtr.next\n",
        "\n",
        "    # Remove the loop\n",
        "    slowPtr.next = None\n",
        "\n",
        "    return head\n",
        "\n",
        "# Create the linked list\n",
        "node1 = Node(1)\n",
        "node2 = Node(2)\n",
        "node3 = Node(3)\n",
        "node4 = Node(4)\n",
        "node5 = Node(5)\n",
        "node1.next = node2\n",
        "node2.next = node3\n",
        "node3.next = node4\n",
        "node4.next = node5\n",
        "node5.next = node3  # Creating a loop, connecting the last node to the node at position X=3\n",
        "\n",
        "# Call the removeLoop function\n",
        "head = removeLoop(node1)\n",
        "\n",
        "# Print the values in the linked list after removing the loop\n",
        "current = head\n",
        "while current:\n",
        "    print(current.data, end=\" \")\n",
        "    current = current.next"
      ],
      "metadata": {
        "colab": {
          "base_uri": "https://localhost:8080/"
        },
        "id": "-TxPi_IDJP0O",
        "outputId": "cd3d980f-cb37-4500-bb4b-44b751675ba4"
      },
      "execution_count": null,
      "outputs": [
        {
          "output_type": "stream",
          "name": "stdout",
          "text": [
            "1 2 3 4 5 "
          ]
        }
      ]
    },
    {
      "cell_type": "markdown",
      "source": [
        "#Solution for question 6"
      ],
      "metadata": {
        "id": "p9Uv4HaBNcao"
      }
    },
    {
      "cell_type": "code",
      "source": [
        "\n",
        "\n",
        "class Node:\n",
        "    def __init__(self, data=None):\n",
        "        self.data = data\n",
        "        self.next = None\n",
        "\n",
        "def retainAndDelete(head, M, N):\n",
        "    if M == 0:\n",
        "        return None\n",
        "\n",
        "    current = previous = head\n",
        "    count = 0\n",
        "\n",
        "    while current is not None:\n",
        "        # Retain M nodes\n",
        "        while current is not None and count < M:\n",
        "            previous = current\n",
        "            current = current.next\n",
        "            count += 1\n",
        "         # Delete N nodes\n",
        "        count = 0\n",
        "        while current is not None and count < N:\n",
        "            current = current.next\n",
        "            count += 1\n",
        "\n",
        "        # Skip N nodes by adjusting previous.next\n",
        "        previous.next = current\n",
        "\n",
        "    return head"
      ],
      "metadata": {
        "id": "bOinOraHJplb"
      },
      "execution_count": null,
      "outputs": []
    },
    {
      "cell_type": "code",
      "source": [
        "head = Node(1)\n",
        "head.next = Node(2)\n",
        "head.next.next = Node(3)\n",
        "head.next.next.next = Node(4)\n",
        "head.next.next.next.next = Node(5)\n",
        "head.next.next.next.next.next = Node(6)\n",
        "head.next.next.next.next.next.next = Node(7)\n",
        "head.next.next.next.next.next.next.next = Node(8)\n",
        "\n",
        "# Retain M=2 nodes and delete N=2 nodes\n",
        "new_head = retainAndDelete(head, 2, 2)\n",
        "\n",
        "# Print the modified linked list\n",
        "current = new_head\n",
        "while current is not None:\n",
        "    print(current.data, end=\" \")\n",
        "    current = current.next"
      ],
      "metadata": {
        "colab": {
          "base_uri": "https://localhost:8080/"
        },
        "id": "VP2jWNYMK8Iy",
        "outputId": "4924d517-247c-4e26-94a4-fa5eb8848a3c"
      },
      "execution_count": null,
      "outputs": [
        {
          "output_type": "stream",
          "name": "stdout",
          "text": [
            "1 2 "
          ]
        }
      ]
    },
    {
      "cell_type": "markdown",
      "source": [
        "#Solution for question 7"
      ],
      "metadata": {
        "id": "PbVZt2OeNevG"
      }
    },
    {
      "cell_type": "code",
      "source": [
        "\n",
        "class Node:\n",
        "    def __init__(self, data):\n",
        "        self.data = data\n",
        "        self.next = None\n",
        "\n",
        "def insertAlternatePositions(first, second):\n",
        "    if not second:  # If the second list is empty, return\n",
        "        return\n",
        "\n",
        "    firstPtr = first\n",
        "    secondPtr = second\n",
        "\n",
        "    while firstPtr and secondPtr:\n",
        "        firstNext = firstPtr.next\n",
        "        secondNext = secondPtr.next\n",
        "\n",
        "        secondPtr.next = firstNext\n",
        "        firstPtr.next = secondPtr\n",
        "\n",
        "        firstPtr = firstNext\n",
        "        secondPtr = secondNext\n",
        "    if secondPtr:  # Append remaining nodes of second list to the end of the first list\n",
        "        firstPtr.next = secondPtr\n",
        "\n",
        "    second = None  # Make the second list empty\n",
        "\n",
        "first = Node(5)\n",
        "first.next = Node(7)\n",
        "first.next.next = Node(17)\n",
        "first.next.next.next = Node(13)\n",
        "first.next.next.next.next = Node(11)\n",
        "\n",
        "# Create the second list\n",
        "second = Node(12)\n",
        "second.next = Node(10)\n",
        "second.next.next = Node(2)\n",
        "second.next.next.next = Node(4)\n",
        "second.next.next.next.next = Node(6)\n",
        "\n",
        "# Insert nodes of second list into the first list at alternate positions\n",
        "insertAlternatePositions(first, second)\n",
        "\n",
        "# Print the modified first list\n",
        "current = first\n",
        "while current:\n",
        "    print(current.data, end=\" \")\n",
        "    current = current.next\n",
        "# Output: 5 12 7 10 17 2 13 4 11 6\n",
        "\n",
        "# Print the modified second list\n",
        "current = second\n",
        "while current:\n",
        "    print(current.data, end=\" \")\n",
        "    current = current.next\n"
      ],
      "metadata": {
        "colab": {
          "base_uri": "https://localhost:8080/"
        },
        "id": "Xvz7qPZyLANu",
        "outputId": "178e9eec-1fab-498d-b067-e3e54277764c"
      },
      "execution_count": null,
      "outputs": [
        {
          "output_type": "stream",
          "name": "stdout",
          "text": [
            "5 12 7 10 17 2 13 4 11 6 12 7 10 17 2 13 4 11 6 "
          ]
        }
      ]
    },
    {
      "cell_type": "markdown",
      "source": [
        "#Solution for question 8"
      ],
      "metadata": {
        "id": "d_adcE4ENhIO"
      }
    },
    {
      "cell_type": "code",
      "source": [
        "\n",
        "class ListNode:\n",
        "    def __init__(self, val):\n",
        "        self.val = val\n",
        "        self.next = None\n",
        "\n",
        "# Helper function to create a circular linked list\n",
        "def create_circular_linked_list():\n",
        "    # Create nodes\n",
        "    node1 = ListNode(1)\n",
        "    node2 = ListNode(2)\n",
        "    node3 = ListNode(3)\n",
        "    node4 = ListNode(4)\n",
        "\n",
        "    # Connect nodes to form a circular linked list\n",
        "    node1.next = node2\n",
        "    node2.next = node3\n",
        "    node3.next = node4\n",
        "    node4.next = node2  # Point back to node2\n",
        " # Return the head of the linked list\n",
        "    return node1\n",
        "\n",
        "# Helper function to create a non-circular linked list\n",
        "def create_non_circular_linked_list():\n",
        "    # Create nodes\n",
        "    node1 = ListNode(1)\n",
        "    node2 = ListNode(2)\n",
        "    node3 = ListNode(3)\n",
        "    node4 = ListNode(4)\n",
        "\n",
        "    # Connect nodes to form a non-circular linked list\n",
        "    node1.next = node2\n",
        "    node2.next = node3\n",
        "    node3.next = node4\n",
        "\n",
        "    # Return the head of the linked list\n",
        "    return node1\n",
        "\n",
        "# Function to check if a linked list is circular or not\n",
        "def is_circular_linked_list(head):\n",
        "    if head is None:\n",
        "        return False\n",
        "\n",
        "    slow = head\n",
        "    fast = head.next\n",
        "\n",
        "    while fast is not None and fast.next is not None:\n",
        "        if slow == fast:\n",
        "            return True\n",
        "        slow = slow.next\n",
        "        fast = fast.next.next\n",
        "\n",
        "    return False\n",
        "\n",
        "# Testing the circular linked list\n",
        "circular_list = create_circular_linked_list()\n",
        "print(\"Circular Linked List:\")\n",
        "print(is_circular_linked_list(circular_list))\n",
        "\n",
        "# Testing the non-circular linked list\n",
        "non_circular_list = create_non_circular_linked_list()\n",
        "print(\"\\nNon-circular Linked List:\")\n",
        "print(is_circular_linked_list(non_circular_list))"
      ],
      "metadata": {
        "colab": {
          "base_uri": "https://localhost:8080/"
        },
        "id": "jc200EzAMVWV",
        "outputId": "db2a687a-6f64-419b-b07d-a81c31ea6ee3"
      },
      "execution_count": null,
      "outputs": [
        {
          "output_type": "stream",
          "name": "stdout",
          "text": [
            "Circular Linked List:\n",
            "True\n",
            "\n",
            "Non-circular Linked List:\n",
            "False\n"
          ]
        }
      ]
    },
    {
      "cell_type": "code",
      "source": [],
      "metadata": {
        "id": "oNm0qf-vNCFW"
      },
      "execution_count": null,
      "outputs": []
    }
  ]
}