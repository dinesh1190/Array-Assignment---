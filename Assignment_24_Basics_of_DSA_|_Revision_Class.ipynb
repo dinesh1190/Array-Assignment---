{
  "nbformat": 4,
  "nbformat_minor": 0,
  "metadata": {
    "colab": {
      "provenance": [],
      "include_colab_link": true
    },
    "kernelspec": {
      "name": "python3",
      "display_name": "Python 3"
    },
    "language_info": {
      "name": "python"
    }
  },
  "cells": [
    {
      "cell_type": "markdown",
      "metadata": {
        "id": "view-in-github",
        "colab_type": "text"
      },
      "source": [
        "<a href=\"https://colab.research.google.com/github/dinesh1190/Array-Assignment---/blob/main/Assignment_24_Basics_of_DSA_%7C_Revision_Class.ipynb\" target=\"_parent\"><img src=\"https://colab.research.google.com/assets/colab-badge.svg\" alt=\"Open In Colab\"/></a>"
      ]
    },
    {
      "cell_type": "markdown",
      "source": [
        "#Solution for question 1"
      ],
      "metadata": {
        "id": "XN2Tuu81hRBi"
      }
    },
    {
      "cell_type": "code",
      "execution_count": null,
      "metadata": {
        "colab": {
          "base_uri": "https://localhost:8080/"
        },
        "id": "OXpuXDIfeXH2",
        "outputId": "0af635ca-4ddf-4256-e473-b535555ece19"
      },
      "outputs": [
        {
          "output_type": "stream",
          "name": "stdout",
          "text": [
            "3\n",
            "4\n",
            "9\n",
            "58\n",
            "1994\n"
          ]
        }
      ],
      "source": [
        "def romanToInt(s):\n",
        "    roman_values = {\n",
        "        'I': 1,\n",
        "        'V': 5,\n",
        "        'X': 10,\n",
        "        'L': 50,\n",
        "        'C': 100,\n",
        "        'D': 500,\n",
        "        'M': 1000\n",
        "    }\n",
        "\n",
        "    result = 0\n",
        "    prev_value = 0\n",
        "\n",
        "    for i in range(len(s) - 1, -1, -1):\n",
        "        current_value = roman_values[s[i]]\n",
        "\n",
        "        if current_value < prev_value:\n",
        "            result -= current_value\n",
        "        else:\n",
        "            result += current_value\n",
        "\n",
        "        prev_value = current_value\n",
        "\n",
        "    return result\n",
        "\n",
        "# Test the function\n",
        "print(romanToInt(\"III\"))\n",
        "print(romanToInt(\"IV\"))\n",
        "print(romanToInt(\"IX\"))\n",
        "print(romanToInt(\"LVIII\"))\n",
        "print(romanToInt(\"MCMXCIV\"))"
      ]
    },
    {
      "cell_type": "markdown",
      "source": [
        "#Solution for question 2"
      ],
      "metadata": {
        "id": "j8VZT0cchWLY"
      }
    },
    {
      "cell_type": "code",
      "source": [
        "def lengthOfLongestSubstring(s):\n",
        "    n = len(s)\n",
        "    char_set = set()\n",
        "    max_length = 0\n",
        "    left = 0\n",
        "    right = 0\n",
        "\n",
        "    while left < n and right < n:\n",
        "        if s[right] not in char_set:\n",
        "            char_set.add(s[right])\n",
        "            max_length = max(max_length, right - left + 1)\n",
        "            right += 1\n",
        "        else:\n",
        "            char_set.remove(s[left])\n",
        "            left += 1\n",
        "\n",
        "    return max_length\n",
        "\n",
        "# Test the function\n",
        "print(lengthOfLongestSubstring(\"abcabcbb\"))\n",
        "print(lengthOfLongestSubstring(\"bbbbb\"))\n",
        "print(lengthOfLongestSubstring(\"pwwkew\"))"
      ],
      "metadata": {
        "colab": {
          "base_uri": "https://localhost:8080/"
        },
        "id": "hTq3x8fkegsd",
        "outputId": "bc28cb04-d325-4d91-d5ff-d67ae9556db2"
      },
      "execution_count": null,
      "outputs": [
        {
          "output_type": "stream",
          "name": "stdout",
          "text": [
            "3\n",
            "1\n",
            "3\n"
          ]
        }
      ]
    },
    {
      "cell_type": "markdown",
      "source": [
        "#Solution for question 3"
      ],
      "metadata": {
        "id": "LiN1DMdGhXut"
      }
    },
    {
      "cell_type": "code",
      "source": [
        "def majorityElement(nums):\n",
        "    count = 0\n",
        "    candidate = None\n",
        "\n",
        "    for num in nums:\n",
        "        if count == 0:\n",
        "            candidate = num\n",
        "        count += 1 if num == candidate else -1\n",
        "\n",
        "    return candidate\n",
        "\n",
        "# Test the function\n",
        "print(majorityElement([3, 2, 3]))"
      ],
      "metadata": {
        "colab": {
          "base_uri": "https://localhost:8080/"
        },
        "id": "GdTwEOw-fM1O",
        "outputId": "07b94f0e-a16a-4140-ee2e-c040af22f55b"
      },
      "execution_count": null,
      "outputs": [
        {
          "output_type": "stream",
          "name": "stdout",
          "text": [
            "3\n"
          ]
        }
      ]
    },
    {
      "cell_type": "markdown",
      "source": [
        "#Solution for question 4"
      ],
      "metadata": {
        "id": "EklNs7DQhZXA"
      }
    },
    {
      "cell_type": "code",
      "source": [
        "from collections import defaultdict\n",
        "\n",
        "def groupAnagrams(strs):\n",
        "    anagram_groups = defaultdict(list)\n",
        "\n",
        "    for word in strs:\n",
        "        sorted_word = ''.join(sorted(word))\n",
        "        anagram_groups[sorted_word].append(word)\n",
        "\n",
        "    return list(anagram_groups.values())\n",
        "\n",
        "# Test the function\n",
        "strs = [\"eat\", \"tea\", \"tan\", \"ate\", \"nat\", \"bat\"]\n",
        "print(groupAnagrams(strs))"
      ],
      "metadata": {
        "colab": {
          "base_uri": "https://localhost:8080/"
        },
        "id": "EnlifSrkfwa9",
        "outputId": "0edcedc6-a6a7-41c1-c7ab-0f78efbcf008"
      },
      "execution_count": null,
      "outputs": [
        {
          "output_type": "stream",
          "name": "stdout",
          "text": [
            "[['eat', 'tea', 'ate'], ['tan', 'nat'], ['bat']]\n"
          ]
        }
      ]
    },
    {
      "cell_type": "markdown",
      "source": [
        "#Solution for question 5"
      ],
      "metadata": {
        "id": "JlC6_qkKha87"
      }
    },
    {
      "cell_type": "code",
      "source": [
        "def nthUglyNumber(n):\n",
        "    ugly_numbers = [1]  # Store the ugly numbers\n",
        "    idx_2 = idx_3 = idx_5 = 0  # Pointers for multiples of 2, 3, and 5\n",
        "\n",
        "    while len(ugly_numbers) < n:\n",
        "        next_ugly = min(ugly_numbers[idx_2] * 2, ugly_numbers[idx_3] * 3, ugly_numbers[idx_5] * 5)\n",
        "        ugly_numbers.append(next_ugly)\n",
        "\n",
        "        # Move the pointers\n",
        "        if next_ugly == ugly_numbers[idx_2] * 2:\n",
        "            idx_2 += 1\n",
        "        if next_ugly == ugly_numbers[idx_3] * 3:\n",
        "            idx_3 += 1\n",
        "        if next_ugly == ugly_numbers[idx_5] * 5:\n",
        "            idx_5 += 1\n",
        "\n",
        "    return ugly_numbers[-1]\n",
        "\n",
        "# Test the function\n",
        "print(nthUglyNumber(10))"
      ],
      "metadata": {
        "colab": {
          "base_uri": "https://localhost:8080/"
        },
        "id": "sciv_tOhf60L",
        "outputId": "0721045a-e837-4a84-89ca-33dfa88e5040"
      },
      "execution_count": null,
      "outputs": [
        {
          "output_type": "stream",
          "name": "stdout",
          "text": [
            "12\n"
          ]
        }
      ]
    },
    {
      "cell_type": "markdown",
      "source": [
        "#Solution for question 6"
      ],
      "metadata": {
        "id": "BChR7uxrhcIW"
      }
    },
    {
      "cell_type": "code",
      "source": [
        "from collections import Counter\n",
        "import heapq\n",
        "\n",
        "def topKFrequent(words, k):\n",
        "    # Count the frequency of each word\n",
        "    word_count = Counter(words)\n",
        "\n",
        "    # Use a min-heap to store the k most frequent words\n",
        "    heap = []\n",
        "    for word, count in word_count.items():\n",
        "        heapq.heappush(heap, (-count, word))\n",
        "        if len(heap) > k:\n",
        "            heapq.heappop(heap)\n",
        "\n",
        "    # Build the result list by popping words from the heap\n",
        "    result = []\n",
        "    while heap:\n",
        "        result.append(heapq.heappop(heap)[1])\n",
        "\n",
        "    # Reverse the result list to get the highest frequency words first\n",
        "    return result[::-1]\n",
        "\n",
        "# Test the function\n",
        "words = [\"i\", \"love\", \"leetcode\", \"i\", \"love\", \"coding\"]\n",
        "k = 2\n",
        "print(topKFrequent(words, k))  # Output: [\"i\", \"love\"]"
      ],
      "metadata": {
        "colab": {
          "base_uri": "https://localhost:8080/"
        },
        "id": "jFbI2hrngNVY",
        "outputId": "89d659d3-f143-4eb8-b1e4-0661b62cf444"
      },
      "execution_count": null,
      "outputs": [
        {
          "output_type": "stream",
          "name": "stdout",
          "text": [
            "['leetcode', 'coding']\n"
          ]
        }
      ]
    },
    {
      "cell_type": "markdown",
      "source": [
        "#Solution for question 7"
      ],
      "metadata": {
        "id": "kI_2cl6phdwc"
      }
    },
    {
      "cell_type": "code",
      "source": [
        "from collections import deque\n",
        "\n",
        "def maxSlidingWindow(nums, k):\n",
        "    result = []\n",
        "    window = deque()\n",
        "\n",
        "    for i, num in enumerate(nums):\n",
        "        # Remove elements that are out of the current window\n",
        "        while window and window[0] <= i - k:\n",
        "            window.popleft()\n",
        "\n",
        "        # Remove smaller elements from the end of the window\n",
        "        while window and nums[window[-1]] < num:\n",
        "            window.pop()\n",
        "\n",
        "        # Add the current element to the window\n",
        "        window.append(i)\n",
        "\n",
        "        # If the window is fully formed, add the maximum to the result\n",
        "        if i >= k - 1:\n",
        "            result.append(nums[window[0]])\n",
        "\n",
        "    return result\n",
        "\n",
        "# Test the function\n",
        "nums = [1, 3, -1, -3, 5, 3, 6, 7]\n",
        "k = 3\n",
        "print(maxSlidingWindow(nums, k))  # Output: [3, 3, 5, 5, 6, 7]"
      ],
      "metadata": {
        "colab": {
          "base_uri": "https://localhost:8080/"
        },
        "id": "cyOZgGttgeGM",
        "outputId": "24800248-c926-4ce4-d34e-2ffc323d7c4d"
      },
      "execution_count": null,
      "outputs": [
        {
          "output_type": "stream",
          "name": "stdout",
          "text": [
            "[3, 3, 5, 5, 6, 7]\n"
          ]
        }
      ]
    },
    {
      "cell_type": "markdown",
      "source": [
        "#Solution for question 8"
      ],
      "metadata": {
        "id": "BxFRCHVXhe3o"
      }
    },
    {
      "cell_type": "code",
      "source": [
        "def findClosestElements(arr, k, x):\n",
        "    left = 0\n",
        "    right = len(arr) - 1\n",
        "\n",
        "    while right - left >= k:\n",
        "        if abs(arr[left] - x) > abs(arr[right] - x):\n",
        "            left += 1\n",
        "        else:\n",
        "            right -= 1\n",
        "\n",
        "    return arr[left:right+1]\n",
        "\n",
        "# Test the function\n",
        "arr = [1, 2, 3, 4, 5]\n",
        "k = 4\n",
        "x = 3\n",
        "print(findClosestElements(arr, k, x))"
      ],
      "metadata": {
        "colab": {
          "base_uri": "https://localhost:8080/"
        },
        "id": "MIPYQwljgz1h",
        "outputId": "3943c494-0f9b-45bb-be0b-159cb91ab0b0"
      },
      "execution_count": null,
      "outputs": [
        {
          "output_type": "stream",
          "name": "stdout",
          "text": [
            "[1, 2, 3, 4]\n"
          ]
        }
      ]
    },
    {
      "cell_type": "code",
      "source": [],
      "metadata": {
        "id": "LLMfsp13hPcs"
      },
      "execution_count": null,
      "outputs": []
    }
  ]
}