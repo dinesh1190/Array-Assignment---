{
  "nbformat": 4,
  "nbformat_minor": 0,
  "metadata": {
    "colab": {
      "provenance": [],
      "include_colab_link": true
    },
    "kernelspec": {
      "name": "python3",
      "display_name": "Python 3"
    },
    "language_info": {
      "name": "python"
    }
  },
  "cells": [
    {
      "cell_type": "markdown",
      "metadata": {
        "id": "view-in-github",
        "colab_type": "text"
      },
      "source": [
        "<a href=\"https://colab.research.google.com/github/dinesh1190/Array-Assignment---/blob/main/Assignment_11_Binary_Search.ipynb\" target=\"_parent\"><img src=\"https://colab.research.google.com/assets/colab-badge.svg\" alt=\"Open In Colab\"/></a>"
      ]
    },
    {
      "cell_type": "markdown",
      "source": [
        "#Solution for question 1"
      ],
      "metadata": {
        "id": "TkdfMXVYAfNi"
      }
    },
    {
      "cell_type": "code",
      "execution_count": null,
      "metadata": {
        "id": "8TdyhgXN9Hno"
      },
      "outputs": [],
      "source": [
        "\n",
        "def mySqrt(x):\n",
        "    if x == 0:\n",
        "        return 0\n",
        "\n",
        "    left = 1\n",
        "    right = x\n",
        "\n",
        "    while left <= right:\n",
        "        mid = left + (right - left) // 2\n",
        "        if mid * mid > x:\n",
        "            right = mid - 1\n",
        "        else:\n",
        "            left = mid + 1\n",
        "\n",
        "    return right"
      ]
    },
    {
      "cell_type": "code",
      "source": [
        "print(mySqrt(8))"
      ],
      "metadata": {
        "colab": {
          "base_uri": "https://localhost:8080/"
        },
        "id": "iqRPPuR99Okw",
        "outputId": "e223a2b3-1404-4571-bc7b-5cca560bdffa"
      },
      "execution_count": null,
      "outputs": [
        {
          "output_type": "stream",
          "name": "stdout",
          "text": [
            "2\n"
          ]
        }
      ]
    },
    {
      "cell_type": "markdown",
      "source": [
        "#Solution for question 2"
      ],
      "metadata": {
        "id": "H9FcXpzvAnmu"
      }
    },
    {
      "cell_type": "code",
      "source": [
        "\n",
        "def findPeakElement(nums):\n",
        "    left = 0\n",
        "    right = len(nums) - 1\n",
        "\n",
        "    while left < right:\n",
        "        mid = (left + right) // 2\n",
        "\n",
        "        if nums[mid] < nums[mid + 1]:\n",
        "            left = mid + 1\n",
        "        else:\n",
        "            right = mid\n",
        "\n",
        "    return left"
      ],
      "metadata": {
        "id": "tBXOJYJK9Q6_"
      },
      "execution_count": null,
      "outputs": []
    },
    {
      "cell_type": "code",
      "source": [
        "nums = [2,3,1,2]\n",
        "print(findPeakElement(nums))"
      ],
      "metadata": {
        "colab": {
          "base_uri": "https://localhost:8080/"
        },
        "id": "dYfywdlA9oTH",
        "outputId": "2c039a49-6041-4bfe-a7ff-757367e52385"
      },
      "execution_count": null,
      "outputs": [
        {
          "output_type": "stream",
          "name": "stdout",
          "text": [
            "1\n"
          ]
        }
      ]
    },
    {
      "cell_type": "markdown",
      "source": [
        "#Solution for question 3"
      ],
      "metadata": {
        "id": "zLB1VcU9Aqoo"
      }
    },
    {
      "cell_type": "code",
      "source": [
        "\n",
        "def find_missing_number(nums):\n",
        "    n = len(nums)\n",
        "    expected_sum = n * (n + 1) // 2\n",
        "    actual_sum = sum(nums)\n",
        "    missing_number = expected_sum - actual_sum\n",
        "    return missing_number"
      ],
      "metadata": {
        "id": "Ba2tF6zC9tdL"
      },
      "execution_count": null,
      "outputs": []
    },
    {
      "cell_type": "code",
      "source": [
        "nums = [5,6,1]\n",
        "missing_number = find_missing_number(nums)\n",
        "print(missing_number)"
      ],
      "metadata": {
        "colab": {
          "base_uri": "https://localhost:8080/"
        },
        "id": "HX0o0yIv-TLL",
        "outputId": "1c80540e-5364-4574-d6bf-256d96e4ba15"
      },
      "execution_count": null,
      "outputs": [
        {
          "output_type": "stream",
          "name": "stdout",
          "text": [
            "-6\n"
          ]
        }
      ]
    },
    {
      "cell_type": "markdown",
      "source": [
        "#Solution for question 5"
      ],
      "metadata": {
        "id": "vYPkB9BQAy9K"
      }
    },
    {
      "cell_type": "code",
      "source": [
        "\n",
        "def intersection(nums1, nums2):\n",
        "    set1 = set(nums1)\n",
        "    set2 = set(nums2)\n",
        "    result_set = set()\n",
        "\n",
        "    for num in set2:\n",
        "        if num in set1:\n",
        "            result_set.add(num)\n",
        "\n",
        "    return list(result_set)"
      ],
      "metadata": {
        "id": "PiA6fz6w-u5S"
      },
      "execution_count": null,
      "outputs": []
    },
    {
      "cell_type": "code",
      "source": [
        "nums1 = [3,2,2,1]\n",
        "nums2 = [2, 1]\n",
        "result = intersection(nums1, nums2)\n",
        "print(result)"
      ],
      "metadata": {
        "colab": {
          "base_uri": "https://localhost:8080/"
        },
        "id": "OLfyTZJ__VkJ",
        "outputId": "0a25859e-ac4d-4844-a4d9-296f23e0201e"
      },
      "execution_count": null,
      "outputs": [
        {
          "output_type": "stream",
          "name": "stdout",
          "text": [
            "[1, 2]\n"
          ]
        }
      ]
    },
    {
      "cell_type": "markdown",
      "source": [
        "#Solution for question 6"
      ],
      "metadata": {
        "id": "q71yUanwA1yZ"
      }
    },
    {
      "cell_type": "code",
      "source": [
        "\n",
        "\n",
        "def findMin(nums):\n",
        "    left, right = 0, len(nums) - 1\n",
        "\n",
        "    while left < right:\n",
        "        mid = (left + right) // 2\n",
        "\n",
        "        if nums[mid] < nums[right]:\n",
        "            right = mid\n",
        "        else:\n",
        "            left = mid + 1\n",
        "\n",
        "    return nums[left]"
      ],
      "metadata": {
        "id": "qLpspzrq_erz"
      },
      "execution_count": null,
      "outputs": []
    },
    {
      "cell_type": "code",
      "source": [
        "nums = [3, 4, 5, 1, 2]\n",
        "print(findMin(nums))\n"
      ],
      "metadata": {
        "colab": {
          "base_uri": "https://localhost:8080/"
        },
        "id": "HEOVHpJr_sHo",
        "outputId": "442fca17-dc52-4ff7-cfbd-2d1802429b1d"
      },
      "execution_count": null,
      "outputs": [
        {
          "output_type": "stream",
          "name": "stdout",
          "text": [
            "1\n"
          ]
        }
      ]
    },
    {
      "cell_type": "markdown",
      "source": [
        "#Solution for question 7"
      ],
      "metadata": {
        "id": "yx2KgTJfA3_j"
      }
    },
    {
      "cell_type": "code",
      "source": [
        "\n",
        "\n",
        "def searchRange(nums, target):\n",
        "    start = -1\n",
        "    end = -1\n",
        "\n",
        "    # Find leftmost position of target\n",
        "    left = 0\n",
        "    right = len(nums) - 1\n",
        "    while left <= right:\n",
        "        mid = (left + right) // 2\n",
        "        if nums[mid] == target:\n",
        "            start = mid\n",
        "            right = mid - 1\n",
        "        elif nums[mid] < target:\n",
        "            left = mid + 1\n",
        "        else:\n",
        "            right = mid - 1\n",
        "    # Find rightmost position of target\n",
        "    left = 0\n",
        "    right = len(nums) - 1\n",
        "    while left <= right:\n",
        "        mid = (left + right) // 2\n",
        "        if nums[mid] == target:\n",
        "            end = mid\n",
        "            left = mid + 1\n",
        "        elif nums[mid] < target:\n",
        "            left = mid + 1\n",
        "        else:\n",
        "            right = mid - 1\n",
        "\n",
        "    return [start, end]"
      ],
      "metadata": {
        "id": "kUwAGhJV_uOF"
      },
      "execution_count": null,
      "outputs": []
    },
    {
      "cell_type": "code",
      "source": [
        "nums = [5, 7, 7, 8, 8, 10]\n",
        "target = 8\n",
        "result = searchRange(nums, target)\n",
        "print(result)\n"
      ],
      "metadata": {
        "colab": {
          "base_uri": "https://localhost:8080/"
        },
        "id": "AYY_fQcCAHt8",
        "outputId": "90f7d0b8-29b4-494b-e14e-e1ecbadf49d0"
      },
      "execution_count": null,
      "outputs": [
        {
          "output_type": "stream",
          "name": "stdout",
          "text": [
            "[3, 4]\n"
          ]
        }
      ]
    },
    {
      "cell_type": "markdown",
      "source": [
        "#Solution for question 8"
      ],
      "metadata": {
        "id": "0Sx2EecSA6d6"
      }
    },
    {
      "cell_type": "code",
      "source": [
        "\n",
        "\n",
        "from collections import defaultdict\n",
        "\n",
        "def intersect(nums1, nums2):\n",
        "    # Create a dictionary to store the count of elements in nums1\n",
        "    count = defaultdict(int)\n",
        "\n",
        "    # Populate the count dictionary\n",
        "    for num in nums1:\n",
        "        count[num] += 1\n",
        "\n",
        "    result = []\n",
        "\n",
        "    # Iterate through nums2 and find the common elements\n",
        "    for num in nums2:\n",
        "        if count[num] > 0:\n",
        "            result.append(num)\n",
        "            count[num] -= 1\n",
        "\n",
        "    return result"
      ],
      "metadata": {
        "id": "6TiN4DVVAJ_d"
      },
      "execution_count": null,
      "outputs": []
    },
    {
      "cell_type": "code",
      "source": [
        "nums1 = [1, 2, 2, 1]\n",
        "nums2 = [2, 2]\n",
        "print(intersect(nums1, nums2))"
      ],
      "metadata": {
        "colab": {
          "base_uri": "https://localhost:8080/"
        },
        "id": "M8r7UN2FAXLu",
        "outputId": "20a7515b-61a0-41a0-e21c-5d44cc9060f9"
      },
      "execution_count": null,
      "outputs": [
        {
          "output_type": "stream",
          "name": "stdout",
          "text": [
            "[2, 2]\n"
          ]
        }
      ]
    },
    {
      "cell_type": "code",
      "source": [],
      "metadata": {
        "id": "VjhM1y8xAZuK"
      },
      "execution_count": null,
      "outputs": []
    }
  ]
}