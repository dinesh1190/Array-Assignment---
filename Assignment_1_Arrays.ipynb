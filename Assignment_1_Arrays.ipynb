{
  "nbformat": 4,
  "nbformat_minor": 0,
  "metadata": {
    "colab": {
      "provenance": [],
      "include_colab_link": true
    },
    "kernelspec": {
      "name": "python3",
      "display_name": "Python 3"
    },
    "language_info": {
      "name": "python"
    }
  },
  "cells": [
    {
      "cell_type": "markdown",
      "metadata": {
        "id": "view-in-github",
        "colab_type": "text"
      },
      "source": [
        "<a href=\"https://colab.research.google.com/github/dinesh1190/Array-Assignment---1/blob/main/Assignment_1_Arrays.ipynb\" target=\"_parent\"><img src=\"https://colab.research.google.com/assets/colab-badge.svg\" alt=\"Open In Colab\"/></a>"
      ]
    },
    {
      "cell_type": "markdown",
      "source": [
        "#Solution for question 1"
      ],
      "metadata": {
        "id": "t9i1wmfunAz_"
      }
    },
    {
      "cell_type": "code",
      "source": [
        "def twoSum(nums, target):\n",
        "    # Iterate through each element in the array\n",
        "    for i in range(len(nums)):\n",
        "        # Check if there is a pair with the current element that adds up to the target\n",
        "        for j in range(i + 1, len(nums)):\n",
        "            if nums[i] + nums[j] == target:\n",
        "                # Return the indices of the two numbers\n",
        "                return [i, j]\n",
        "    \n",
        "    # If no solution is found, return an empty list\n",
        "    return []"
      ],
      "metadata": {
        "id": "kQiS55KhN4bO"
      },
      "execution_count": null,
      "outputs": []
    },
    {
      "cell_type": "code",
      "source": [
        "nums = [2, 7, 11, 15]\n",
        "target = 9\n",
        "result = twoSum(nums, target)\n",
        "print(result) \n",
        "\n"
      ],
      "metadata": {
        "colab": {
          "base_uri": "https://localhost:8080/"
        },
        "id": "9rJEfFpwQx8t",
        "outputId": "b8e72a71-4ae7-43a7-cdd9-47924dd1e522"
      },
      "execution_count": null,
      "outputs": [
        {
          "output_type": "stream",
          "name": "stdout",
          "text": [
            "[0, 1]\n"
          ]
        }
      ]
    },
    {
      "cell_type": "markdown",
      "source": [
        "#Solution for question 2\n"
      ],
      "metadata": {
        "id": "R3waJCXLmI5z"
      }
    },
    {
      "cell_type": "code",
      "source": [
        "def removeElement(nums, val):\n",
        "    k = 0  # variable to count elements not equal to val\n",
        "    \n",
        "    for i in range(len(nums)):\n",
        "        if nums[i] != val:\n",
        "            nums[k] = nums[i]\n",
        "            k += 1\n",
        "    \n",
        "    nums = nums[:k]  # Truncate the array to contain only elements not equal to val\n",
        "    return k"
      ],
      "metadata": {
        "id": "yTb6D3a3Tq_U"
      },
      "execution_count": null,
      "outputs": []
    },
    {
      "cell_type": "code",
      "source": [
        "nums = [1, 2, 3, 4, 5]\n",
        "val = 3\n",
        "\n",
        "result = removeElement(nums, val)\n",
        "print(result)\n",
        "print(nums)"
      ],
      "metadata": {
        "colab": {
          "base_uri": "https://localhost:8080/"
        },
        "id": "ooMREL7TTuRW",
        "outputId": "e51124e3-0023-4cc5-bdf0-5c4a7d722a68"
      },
      "execution_count": null,
      "outputs": [
        {
          "output_type": "stream",
          "name": "stdout",
          "text": [
            "4\n",
            "[1, 2, 4, 5, 5]\n"
          ]
        }
      ]
    },
    {
      "cell_type": "markdown",
      "source": [
        "#Solution for question 4\n"
      ],
      "metadata": {
        "id": "EWC-N7ZHmTMA"
      }
    },
    {
      "cell_type": "code",
      "source": [
        "def plusOne(digits):\n",
        "    n = len(digits)\n",
        "    for i in range(n-1, -1, -1):\n",
        "        if digits[i] < 9:\n",
        "            digits[i] += 1\n",
        "            return digits\n",
        "        digits[i] = 0\n",
        "    # If we reach here, it means all digits were 9\n",
        "    return [1] + digits"
      ],
      "metadata": {
        "id": "j3XLjyAtbZYV"
      },
      "execution_count": null,
      "outputs": []
    },
    {
      "cell_type": "code",
      "source": [
        "digits = [1, 9, 3, 6]\n",
        "result = plusOne(digits)\n",
        "print(result)"
      ],
      "metadata": {
        "colab": {
          "base_uri": "https://localhost:8080/"
        },
        "id": "FSs2Uzig_0SP",
        "outputId": "c2276ed9-7eeb-429a-eea0-087d6af6224c"
      },
      "execution_count": null,
      "outputs": [
        {
          "output_type": "stream",
          "name": "stdout",
          "text": [
            "[1, 9, 3, 7]\n"
          ]
        }
      ]
    },
    {
      "cell_type": "markdown",
      "source": [
        "#Solution for question 5"
      ],
      "metadata": {
        "id": "n0jgNmbMmivz"
      }
    },
    {
      "cell_type": "code",
      "source": [
        "def merge(nums1, m, nums2, n):\n",
        "    # Start merging from the end of the arrays\n",
        "    p1 = m - 1  # Pointer for nums1\n",
        "    p2 = n - 1  # Pointer for nums2\n",
        "    p = m + n - 1  # Pointer for merged array\n",
        "\n",
        "    # Merge until all elements from nums2 are processed\n",
        "    while p2 >= 0:\n",
        "        # Compare elements from the end of both arrays\n",
        "        if p1 >= 0 and nums1[p1] > nums2[p2]:\n",
        "            nums1[p] = nums1[p1]\n",
        "            p1 -= 1\n",
        "        else:\n",
        "            nums1[p] = nums2[p2]\n",
        "            p2 -= 1\n",
        "        p -= 1"
      ],
      "metadata": {
        "id": "nwfEjrqT_6eP"
      },
      "execution_count": null,
      "outputs": []
    },
    {
      "cell_type": "code",
      "source": [
        "nums1 = [1, 4, 5, 0, 0, 0]  # Array with extra space for merging\n",
        "m = 3  # Number of elements in nums1\n",
        "nums2 = [2, 3, 6]  # Array to be merged into nums1\n",
        "n = 3  # Number of elements in nums2\n",
        "merge(nums1, m, nums2, n)\n",
        "print(nums1)"
      ],
      "metadata": {
        "colab": {
          "base_uri": "https://localhost:8080/"
        },
        "id": "pzp62OH0HN4i",
        "outputId": "2763becd-d17b-4c89-fb27-e5276d59d36e"
      },
      "execution_count": null,
      "outputs": [
        {
          "output_type": "stream",
          "name": "stdout",
          "text": [
            "[1, 2, 3, 4, 5, 6]\n"
          ]
        }
      ]
    },
    {
      "cell_type": "markdown",
      "source": [
        "#Solution for question 6"
      ],
      "metadata": {
        "id": "GijFrg4vmpQj"
      }
    },
    {
      "cell_type": "code",
      "source": [
        "def containsDuplicate(nums):\n",
        "    seen = set()\n",
        "    for num in nums:\n",
        "        if num in seen:\n",
        "            return True\n",
        "        seen.add(num)\n",
        "    return False\n"
      ],
      "metadata": {
        "id": "5hu20hYeIG6i"
      },
      "execution_count": null,
      "outputs": []
    },
    {
      "cell_type": "code",
      "source": [
        "nums = [1, 2, 3, 4]\n",
        "result = containsDuplicate(nums)\n",
        "print(result) "
      ],
      "metadata": {
        "colab": {
          "base_uri": "https://localhost:8080/"
        },
        "id": "VZ5fOPUrJ4bL",
        "outputId": "0ec983d7-0864-49cd-df17-cc7d9cdd069a"
      },
      "execution_count": null,
      "outputs": [
        {
          "output_type": "stream",
          "name": "stdout",
          "text": [
            "False\n"
          ]
        }
      ]
    },
    {
      "cell_type": "markdown",
      "source": [
        "#Solution for question 7"
      ],
      "metadata": {
        "id": "Drxj5dk4mwhu"
      }
    },
    {
      "cell_type": "code",
      "source": [
        "def move_zeros(nums):\n",
        "    zeros = nums.count(0)  # Count the number of zeros in the array\n",
        "    nums = [num for num in nums if num != 0]  # Create a new array with nonzero elements only\n",
        "    nums += [0] * zeros  # Append the required number of zeros to the end of the array\n",
        "\n",
        "    return nums"
      ],
      "metadata": {
        "id": "HXwraHMDKVoP"
      },
      "execution_count": null,
      "outputs": []
    },
    {
      "cell_type": "code",
      "source": [
        "nums = [0, 1, 0, 3, 12, 0, 5]\n",
        "result = move_zeros(nums)\n",
        "print(result)"
      ],
      "metadata": {
        "colab": {
          "base_uri": "https://localhost:8080/"
        },
        "id": "UZ0nKryeL3yX",
        "outputId": "b65bad7b-ac96-4c18-a193-5756a43e925b"
      },
      "execution_count": null,
      "outputs": [
        {
          "output_type": "stream",
          "name": "stdout",
          "text": [
            "[1, 3, 12, 5, 0, 0, 0]\n"
          ]
        }
      ]
    },
    {
      "cell_type": "markdown",
      "source": [
        "#Solution for question 8"
      ],
      "metadata": {
        "id": "TjCaK0SBmzcN"
      }
    },
    {
      "cell_type": "code",
      "source": [
        "def findErrorNums(nums):\n",
        "    n = len(nums)\n",
        "    count = [0] * (n + 1)  # Create a count list to track occurrences\n",
        "    duplicate, missing = -1, -1\n",
        "\n",
        "    # Count the occurrences of each number in nums\n",
        "    for num in nums:\n",
        "        count[num] += 1\n",
        "\n",
        "    # Find the duplicate and missing numbers\n",
        "    for i in range(1, n + 1):\n",
        "        if count[i] == 2:\n",
        "            duplicate = i\n",
        "        elif count[i] == 0:\n",
        "            missing = i\n",
        "\n",
        "    return [duplicate, missing]"
      ],
      "metadata": {
        "id": "mwAeYpzYbwP7"
      },
      "execution_count": null,
      "outputs": []
    },
    {
      "cell_type": "code",
      "source": [
        "nums = [1, 3, 2, 2, 5]\n",
        "result = findErrorNums(nums)\n",
        "print(result)"
      ],
      "metadata": {
        "colab": {
          "base_uri": "https://localhost:8080/"
        },
        "id": "mHW_rHuZjo_8",
        "outputId": "e3552a93-7006-42d0-d20f-2f457db68188"
      },
      "execution_count": null,
      "outputs": [
        {
          "output_type": "stream",
          "name": "stdout",
          "text": [
            "[2, 4]\n"
          ]
        }
      ]
    }
  ]
}