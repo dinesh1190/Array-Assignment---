{
  "nbformat": 4,
  "nbformat_minor": 0,
  "metadata": {
    "colab": {
      "provenance": [],
      "include_colab_link": true
    },
    "kernelspec": {
      "name": "python3",
      "display_name": "Python 3"
    },
    "language_info": {
      "name": "python"
    }
  },
  "cells": [
    {
      "cell_type": "markdown",
      "metadata": {
        "id": "view-in-github",
        "colab_type": "text"
      },
      "source": [
        "<a href=\"https://colab.research.google.com/github/dinesh1190/Array-Assignment---/blob/main/Assignment_2_Arrays.ipynb\" target=\"_parent\"><img src=\"https://colab.research.google.com/assets/colab-badge.svg\" alt=\"Open In Colab\"/></a>"
      ]
    },
    {
      "cell_type": "markdown",
      "source": [
        "# Solution for question 1"
      ],
      "metadata": {
        "id": "RGMrmeYBXyVQ"
      }
    },
    {
      "cell_type": "code",
      "source": [
        "def arrayPairSum(nums):\n",
        "    nums.sort()  # Sort the array in ascending order\n",
        "    max_sum = 0\n",
        "    \n",
        "    for i in range(0, len(nums), 2):\n",
        "        max_sum += nums[i]\n",
        "    \n",
        "    return max_sum"
      ],
      "metadata": {
        "id": "TGSeWOZ-D90Q"
      },
      "execution_count": null,
      "outputs": []
    },
    {
      "cell_type": "code",
      "source": [
        "nums = [1, 4, 3, 2]\n",
        "result = arrayPairSum(nums)\n",
        "print(result)"
      ],
      "metadata": {
        "colab": {
          "base_uri": "https://localhost:8080/"
        },
        "id": "YslyRWB4EkTw",
        "outputId": "8f9eab96-926f-4e9e-f456-23d70bcf56ae"
      },
      "execution_count": null,
      "outputs": [
        {
          "output_type": "stream",
          "name": "stdout",
          "text": [
            "4\n"
          ]
        }
      ]
    },
    {
      "cell_type": "markdown",
      "source": [
        "#Solution for question 2"
      ],
      "metadata": {
        "id": "a963UbwEYQ8c"
      }
    },
    {
      "cell_type": "code",
      "source": [
        "def maxCandies(candyType):\n",
        "    max_candies = len(candyType) // 2\n",
        "    candy_set = set()\n",
        "    \n",
        "    for candy in candyType:\n",
        "        candy_set.add(candy)\n",
        "    \n",
        "    return min(max_candies, len(candy_set))"
      ],
      "metadata": {
        "id": "ktv_NnIXXjCN"
      },
      "execution_count": null,
      "outputs": []
    },
    {
      "cell_type": "code",
      "source": [
        "candyType = [1, 1, 2, 2, 3, 3]\n",
        "print(maxCandies(candyType))"
      ],
      "metadata": {
        "colab": {
          "base_uri": "https://localhost:8080/"
        },
        "id": "ArgBuVvRXi0V",
        "outputId": "b2a8f782-47bc-4157-dd41-ae07db0b3124"
      },
      "execution_count": null,
      "outputs": [
        {
          "output_type": "stream",
          "name": "stdout",
          "text": [
            "3\n"
          ]
        }
      ]
    },
    {
      "cell_type": "markdown",
      "source": [
        "#Solution for question 3"
      ],
      "metadata": {
        "id": "qwjkCKwnYYhu"
      }
    },
    {
      "cell_type": "code",
      "source": [
        "\n",
        "def findLHS(nums):\n",
        "    num_counts = {}\n",
        "    max_length = 0\n",
        "\n",
        "    for num in nums:\n",
        "        num_counts[num] = num_counts.get(num, 0) + 1\n",
        "\n",
        "    for num in nums:\n",
        "        if num + 1 in num_counts:\n",
        "            max_length = max(max_length, num_counts[num] + num_counts[num + 1])\n",
        "\n",
        "    return max_length"
      ],
      "metadata": {
        "id": "KAtjy2-6FLtX"
      },
      "execution_count": null,
      "outputs": []
    },
    {
      "cell_type": "code",
      "source": [
        "nums = [1, 3, 2, 2, 5, 2, 3, 7]\n",
        "print(findLHS(nums))"
      ],
      "metadata": {
        "colab": {
          "base_uri": "https://localhost:8080/"
        },
        "id": "IXvubMm3GHf-",
        "outputId": "5db0dddf-1210-4501-9b14-20f2eacfd099"
      },
      "execution_count": null,
      "outputs": [
        {
          "output_type": "stream",
          "name": "stdout",
          "text": [
            "5\n"
          ]
        }
      ]
    },
    {
      "cell_type": "markdown",
      "source": [
        "#Solution for question 4"
      ],
      "metadata": {
        "id": "sINBflKgYb53"
      }
    },
    {
      "cell_type": "code",
      "source": [
        "\n",
        "def can_place_flowers(flowerbed, n):\n",
        "    count = 0\n",
        "    size = len(flowerbed)\n",
        "    for i in range(size):\n",
        "        if flowerbed[i] == 0 and (i == 0 or flowerbed[i-1] == 0) and (i == size-1 or flowerbed[i+1] == 0): # this checks if previous and next are empty or not \n",
        "            flowerbed[i] = 1\n",
        "            count += 1\n",
        "            if count >= n:\n",
        "                return True\n",
        "    return False"
      ],
      "metadata": {
        "id": "H4m3zdVLGQgs"
      },
      "execution_count": null,
      "outputs": []
    },
    {
      "cell_type": "code",
      "source": [
        "flowerbed = [1, 0, 0, 0, 1]\n",
        "n = 1\n",
        "result = can_place_flowers(flowerbed, n)\n",
        "print(result)  # Output: True"
      ],
      "metadata": {
        "colab": {
          "base_uri": "https://localhost:8080/"
        },
        "id": "EZpUvJKEK6s5",
        "outputId": "be1399c0-fbaa-44ee-eca2-b452a0fa388d"
      },
      "execution_count": null,
      "outputs": [
        {
          "output_type": "stream",
          "name": "stdout",
          "text": [
            "True\n"
          ]
        }
      ]
    },
    {
      "cell_type": "markdown",
      "source": [
        "#Solution for question 5"
      ],
      "metadata": {
        "id": "XniWPONyYeJr"
      }
    },
    {
      "cell_type": "code",
      "source": [
        "\n",
        "def maximumProduct(nums):\n",
        "    nums.sort()\n",
        "    n = len(nums)\n",
        "    product1 = nums[n-1] * nums[n-2] * nums[n-3]\n",
        "    product2 = nums[0] * nums[1] * nums[n-1]\n",
        "    return max(product1, product2)"
      ],
      "metadata": {
        "id": "0cf3WFdOLLnR"
      },
      "execution_count": null,
      "outputs": []
    },
    {
      "cell_type": "code",
      "source": [
        "nums = [1, 2,4,7,6,9,2,0,1]\n",
        "print(maximumProduct(nums))"
      ],
      "metadata": {
        "colab": {
          "base_uri": "https://localhost:8080/"
        },
        "id": "A7I2pldFNxOp",
        "outputId": "b7b464e7-6667-4601-e993-a0ee5588d66e"
      },
      "execution_count": null,
      "outputs": [
        {
          "output_type": "stream",
          "name": "stdout",
          "text": [
            "378\n"
          ]
        }
      ]
    },
    {
      "cell_type": "markdown",
      "source": [
        "#solution for question 6"
      ],
      "metadata": {
        "id": "-ARt_xn6Ygyt"
      }
    },
    {
      "cell_type": "code",
      "source": [
        "def search(nums, target):\n",
        "    left = 0\n",
        "    right = len(nums) - 1\n",
        "\n",
        "    while left <= right:\n",
        "        mid = left + (right - left) // 2\n",
        "\n",
        "        if nums[mid] == target:\n",
        "            return mid\n",
        "        elif nums[mid] < target:\n",
        "            left = mid + 1\n",
        "        else:\n",
        "            right = mid - 1\n",
        "\n",
        "    return -1"
      ],
      "metadata": {
        "id": "cI4hcwtvOBac"
      },
      "execution_count": null,
      "outputs": []
    },
    {
      "cell_type": "code",
      "source": [
        "nums = [5,2,9,5,6,9,10,112,569]\n",
        "target = 569\n",
        "\n",
        "result = search(nums, target)\n",
        "print(result)"
      ],
      "metadata": {
        "colab": {
          "base_uri": "https://localhost:8080/"
        },
        "id": "3E6f0pd7QrUL",
        "outputId": "c4cfe25c-4dc0-4c41-856d-28898624523f"
      },
      "execution_count": null,
      "outputs": [
        {
          "output_type": "stream",
          "name": "stdout",
          "text": [
            "8\n"
          ]
        }
      ]
    },
    {
      "cell_type": "markdown",
      "source": [
        "#Solution for question 7"
      ],
      "metadata": {
        "id": "viFN3kgrYjd5"
      }
    },
    {
      "cell_type": "code",
      "source": [
        "def isMonotonic(nums):\n",
        "    isIncreasing = True\n",
        "    isDecreasing = True\n",
        "\n",
        "    for i in range(1, len(nums)):\n",
        "        if nums[i] > nums[i - 1]:\n",
        "            isDecreasing = False\n",
        "        elif nums[i] < nums[i - 1]:\n",
        "            isIncreasing = False\n",
        "\n",
        "        if not isIncreasing and not isDecreasing:\n",
        "            return False\n",
        "\n",
        "    return True"
      ],
      "metadata": {
        "id": "6LV7GDl_Q8mw"
      },
      "execution_count": null,
      "outputs": []
    },
    {
      "cell_type": "code",
      "source": [
        "nums = [9,6,8,3,2,1]\n",
        "print(isMonotonic(nums))  "
      ],
      "metadata": {
        "colab": {
          "base_uri": "https://localhost:8080/"
        },
        "id": "7NYzLYJOSgXw",
        "outputId": "8cc9f86a-fcaf-4259-f156-b4e78cfbf2e6"
      },
      "execution_count": null,
      "outputs": [
        {
          "output_type": "stream",
          "name": "stdout",
          "text": [
            "False\n"
          ]
        }
      ]
    },
    {
      "cell_type": "code",
      "source": [],
      "metadata": {
        "id": "MjkPyHfDSyw6"
      },
      "execution_count": null,
      "outputs": []
    },
    {
      "cell_type": "code",
      "source": [],
      "metadata": {
        "id": "zQ4UP5VFU77N"
      },
      "execution_count": null,
      "outputs": []
    }
  ]
}